{
 "cells": [
  {
   "cell_type": "code",
   "execution_count": 1,
   "metadata": {},
   "outputs": [],
   "source": [
    "import pandas as pd"
   ]
  },
  {
   "cell_type": "code",
   "execution_count": 70,
   "metadata": {},
   "outputs": [],
   "source": [
    "df = pd.read_csv('default_gen_health_data.csv', header=None)"
   ]
  },
  {
   "cell_type": "code",
   "execution_count": 71,
   "metadata": {},
   "outputs": [
    {
     "data": {
      "text/plain": [
       "26.6"
      ]
     },
     "execution_count": 71,
     "metadata": {},
     "output_type": "execute_result"
    }
   ],
   "source": [
    "df.iloc[0][1]"
   ]
  },
  {
   "cell_type": "code",
   "execution_count": 72,
   "metadata": {},
   "outputs": [],
   "source": [
    "default_dict = {}\n",
    "for i in range(len(df)):\n",
    "    default_dict[df.iloc[i][0]] = df.iloc[i][1] "
   ]
  },
  {
   "cell_type": "code",
   "execution_count": 73,
   "metadata": {},
   "outputs": [
    {
     "data": {
      "text/plain": [
       "{'bmi': 26.6,\n",
       " 'drink_diet_soda': 1.0,\n",
       " 'drink_soda': 0.0,\n",
       " 'eating_duration_24': 26.0,\n",
       " 'exercise_frequency_last_week': 2.0,\n",
       " 'fast_food_frequency_last_week': 1.0,\n",
       " 'general_health': 4.0,\n",
       " 'grocery_shopper': 1.0,\n",
       " 'height_in': 66.0,\n",
       " 'meal_preparer': 1.0,\n",
       " 'num_children': 0.0,\n",
       " 'primary_eating_duration': 60.0,\n",
       " 'secondary_drinking_duration': 127.0,\n",
       " 'secondary_eating_day_prior': 1.0,\n",
       " 'snap_benefits': 0.0,\n",
       " 'weight_lb': 170.0,\n",
       " 'year': 2008.0}"
      ]
     },
     "execution_count": 73,
     "metadata": {},
     "output_type": "execute_result"
    }
   ],
   "source": [
    "default_dict"
   ]
  },
  {
   "cell_type": "code",
   "execution_count": 61,
   "metadata": {},
   "outputs": [
    {
     "name": "stdout",
     "output_type": "stream",
     "text": [
      "{'bmi': 26.6, 'drink_diet_soda': 1.0, 'drink_soda': 0.0, 'eating_duration_24': 27.0, 'exercise_frequency_last_week': 2.0, 'fast_food_frequency_last_week': 1.0, 'general_health': 4.0, 'grocery_shopper': 1.0, 'meal_preparer': 1.0, 'num_children': 0.0, 'primary_eating_duration': 60.0, 'secondary_drinking_duration': 126.0, 'secondary_eating_day_prior': 1.0, 'snap_benefits': 0.0, 'year': 2008.0}\n"
     ]
    }
   ],
   "source": [
    "stacked_dict = {'test_key': default_dict}\n",
    "for outer_key in stacked_dict:\n",
    "    print(stacked_dict[outer_key])"
   ]
  },
  {
   "cell_type": "code",
   "execution_count": 66,
   "metadata": {},
   "outputs": [
    {
     "data": {
      "text/plain": [
       "array([2.660e+01, 1.000e+00, 0.000e+00, 2.700e+01, 2.000e+00, 1.000e+00,\n",
       "       4.000e+00, 1.000e+00, 1.000e+00, 0.000e+00, 6.000e+01, 1.260e+02,\n",
       "       1.000e+00, 0.000e+00, 2.008e+03])"
      ]
     },
     "execution_count": 66,
     "metadata": {},
     "output_type": "execute_result"
    }
   ],
   "source": [
    "import numpy as np\n",
    "np.array(list(default_dict.values()))"
   ]
  },
  {
   "cell_type": "code",
   "execution_count": 86,
   "metadata": {},
   "outputs": [
    {
     "data": {
      "text/plain": [
       "True"
      ]
     },
     "execution_count": 86,
     "metadata": {},
     "output_type": "execute_result"
    }
   ],
   "source": [
    "list({'key_a': 'val'}.keys())[0] in {'key_a': 'val'}.keys()"
   ]
  },
  {
   "cell_type": "code",
   "execution_count": null,
   "metadata": {},
   "outputs": [],
   "source": []
  }
 ],
 "metadata": {
  "kernelspec": {
   "display_name": "Python 3",
   "language": "python",
   "name": "python3"
  },
  "language_info": {
   "codemirror_mode": {
    "name": "ipython",
    "version": 3
   },
   "file_extension": ".py",
   "mimetype": "text/x-python",
   "name": "python",
   "nbconvert_exporter": "python",
   "pygments_lexer": "ipython3",
   "version": "3.7.4"
  }
 },
 "nbformat": 4,
 "nbformat_minor": 4
}
