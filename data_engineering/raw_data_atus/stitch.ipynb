{
 "cells": [
  {
   "cell_type": "code",
   "execution_count": 1,
   "metadata": {},
   "outputs": [],
   "source": [
    "# import libraries\n",
    "import pandas as pd\n",
    "import os\n",
    "from IPython.display import display\n"
   ]
  },
  {
   "cell_type": "code",
   "execution_count": 2,
   "metadata": {},
   "outputs": [],
   "source": [
    "# Global parameters for cleaning & stitching\n",
    "years_a = [2006, 2007, 2008]\n",
    "years_b = [2014, 2015, 2016]"
   ]
  },
  {
   "cell_type": "code",
   "execution_count": 3,
   "metadata": {},
   "outputs": [
    {
     "data": {
      "text/plain": [
       "{'2006_in': ['ehact_2006.dat', 'ehchild_2006.dat', 'ehresp_2006.dat'],\n",
       " '2006_out': '2006_clean.csv',\n",
       " '2007_in': ['ehact_2007.dat', 'ehchild_2007.dat', 'ehresp_2007.dat'],\n",
       " '2007_out': '2007_clean.csv',\n",
       " '2008_in': ['ehact_2008.dat', 'ehchild_2008.dat', 'ehresp_2008.dat'],\n",
       " '2008_out': '2008_clean.csv',\n",
       " '2014_in': ['ehact_2014.dat', 'ehresp_2014.dat'],\n",
       " '2014_out': '2014_clean.csv',\n",
       " '2015_in': ['ehact_2015.dat', 'ehresp_2015.dat'],\n",
       " '2015_out': '2015_clean.csv',\n",
       " '2016_in': ['ehact_2016.dat', 'ehresp_2016.dat'],\n",
       " '2016_out': '2016_clean.csv'}"
      ]
     },
     "metadata": {},
     "output_type": "display_data"
    }
   ],
   "source": [
    "#Setup intake parameters (file_names, ...)\n",
    "file_prefix_list_a = ['ehact', 'ehchild', 'ehresp']\n",
    "file_prefix_list_b = ['ehact', 'ehresp']\n",
    "\n",
    "# populate list of files to read\n",
    "# Note: 2014-2016 may not have ehchild data.  TODO - check ATUS available data.\n",
    "params = {}\n",
    "for year in years_a:\n",
    "    year = str(year)\n",
    "    params[year+'_in'] = [x + '_' + year + '.dat' for x in file_prefix_list_a]\n",
    "    params[year+'_out'] = year + '_clean.csv'\n",
    "    \n",
    "for year in years_b:\n",
    "    year = str(year)\n",
    "    params[year+'_in'] = [x + '_' + year + '.dat' for x in file_prefix_list_b]\n",
    "    params[year+'_out'] = year + '_clean.csv'\n",
    "\n",
    "display(params)"
   ]
  },
  {
   "cell_type": "code",
   "execution_count": 4,
   "metadata": {},
   "outputs": [
    {
     "name": "stdout",
     "output_type": "stream",
     "text": [
      "Files and directories in ' C:\\Users\\vince\\Desktop\\lambdaschool_temp\\4.portfolioprojects\\eat_health ' :\n",
      ".ipynb_checkpoints\n",
      "2006_clean.csv\n",
      "archive\n",
      "atususersguide.pdf\n",
      "ehact_2006.dat\n",
      "ehact_2007.dat\n",
      "ehact_2008.dat\n",
      "ehact_2014.dat\n",
      "ehact_2015.dat\n",
      "ehact_2016.dat\n",
      "ehchild_2006.dat\n",
      "ehchild_2007.dat\n",
      "ehchild_2008.dat\n",
      "ehmintcodebk1416.pdf\n",
      "ehmintcodebk_06-08.pdf\n",
      "ehresp_2006.dat\n",
      "ehresp_2007.dat\n",
      "ehresp_2008.dat\n",
      "ehresp_2014.dat\n",
      "ehresp_2015.dat\n",
      "ehresp_2016.dat\n",
      "read_clean.ipynb\n",
      "stitch.ipynb\n"
     ]
    }
   ],
   "source": [
    "# Check present working directory for filenames\n",
    "path = os.getcwd() \n",
    "dir_list = os.listdir(path) \n",
    "  \n",
    "print(\"Files and directories in '\", path, \"' :\")  \n",
    "for item in dir_list:\n",
    "    print(item)"
   ]
  },
  {
   "cell_type": "code",
   "execution_count": 158,
   "metadata": {},
   "outputs": [
    {
     "data": {
      "text/plain": [
       "'ehact_2014.dat'"
      ]
     },
     "metadata": {},
     "output_type": "display_data"
    },
    {
     "data": {
      "text/html": [
       "<div>\n",
       "<style scoped>\n",
       "    .dataframe tbody tr th:only-of-type {\n",
       "        vertical-align: middle;\n",
       "    }\n",
       "\n",
       "    .dataframe tbody tr th {\n",
       "        vertical-align: top;\n",
       "    }\n",
       "\n",
       "    .dataframe thead th {\n",
       "        text-align: right;\n",
       "    }\n",
       "</style>\n",
       "<table border=\"1\" class=\"dataframe\">\n",
       "  <thead>\n",
       "    <tr style=\"text-align: right;\">\n",
       "      <th></th>\n",
       "      <th>TUCASEID</th>\n",
       "      <th>TUACTIVITY_N</th>\n",
       "      <th>EUEATSUM</th>\n",
       "      <th>EUEDUR</th>\n",
       "      <th>EUEDUR24</th>\n",
       "    </tr>\n",
       "  </thead>\n",
       "  <tbody>\n",
       "    <tr>\n",
       "      <th>0</th>\n",
       "      <td>20140101140007</td>\n",
       "      <td>1</td>\n",
       "      <td>-1</td>\n",
       "      <td>-1</td>\n",
       "      <td>-1</td>\n",
       "    </tr>\n",
       "    <tr>\n",
       "      <th>1</th>\n",
       "      <td>20140101140007</td>\n",
       "      <td>2</td>\n",
       "      <td>-1</td>\n",
       "      <td>-1</td>\n",
       "      <td>-1</td>\n",
       "    </tr>\n",
       "    <tr>\n",
       "      <th>2</th>\n",
       "      <td>20140101140007</td>\n",
       "      <td>3</td>\n",
       "      <td>-1</td>\n",
       "      <td>-1</td>\n",
       "      <td>-1</td>\n",
       "    </tr>\n",
       "  </tbody>\n",
       "</table>\n",
       "</div>"
      ],
      "text/plain": [
       "         TUCASEID  TUACTIVITY_N  EUEATSUM  EUEDUR  EUEDUR24\n",
       "0  20140101140007             1        -1      -1        -1\n",
       "1  20140101140007             2        -1      -1        -1\n",
       "2  20140101140007             3        -1      -1        -1"
      ]
     },
     "metadata": {},
     "output_type": "display_data"
    },
    {
     "data": {
      "text/plain": [
       "'ehresp_2014.dat'"
      ]
     },
     "metadata": {},
     "output_type": "display_data"
    },
    {
     "data": {
      "text/html": [
       "<div>\n",
       "<style scoped>\n",
       "    .dataframe tbody tr th:only-of-type {\n",
       "        vertical-align: middle;\n",
       "    }\n",
       "\n",
       "    .dataframe tbody tr th {\n",
       "        vertical-align: top;\n",
       "    }\n",
       "\n",
       "    .dataframe thead th {\n",
       "        text-align: right;\n",
       "    }\n",
       "</style>\n",
       "<table border=\"1\" class=\"dataframe\">\n",
       "  <thead>\n",
       "    <tr style=\"text-align: right;\">\n",
       "      <th></th>\n",
       "      <th>TUCASEID</th>\n",
       "      <th>TULINENO</th>\n",
       "      <th>EEINCOME1</th>\n",
       "      <th>ERBMI</th>\n",
       "      <th>ERHHCH</th>\n",
       "      <th>ERINCOME</th>\n",
       "      <th>ERSPEMCH</th>\n",
       "      <th>ERTPREAT</th>\n",
       "      <th>ERTSEAT</th>\n",
       "      <th>ETHGT</th>\n",
       "      <th>...</th>\n",
       "      <th>EUMEAT</th>\n",
       "      <th>EUMILK</th>\n",
       "      <th>EUPRPMEL</th>\n",
       "      <th>EUSODA</th>\n",
       "      <th>EUSTORES</th>\n",
       "      <th>EUSTREASON</th>\n",
       "      <th>EUTHERM</th>\n",
       "      <th>EUWGT</th>\n",
       "      <th>EUWIC</th>\n",
       "      <th>EXINCOME1</th>\n",
       "    </tr>\n",
       "  </thead>\n",
       "  <tbody>\n",
       "    <tr>\n",
       "      <th>0</th>\n",
       "      <td>20140101140007</td>\n",
       "      <td>1</td>\n",
       "      <td>-2</td>\n",
       "      <td>33.2</td>\n",
       "      <td>1</td>\n",
       "      <td>-1</td>\n",
       "      <td>-1</td>\n",
       "      <td>30</td>\n",
       "      <td>2</td>\n",
       "      <td>0</td>\n",
       "      <td>...</td>\n",
       "      <td>1</td>\n",
       "      <td>2</td>\n",
       "      <td>1</td>\n",
       "      <td>-1</td>\n",
       "      <td>2</td>\n",
       "      <td>1</td>\n",
       "      <td>2</td>\n",
       "      <td>170</td>\n",
       "      <td>1</td>\n",
       "      <td>2</td>\n",
       "    </tr>\n",
       "    <tr>\n",
       "      <th>1</th>\n",
       "      <td>20140101140011</td>\n",
       "      <td>1</td>\n",
       "      <td>1</td>\n",
       "      <td>22.7</td>\n",
       "      <td>3</td>\n",
       "      <td>1</td>\n",
       "      <td>-1</td>\n",
       "      <td>45</td>\n",
       "      <td>14</td>\n",
       "      <td>0</td>\n",
       "      <td>...</td>\n",
       "      <td>1</td>\n",
       "      <td>2</td>\n",
       "      <td>1</td>\n",
       "      <td>-1</td>\n",
       "      <td>1</td>\n",
       "      <td>2</td>\n",
       "      <td>2</td>\n",
       "      <td>128</td>\n",
       "      <td>2</td>\n",
       "      <td>0</td>\n",
       "    </tr>\n",
       "    <tr>\n",
       "      <th>2</th>\n",
       "      <td>20140101140028</td>\n",
       "      <td>1</td>\n",
       "      <td>2</td>\n",
       "      <td>49.4</td>\n",
       "      <td>3</td>\n",
       "      <td>5</td>\n",
       "      <td>-1</td>\n",
       "      <td>60</td>\n",
       "      <td>0</td>\n",
       "      <td>0</td>\n",
       "      <td>...</td>\n",
       "      <td>-1</td>\n",
       "      <td>-1</td>\n",
       "      <td>2</td>\n",
       "      <td>2</td>\n",
       "      <td>-1</td>\n",
       "      <td>-1</td>\n",
       "      <td>-1</td>\n",
       "      <td>270</td>\n",
       "      <td>2</td>\n",
       "      <td>12</td>\n",
       "    </tr>\n",
       "  </tbody>\n",
       "</table>\n",
       "<p>3 rows × 37 columns</p>\n",
       "</div>"
      ],
      "text/plain": [
       "         TUCASEID  TULINENO  EEINCOME1  ERBMI  ERHHCH  ERINCOME  ERSPEMCH  \\\n",
       "0  20140101140007         1         -2   33.2       1        -1        -1   \n",
       "1  20140101140011         1          1   22.7       3         1        -1   \n",
       "2  20140101140028         1          2   49.4       3         5        -1   \n",
       "\n",
       "   ERTPREAT  ERTSEAT  ETHGT  ...  EUMEAT  EUMILK  EUPRPMEL  EUSODA  EUSTORES  \\\n",
       "0        30        2      0  ...       1       2         1      -1         2   \n",
       "1        45       14      0  ...       1       2         1      -1         1   \n",
       "2        60        0      0  ...      -1      -1         2       2        -1   \n",
       "\n",
       "   EUSTREASON  EUTHERM  EUWGT  EUWIC  EXINCOME1  \n",
       "0           1        2    170      1          2  \n",
       "1           2        2    128      2          0  \n",
       "2          -1       -1    270      2         12  \n",
       "\n",
       "[3 rows x 37 columns]"
      ]
     },
     "metadata": {},
     "output_type": "display_data"
    }
   ],
   "source": [
    "# Intake data\n",
    "\n",
    "# Filter Control\n",
    "year = 2014\n",
    "\n",
    "input_file_list = params[str(year)+'_in']\n",
    "\n",
    "working_data = {}\n",
    "for input_file in input_file_list:\n",
    "    working_data[input_file] = pd.read_csv(input_file)\n",
    "\n",
    "for key, item in working_data.items():\n",
    "    display(key, item.head(3))"
   ]
  },
  {
   "cell_type": "code",
   "execution_count": 159,
   "metadata": {},
   "outputs": [
    {
     "data": {
      "text/plain": [
       "'2014_clean.csv'"
      ]
     },
     "execution_count": 159,
     "metadata": {},
     "output_type": "execute_result"
    }
   ],
   "source": [
    "# Output Prep\n",
    "output_file_name = params[str(year)+'_out']\n",
    "output_file_name"
   ]
  },
  {
   "cell_type": "markdown",
   "metadata": {},
   "source": [
    "## Interpret/Transform: Eating & Health Activity File (EHACT)\n",
    "**Identify data to keep.  Drop per column name match criteria (see below)**\n",
    "\n",
    "--2006 Thru 2008--\n",
    "* TUCASEID: case_id\n",
    "* TUACTIVITY_N: activity_number\n",
    "* EUEATSUM: eating_during_activity\n",
    "* EUDRKSUM: drinking_during_activity (non-water implied for analysis.  not included in new var name)\n",
    "* EUEDUR: eating_duration\n",
    "* EUDDUR: drinking_duration\n",
    "* EUEDUR24: eating_duration_24h\n",
    "* EUDDUR24: drinking_druation_24h\n",
    "\n",
    "**Note, EHACT does not include demographic information needed for application**\n",
    "\n",
    "For ease of client understanding and analysis (as well as applicationd development), EUEDUR24/EUDDUR24 will be used in lieu of EUEDUR and EUDDUR."
   ]
  },
  {
   "cell_type": "code",
   "execution_count": 160,
   "metadata": {},
   "outputs": [
    {
     "ename": "KeyError",
     "evalue": "\"['EUDDUR'] not found in axis\"",
     "output_type": "error",
     "traceback": [
      "\u001b[1;31m---------------------------------------------------------------------------\u001b[0m",
      "\u001b[1;31mKeyError\u001b[0m                                  Traceback (most recent call last)",
      "\u001b[1;32m<ipython-input-160-9dae13843493>\u001b[0m in \u001b[0;36m<module>\u001b[1;34m\u001b[0m\n\u001b[1;32m----> 1\u001b[1;33m \u001b[0mehact\u001b[0m \u001b[1;33m=\u001b[0m \u001b[0mworking_data\u001b[0m\u001b[1;33m[\u001b[0m\u001b[0minput_file_list\u001b[0m\u001b[1;33m[\u001b[0m\u001b[1;36m0\u001b[0m\u001b[1;33m]\u001b[0m\u001b[1;33m]\u001b[0m\u001b[1;33m.\u001b[0m\u001b[0mdrop\u001b[0m\u001b[1;33m(\u001b[0m\u001b[0mcolumns\u001b[0m\u001b[1;33m=\u001b[0m\u001b[1;33m[\u001b[0m\u001b[1;34m'EUEDUR'\u001b[0m\u001b[1;33m,\u001b[0m \u001b[1;34m'EUDDUR'\u001b[0m\u001b[1;33m]\u001b[0m\u001b[1;33m)\u001b[0m\u001b[1;33m.\u001b[0m\u001b[0mcopy\u001b[0m\u001b[1;33m(\u001b[0m\u001b[1;33m)\u001b[0m\u001b[1;33m\u001b[0m\u001b[1;33m\u001b[0m\u001b[0m\n\u001b[0m",
      "\u001b[1;32m~\\Anaconda3\\envs\\datasc\\lib\\site-packages\\pandas\\core\\frame.py\u001b[0m in \u001b[0;36mdrop\u001b[1;34m(self, labels, axis, index, columns, level, inplace, errors)\u001b[0m\n\u001b[0;32m   3938\u001b[0m                                            \u001b[0mindex\u001b[0m\u001b[1;33m=\u001b[0m\u001b[0mindex\u001b[0m\u001b[1;33m,\u001b[0m \u001b[0mcolumns\u001b[0m\u001b[1;33m=\u001b[0m\u001b[0mcolumns\u001b[0m\u001b[1;33m,\u001b[0m\u001b[1;33m\u001b[0m\u001b[1;33m\u001b[0m\u001b[0m\n\u001b[0;32m   3939\u001b[0m                                            \u001b[0mlevel\u001b[0m\u001b[1;33m=\u001b[0m\u001b[0mlevel\u001b[0m\u001b[1;33m,\u001b[0m \u001b[0minplace\u001b[0m\u001b[1;33m=\u001b[0m\u001b[0minplace\u001b[0m\u001b[1;33m,\u001b[0m\u001b[1;33m\u001b[0m\u001b[1;33m\u001b[0m\u001b[0m\n\u001b[1;32m-> 3940\u001b[1;33m                                            errors=errors)\n\u001b[0m\u001b[0;32m   3941\u001b[0m \u001b[1;33m\u001b[0m\u001b[0m\n\u001b[0;32m   3942\u001b[0m     @rewrite_axis_style_signature('mapper', [('copy', True),\n",
      "\u001b[1;32m~\\Anaconda3\\envs\\datasc\\lib\\site-packages\\pandas\\core\\generic.py\u001b[0m in \u001b[0;36mdrop\u001b[1;34m(self, labels, axis, index, columns, level, inplace, errors)\u001b[0m\n\u001b[0;32m   3778\u001b[0m         \u001b[1;32mfor\u001b[0m \u001b[0maxis\u001b[0m\u001b[1;33m,\u001b[0m \u001b[0mlabels\u001b[0m \u001b[1;32min\u001b[0m \u001b[0maxes\u001b[0m\u001b[1;33m.\u001b[0m\u001b[0mitems\u001b[0m\u001b[1;33m(\u001b[0m\u001b[1;33m)\u001b[0m\u001b[1;33m:\u001b[0m\u001b[1;33m\u001b[0m\u001b[1;33m\u001b[0m\u001b[0m\n\u001b[0;32m   3779\u001b[0m             \u001b[1;32mif\u001b[0m \u001b[0mlabels\u001b[0m \u001b[1;32mis\u001b[0m \u001b[1;32mnot\u001b[0m \u001b[1;32mNone\u001b[0m\u001b[1;33m:\u001b[0m\u001b[1;33m\u001b[0m\u001b[1;33m\u001b[0m\u001b[0m\n\u001b[1;32m-> 3780\u001b[1;33m                 \u001b[0mobj\u001b[0m \u001b[1;33m=\u001b[0m \u001b[0mobj\u001b[0m\u001b[1;33m.\u001b[0m\u001b[0m_drop_axis\u001b[0m\u001b[1;33m(\u001b[0m\u001b[0mlabels\u001b[0m\u001b[1;33m,\u001b[0m \u001b[0maxis\u001b[0m\u001b[1;33m,\u001b[0m \u001b[0mlevel\u001b[0m\u001b[1;33m=\u001b[0m\u001b[0mlevel\u001b[0m\u001b[1;33m,\u001b[0m \u001b[0merrors\u001b[0m\u001b[1;33m=\u001b[0m\u001b[0merrors\u001b[0m\u001b[1;33m)\u001b[0m\u001b[1;33m\u001b[0m\u001b[1;33m\u001b[0m\u001b[0m\n\u001b[0m\u001b[0;32m   3781\u001b[0m \u001b[1;33m\u001b[0m\u001b[0m\n\u001b[0;32m   3782\u001b[0m         \u001b[1;32mif\u001b[0m \u001b[0minplace\u001b[0m\u001b[1;33m:\u001b[0m\u001b[1;33m\u001b[0m\u001b[1;33m\u001b[0m\u001b[0m\n",
      "\u001b[1;32m~\\Anaconda3\\envs\\datasc\\lib\\site-packages\\pandas\\core\\generic.py\u001b[0m in \u001b[0;36m_drop_axis\u001b[1;34m(self, labels, axis, level, errors)\u001b[0m\n\u001b[0;32m   3810\u001b[0m                 \u001b[0mnew_axis\u001b[0m \u001b[1;33m=\u001b[0m \u001b[0maxis\u001b[0m\u001b[1;33m.\u001b[0m\u001b[0mdrop\u001b[0m\u001b[1;33m(\u001b[0m\u001b[0mlabels\u001b[0m\u001b[1;33m,\u001b[0m \u001b[0mlevel\u001b[0m\u001b[1;33m=\u001b[0m\u001b[0mlevel\u001b[0m\u001b[1;33m,\u001b[0m \u001b[0merrors\u001b[0m\u001b[1;33m=\u001b[0m\u001b[0merrors\u001b[0m\u001b[1;33m)\u001b[0m\u001b[1;33m\u001b[0m\u001b[1;33m\u001b[0m\u001b[0m\n\u001b[0;32m   3811\u001b[0m             \u001b[1;32melse\u001b[0m\u001b[1;33m:\u001b[0m\u001b[1;33m\u001b[0m\u001b[1;33m\u001b[0m\u001b[0m\n\u001b[1;32m-> 3812\u001b[1;33m                 \u001b[0mnew_axis\u001b[0m \u001b[1;33m=\u001b[0m \u001b[0maxis\u001b[0m\u001b[1;33m.\u001b[0m\u001b[0mdrop\u001b[0m\u001b[1;33m(\u001b[0m\u001b[0mlabels\u001b[0m\u001b[1;33m,\u001b[0m \u001b[0merrors\u001b[0m\u001b[1;33m=\u001b[0m\u001b[0merrors\u001b[0m\u001b[1;33m)\u001b[0m\u001b[1;33m\u001b[0m\u001b[1;33m\u001b[0m\u001b[0m\n\u001b[0m\u001b[0;32m   3813\u001b[0m             \u001b[0mresult\u001b[0m \u001b[1;33m=\u001b[0m \u001b[0mself\u001b[0m\u001b[1;33m.\u001b[0m\u001b[0mreindex\u001b[0m\u001b[1;33m(\u001b[0m\u001b[1;33m**\u001b[0m\u001b[1;33m{\u001b[0m\u001b[0maxis_name\u001b[0m\u001b[1;33m:\u001b[0m \u001b[0mnew_axis\u001b[0m\u001b[1;33m}\u001b[0m\u001b[1;33m)\u001b[0m\u001b[1;33m\u001b[0m\u001b[1;33m\u001b[0m\u001b[0m\n\u001b[0;32m   3814\u001b[0m \u001b[1;33m\u001b[0m\u001b[0m\n",
      "\u001b[1;32m~\\Anaconda3\\envs\\datasc\\lib\\site-packages\\pandas\\core\\indexes\\base.py\u001b[0m in \u001b[0;36mdrop\u001b[1;34m(self, labels, errors)\u001b[0m\n\u001b[0;32m   4963\u001b[0m             \u001b[1;32mif\u001b[0m \u001b[0merrors\u001b[0m \u001b[1;33m!=\u001b[0m \u001b[1;34m'ignore'\u001b[0m\u001b[1;33m:\u001b[0m\u001b[1;33m\u001b[0m\u001b[1;33m\u001b[0m\u001b[0m\n\u001b[0;32m   4964\u001b[0m                 raise KeyError(\n\u001b[1;32m-> 4965\u001b[1;33m                     '{} not found in axis'.format(labels[mask]))\n\u001b[0m\u001b[0;32m   4966\u001b[0m             \u001b[0mindexer\u001b[0m \u001b[1;33m=\u001b[0m \u001b[0mindexer\u001b[0m\u001b[1;33m[\u001b[0m\u001b[1;33m~\u001b[0m\u001b[0mmask\u001b[0m\u001b[1;33m]\u001b[0m\u001b[1;33m\u001b[0m\u001b[1;33m\u001b[0m\u001b[0m\n\u001b[0;32m   4967\u001b[0m         \u001b[1;32mreturn\u001b[0m \u001b[0mself\u001b[0m\u001b[1;33m.\u001b[0m\u001b[0mdelete\u001b[0m\u001b[1;33m(\u001b[0m\u001b[0mindexer\u001b[0m\u001b[1;33m)\u001b[0m\u001b[1;33m\u001b[0m\u001b[1;33m\u001b[0m\u001b[0m\n",
      "\u001b[1;31mKeyError\u001b[0m: \"['EUDDUR'] not found in axis\""
     ]
    }
   ],
   "source": [
    "ehact = working_data[input_file_list[0]].drop(columns=['EUEDUR', 'EUDDUR']).copy()"
   ]
  },
  {
   "cell_type": "code",
   "execution_count": 118,
   "metadata": {},
   "outputs": [
    {
     "data": {
      "text/html": [
       "<div>\n",
       "<style scoped>\n",
       "    .dataframe tbody tr th:only-of-type {\n",
       "        vertical-align: middle;\n",
       "    }\n",
       "\n",
       "    .dataframe tbody tr th {\n",
       "        vertical-align: top;\n",
       "    }\n",
       "\n",
       "    .dataframe thead th {\n",
       "        text-align: right;\n",
       "    }\n",
       "</style>\n",
       "<table border=\"1\" class=\"dataframe\">\n",
       "  <thead>\n",
       "    <tr style=\"text-align: right;\">\n",
       "      <th></th>\n",
       "      <th>case_id</th>\n",
       "      <th>activity_number</th>\n",
       "      <th>eating_during_activity</th>\n",
       "      <th>drinking_during_activity</th>\n",
       "      <th>eating_duration_24</th>\n",
       "      <th>drinking_duration_24</th>\n",
       "    </tr>\n",
       "  </thead>\n",
       "  <tbody>\n",
       "    <tr>\n",
       "      <th>0</th>\n",
       "      <td>20080101080102</td>\n",
       "      <td>1</td>\n",
       "      <td>-1</td>\n",
       "      <td>-1</td>\n",
       "      <td>-1</td>\n",
       "      <td>-1</td>\n",
       "    </tr>\n",
       "    <tr>\n",
       "      <th>1</th>\n",
       "      <td>20080101080102</td>\n",
       "      <td>2</td>\n",
       "      <td>-1</td>\n",
       "      <td>-1</td>\n",
       "      <td>-1</td>\n",
       "      <td>-1</td>\n",
       "    </tr>\n",
       "  </tbody>\n",
       "</table>\n",
       "</div>"
      ],
      "text/plain": [
       "          case_id  activity_number  eating_during_activity  \\\n",
       "0  20080101080102                1                      -1   \n",
       "1  20080101080102                2                      -1   \n",
       "\n",
       "   drinking_during_activity  eating_duration_24  drinking_duration_24  \n",
       "0                        -1                  -1                    -1  \n",
       "1                        -1                  -1                    -1  "
      ]
     },
     "metadata": {},
     "output_type": "display_data"
    }
   ],
   "source": [
    "ehact_columns = [\n",
    "    'case_id', 'activity_number', 'eating_during_activity', \n",
    "    'drinking_during_activity', 'eating_duration_24', 'drinking_duration_24'\n",
    "]\n",
    "ehact.columns = ehact_columns\n",
    "display(ehact.head(2))"
   ]
  },
  {
   "cell_type": "markdown",
   "metadata": {},
   "source": [
    "### Deal with missing values or unusable data for our use case\n",
    "\n",
    "**Acceptable values:\n",
    "\n",
    "* eating_during_activity or drinking_during_activity are (0,1)\n",
    "* eating_duration_24, drinking_duration_24 (>1 & <1440)"
   ]
  },
  {
   "cell_type": "code",
   "execution_count": 119,
   "metadata": {},
   "outputs": [],
   "source": [
    "import numpy as np\n",
    "\n",
    "def allocation_check(x):\n",
    "    '''\n",
    "    Check allocation column for acceptable value and apply np.nan/0 to missing data.\n",
    "    ATUS allocation values:\n",
    "        0 Value – no change\n",
    "        10 Value to value\n",
    "        11 Blank to value\n",
    "        12 Don’t know to value\n",
    "        13 Refused to value\n",
    "        21 Blank to longitudinal value\n",
    "        22 Don’t know to longitudinal value\n",
    "        23 Refused to longitudinal value\n",
    "        30 Value to allocated longitudinal value (unused)\n",
    "        31 Blank to allocated longitudinal value (unused)\n",
    "        32 Don’t know to allocated longitudinal value (unused)\n",
    "        33 Refused to allocated longitudinal value (unused)\n",
    "        40 Value to allocated value\n",
    "        41 Blank to allocated value\n",
    "        42 Don’t know to allocated value\n",
    "        43 Refused to allocated value\n",
    "        71 Refused to assigned from respondent's earnings\n",
    "        72 Don't know to assigned from earnings of respondent's spouse or unmarried partner\n",
    "        73 Don't know to assigned from earnings of respondent's other household members (not spouse or unmarried partner)\n",
    "        74 Don't know to assigned from earnings of respondent and respondent's spouse or unmarried partner\n",
    "        75 Don't know to assigned from earnings of respondent and respondent's other household members (not spouse or unmarried partner)\n",
    "        76 Don't know to assigned from earnings of respondent's spouse or unmarried partner and respondent's other household members\n",
    "        77 Don't know to assigned from earnings of respondent, respondent's spouse or unmarried partner, and respondent's other household members\n",
    "        81 Refused to assigned from respondent's earnings\n",
    "        82 Refused to assigned from earnings of respondent's spouse or unmarried partner\n",
    "        83 Refused to assigned from earnings of respondent's other household members (not spouse or unmarried partner)\n",
    "        84 Refused to assigned from earnings of respondent and respondent's spouse or unmarried partner\n",
    "        85 Refused to assigned from earnings of respondent and respondent's other household members (not spouse or unmarried partner)\n",
    "        86 Refused to assigned from earnings of respondent's spouse or unmarried partner and respondent's other household members\n",
    "        87 Refused to assigned from earnings of respondent, respondent's spouse or unmarried partner, and respondent's other household members\n",
    "    \n",
    "    '''\n",
    "    value_present_allocations = [0, 10, 11, 12, 13, 21, 22, 23, 30, 31, 32, 33,\n",
    "                                 40, 41, 42, 43, 71, 72, 73, 74, 75, 76, 77,\n",
    "                                81, 82, 83, 84, 85, 86, 87]\n",
    "    if x in value_present_allocations:\n",
    "        return 1\n",
    "    else:\n",
    "        return 0\n",
    "    "
   ]
  },
  {
   "cell_type": "code",
   "execution_count": 120,
   "metadata": {},
   "outputs": [],
   "source": [
    "import numpy as np\n",
    "\n",
    "def value_check(x, minima, maxima, nan_opt):\n",
    "    if x >= minima and x <= maxima:\n",
    "        return x\n",
    "    else:\n",
    "        if nan_opt:\n",
    "            return np.nan\n",
    "        else:\n",
    "            return 0"
   ]
  },
  {
   "cell_type": "code",
   "execution_count": 121,
   "metadata": {},
   "outputs": [
    {
     "data": {
      "text/plain": [
       "-1     131019\n",
       " 10      2198\n",
       " 5       2044\n",
       " 15      1526\n",
       " 30      1213\n",
       "Name: eating_duration_24, dtype: int64"
      ]
     },
     "execution_count": 121,
     "metadata": {},
     "output_type": "execute_result"
    }
   ],
   "source": [
    "ehact.eating_duration_24.value_counts().head()"
   ]
  },
  {
   "cell_type": "code",
   "execution_count": 122,
   "metadata": {},
   "outputs": [
    {
     "data": {
      "text/plain": [
       "0    131019\n",
       "1     11297\n",
       "Name: eating_during_activity, dtype: int64"
      ]
     },
     "execution_count": 122,
     "metadata": {},
     "output_type": "execute_result"
    }
   ],
   "source": [
    "# Convert -1 to 0 for multiplication to eating_duration_24\n",
    "ehact['eating_during_activity'] = ehact.eating_during_activity.apply(value_check, args=(0,2,False))\n",
    "ehact['drinking_during_activity'] = ehact.drinking_during_activity.apply(value_check, args=(0,2,False))\n",
    "\n",
    "ehact.eating_during_activity.value_counts()"
   ]
  },
  {
   "cell_type": "code",
   "execution_count": 123,
   "metadata": {},
   "outputs": [],
   "source": [
    "# Multiply binary existance (eating_during_activity) by duration to standardize missing values as 0.\n",
    "# Then keep only positive numbers.\n",
    "# Drop binary existance columns\n",
    "ehact['eating_duration_24'] = ehact['eating_duration_24'] * ehact['eating_during_activity']\n",
    "ehact['drinking_duration_24'] = ehact['drinking_duration_24'] * ehact['drinking_during_activity']\n",
    "\n",
    "ehact = ehact.drop(columns=['eating_during_activity', 'drinking_during_activity'])\n",
    "\n",
    "ehact['eating_duration_24'] = ehact['eating_duration_24'].apply(value_check, args=(1,1440, True))\n",
    "ehact['drinking_duration_24'] = ehact['drinking_duration_24'].apply(value_check, args=(1,1440, True))"
   ]
  },
  {
   "cell_type": "code",
   "execution_count": 124,
   "metadata": {},
   "outputs": [
    {
     "data": {
      "text/plain": [
       "6923"
      ]
     },
     "metadata": {},
     "output_type": "display_data"
    },
    {
     "data": {
      "text/plain": [
       "(142316, 4)"
      ]
     },
     "metadata": {},
     "output_type": "display_data"
    }
   ],
   "source": [
    "display(ehact.case_id.nunique(), ehact.shape)"
   ]
  },
  {
   "cell_type": "code",
   "execution_count": 125,
   "metadata": {},
   "outputs": [],
   "source": [
    "# Groupby case_id to create features secondary_eating_24, secondary_drinking_24\n",
    "# Turn activity_numbers into list/case_id so summation retains all activities.\n",
    "# Store in new value activity_list"
   ]
  },
  {
   "cell_type": "code",
   "execution_count": 126,
   "metadata": {},
   "outputs": [
    {
     "data": {
      "text/html": [
       "<div>\n",
       "<style scoped>\n",
       "    .dataframe tbody tr th:only-of-type {\n",
       "        vertical-align: middle;\n",
       "    }\n",
       "\n",
       "    .dataframe tbody tr th {\n",
       "        vertical-align: top;\n",
       "    }\n",
       "\n",
       "    .dataframe thead th {\n",
       "        text-align: right;\n",
       "    }\n",
       "</style>\n",
       "<table border=\"1\" class=\"dataframe\">\n",
       "  <thead>\n",
       "    <tr style=\"text-align: right;\">\n",
       "      <th></th>\n",
       "      <th>case_id</th>\n",
       "      <th>activity_number</th>\n",
       "      <th>eating_duration_24</th>\n",
       "      <th>drinking_duration_24</th>\n",
       "    </tr>\n",
       "  </thead>\n",
       "  <tbody>\n",
       "    <tr>\n",
       "      <th>3</th>\n",
       "      <td>20080101080102</td>\n",
       "      <td>4</td>\n",
       "      <td>5.0</td>\n",
       "      <td>5.0</td>\n",
       "    </tr>\n",
       "    <tr>\n",
       "      <th>21</th>\n",
       "      <td>20080101080102</td>\n",
       "      <td>22</td>\n",
       "      <td>20.0</td>\n",
       "      <td>20.0</td>\n",
       "    </tr>\n",
       "    <tr>\n",
       "      <th>25</th>\n",
       "      <td>20080101080102</td>\n",
       "      <td>26</td>\n",
       "      <td>NaN</td>\n",
       "      <td>30.0</td>\n",
       "    </tr>\n",
       "    <tr>\n",
       "      <th>32</th>\n",
       "      <td>20080101080116</td>\n",
       "      <td>6</td>\n",
       "      <td>30.0</td>\n",
       "      <td>30.0</td>\n",
       "    </tr>\n",
       "    <tr>\n",
       "      <th>33</th>\n",
       "      <td>20080101080116</td>\n",
       "      <td>7</td>\n",
       "      <td>NaN</td>\n",
       "      <td>30.0</td>\n",
       "    </tr>\n",
       "  </tbody>\n",
       "</table>\n",
       "</div>"
      ],
      "text/plain": [
       "           case_id  activity_number  eating_duration_24  drinking_duration_24\n",
       "3   20080101080102                4                 5.0                   5.0\n",
       "21  20080101080102               22                20.0                  20.0\n",
       "25  20080101080102               26                 NaN                  30.0\n",
       "32  20080101080116                6                30.0                  30.0\n",
       "33  20080101080116                7                 NaN                  30.0"
      ]
     },
     "execution_count": 126,
     "metadata": {},
     "output_type": "execute_result"
    }
   ],
   "source": [
    "# Return rows with information\n",
    "ehact_condensed = ehact[ehact['eating_duration_24'].notna() | ehact['drinking_duration_24'].notna()]\n",
    "ehact_condensed.head()"
   ]
  },
  {
   "cell_type": "code",
   "execution_count": 127,
   "metadata": {},
   "outputs": [],
   "source": [
    "# Get a list of all ids to query\n",
    "active_ids = ehact_condensed.case_id.unique().tolist()\n",
    "\n",
    "# Query each id and return list of activities stored in dictionary\n",
    "activity_dict = {}\n",
    "for active_id in active_ids:\n",
    "    activity_dict[active_id] = ','.join(ehact_condensed.loc[ehact_condensed.case_id==active_id].activity_number.astype(str).tolist())"
   ]
  },
  {
   "cell_type": "code",
   "execution_count": 128,
   "metadata": {},
   "outputs": [
    {
     "data": {
      "text/html": [
       "<div>\n",
       "<style scoped>\n",
       "    .dataframe tbody tr th:only-of-type {\n",
       "        vertical-align: middle;\n",
       "    }\n",
       "\n",
       "    .dataframe tbody tr th {\n",
       "        vertical-align: top;\n",
       "    }\n",
       "\n",
       "    .dataframe thead th {\n",
       "        text-align: right;\n",
       "    }\n",
       "</style>\n",
       "<table border=\"1\" class=\"dataframe\">\n",
       "  <thead>\n",
       "    <tr style=\"text-align: right;\">\n",
       "      <th></th>\n",
       "      <th>eating_duration_24</th>\n",
       "      <th>drinking_duration_24</th>\n",
       "    </tr>\n",
       "    <tr>\n",
       "      <th>case_id</th>\n",
       "      <th></th>\n",
       "      <th></th>\n",
       "    </tr>\n",
       "  </thead>\n",
       "  <tbody>\n",
       "    <tr>\n",
       "      <th>20080101080102</th>\n",
       "      <td>25.0</td>\n",
       "      <td>55.0</td>\n",
       "    </tr>\n",
       "    <tr>\n",
       "      <th>20080101080116</th>\n",
       "      <td>30.0</td>\n",
       "      <td>135.0</td>\n",
       "    </tr>\n",
       "    <tr>\n",
       "      <th>20080101080145</th>\n",
       "      <td>5.0</td>\n",
       "      <td>5.0</td>\n",
       "    </tr>\n",
       "    <tr>\n",
       "      <th>20080101080164</th>\n",
       "      <td>15.0</td>\n",
       "      <td>115.0</td>\n",
       "    </tr>\n",
       "    <tr>\n",
       "      <th>20080101080504</th>\n",
       "      <td>30.0</td>\n",
       "      <td>0.0</td>\n",
       "    </tr>\n",
       "  </tbody>\n",
       "</table>\n",
       "</div>"
      ],
      "text/plain": [
       "                eating_duration_24  drinking_duration_24\n",
       "case_id                                                 \n",
       "20080101080102                25.0                  55.0\n",
       "20080101080116                30.0                 135.0\n",
       "20080101080145                 5.0                   5.0\n",
       "20080101080164                15.0                 115.0\n",
       "20080101080504                30.0                   0.0"
      ]
     },
     "execution_count": 128,
     "metadata": {},
     "output_type": "execute_result"
    }
   ],
   "source": [
    "# Summation by case_id.  groupby automatically re|sets index to case_id\n",
    "ehact_condensed = ehact_condensed[['case_id', 'eating_duration_24', 'drinking_duration_24']].groupby('case_id').sum()\n",
    "ehact_condensed.head()"
   ]
  },
  {
   "cell_type": "code",
   "execution_count": 129,
   "metadata": {},
   "outputs": [
    {
     "data": {
      "text/html": [
       "<div>\n",
       "<style scoped>\n",
       "    .dataframe tbody tr th:only-of-type {\n",
       "        vertical-align: middle;\n",
       "    }\n",
       "\n",
       "    .dataframe tbody tr th {\n",
       "        vertical-align: top;\n",
       "    }\n",
       "\n",
       "    .dataframe thead th {\n",
       "        text-align: right;\n",
       "    }\n",
       "</style>\n",
       "<table border=\"1\" class=\"dataframe\">\n",
       "  <thead>\n",
       "    <tr style=\"text-align: right;\">\n",
       "      <th></th>\n",
       "      <th>activity_list</th>\n",
       "    </tr>\n",
       "    <tr>\n",
       "      <th>case_id</th>\n",
       "      <th></th>\n",
       "    </tr>\n",
       "  </thead>\n",
       "  <tbody>\n",
       "    <tr>\n",
       "      <th>20080101080102</th>\n",
       "      <td>4,22,26</td>\n",
       "    </tr>\n",
       "    <tr>\n",
       "      <th>20080101080116</th>\n",
       "      <td>6,7,8,11</td>\n",
       "    </tr>\n",
       "    <tr>\n",
       "      <th>20080101080145</th>\n",
       "      <td>8,22</td>\n",
       "    </tr>\n",
       "    <tr>\n",
       "      <th>20080101080164</th>\n",
       "      <td>3,26,30</td>\n",
       "    </tr>\n",
       "    <tr>\n",
       "      <th>20080101080504</th>\n",
       "      <td>4,5</td>\n",
       "    </tr>\n",
       "  </tbody>\n",
       "</table>\n",
       "</div>"
      ],
      "text/plain": [
       "               activity_list\n",
       "case_id                     \n",
       "20080101080102       4,22,26\n",
       "20080101080116      6,7,8,11\n",
       "20080101080145          8,22\n",
       "20080101080164       3,26,30\n",
       "20080101080504           4,5"
      ]
     },
     "execution_count": 129,
     "metadata": {},
     "output_type": "execute_result"
    }
   ],
   "source": [
    "# Add back activity list.  All this work is the equivalent of unstacking...well ok\n",
    "list_activities = pd.DataFrame.from_dict(activity_dict, orient='index')\n",
    "list_activities.columns = ['activity_list']\n",
    "list_activities.index = list_activities.index.set_names('case_id')\n",
    "list_activities.head()"
   ]
  },
  {
   "cell_type": "code",
   "execution_count": 130,
   "metadata": {},
   "outputs": [
    {
     "data": {
      "text/html": [
       "<div>\n",
       "<style scoped>\n",
       "    .dataframe tbody tr th:only-of-type {\n",
       "        vertical-align: middle;\n",
       "    }\n",
       "\n",
       "    .dataframe tbody tr th {\n",
       "        vertical-align: top;\n",
       "    }\n",
       "\n",
       "    .dataframe thead th {\n",
       "        text-align: right;\n",
       "    }\n",
       "</style>\n",
       "<table border=\"1\" class=\"dataframe\">\n",
       "  <thead>\n",
       "    <tr style=\"text-align: right;\">\n",
       "      <th></th>\n",
       "      <th>eating_duration_24</th>\n",
       "      <th>drinking_duration_24</th>\n",
       "      <th>activity_list</th>\n",
       "    </tr>\n",
       "    <tr>\n",
       "      <th>case_id</th>\n",
       "      <th></th>\n",
       "      <th></th>\n",
       "      <th></th>\n",
       "    </tr>\n",
       "  </thead>\n",
       "  <tbody>\n",
       "    <tr>\n",
       "      <th>20080101080102</th>\n",
       "      <td>25.0</td>\n",
       "      <td>55.0</td>\n",
       "      <td>4,22,26</td>\n",
       "    </tr>\n",
       "    <tr>\n",
       "      <th>20080101080116</th>\n",
       "      <td>30.0</td>\n",
       "      <td>135.0</td>\n",
       "      <td>6,7,8,11</td>\n",
       "    </tr>\n",
       "    <tr>\n",
       "      <th>20080101080145</th>\n",
       "      <td>5.0</td>\n",
       "      <td>5.0</td>\n",
       "      <td>8,22</td>\n",
       "    </tr>\n",
       "    <tr>\n",
       "      <th>20080101080164</th>\n",
       "      <td>15.0</td>\n",
       "      <td>115.0</td>\n",
       "      <td>3,26,30</td>\n",
       "    </tr>\n",
       "    <tr>\n",
       "      <th>20080101080504</th>\n",
       "      <td>30.0</td>\n",
       "      <td>0.0</td>\n",
       "      <td>4,5</td>\n",
       "    </tr>\n",
       "  </tbody>\n",
       "</table>\n",
       "</div>"
      ],
      "text/plain": [
       "                eating_duration_24  drinking_duration_24 activity_list\n",
       "case_id                                                               \n",
       "20080101080102                25.0                  55.0       4,22,26\n",
       "20080101080116                30.0                 135.0      6,7,8,11\n",
       "20080101080145                 5.0                   5.0          8,22\n",
       "20080101080164                15.0                 115.0       3,26,30\n",
       "20080101080504                30.0                   0.0           4,5"
      ]
     },
     "execution_count": 130,
     "metadata": {},
     "output_type": "execute_result"
    }
   ],
   "source": [
    "# Merge condensed activity list and reformatted activities\n",
    "ehact_condensed = ehact_condensed.join(list_activities)\n",
    "ehact_condensed.head()"
   ]
  },
  {
   "cell_type": "markdown",
   "metadata": {},
   "source": [
    "## Interpret/Transform: Eating & Health Child Responses\n",
    "\n",
    "Analysis of the children directly is not intended.  The goal here is to profile the household and append to the eventual final table for modeling.\n",
    "\n",
    "**Identify data to keep. Drop per column name match criteria (see below)**\n",
    "\n",
    "--2006 Thru 2008--\n",
    "* TUCASEID: case_id\n",
    "* TULINENO: person_number\n",
    "* EXLCH: ate_school_lunch_allocation\n",
    "* EELCH: ate_school_lunch\n",
    "* EEBRK: ate_school_breakfast\n",
    "* EXBRK: ate_school_breakfast_allocation\n",
    "\n",
    "### Engineered Features\n",
    "**One row per case_id**\n",
    "\n",
    "* total_children\n",
    "* num_assisted_meals_children"
   ]
  },
  {
   "cell_type": "code",
   "execution_count": 131,
   "metadata": {},
   "outputs": [
    {
     "data": {
      "text/html": [
       "<div>\n",
       "<style scoped>\n",
       "    .dataframe tbody tr th:only-of-type {\n",
       "        vertical-align: middle;\n",
       "    }\n",
       "\n",
       "    .dataframe tbody tr th {\n",
       "        vertical-align: top;\n",
       "    }\n",
       "\n",
       "    .dataframe thead th {\n",
       "        text-align: right;\n",
       "    }\n",
       "</style>\n",
       "<table border=\"1\" class=\"dataframe\">\n",
       "  <thead>\n",
       "    <tr style=\"text-align: right;\">\n",
       "      <th></th>\n",
       "      <th>case_id</th>\n",
       "      <th>person_number</th>\n",
       "      <th>ate_school_lunch_allocation</th>\n",
       "      <th>ate_school_lunch</th>\n",
       "      <th>ate_school_breakfast</th>\n",
       "      <th>ate_school_breakfast_allocation</th>\n",
       "    </tr>\n",
       "  </thead>\n",
       "  <tbody>\n",
       "    <tr>\n",
       "      <th>0</th>\n",
       "      <td>20080101080102</td>\n",
       "      <td>3</td>\n",
       "      <td>0</td>\n",
       "      <td>2</td>\n",
       "      <td>2</td>\n",
       "      <td>0</td>\n",
       "    </tr>\n",
       "    <tr>\n",
       "      <th>1</th>\n",
       "      <td>20080101080102</td>\n",
       "      <td>4</td>\n",
       "      <td>0</td>\n",
       "      <td>2</td>\n",
       "      <td>2</td>\n",
       "      <td>0</td>\n",
       "    </tr>\n",
       "  </tbody>\n",
       "</table>\n",
       "</div>"
      ],
      "text/plain": [
       "          case_id  person_number  ate_school_lunch_allocation  \\\n",
       "0  20080101080102              3                            0   \n",
       "1  20080101080102              4                            0   \n",
       "\n",
       "   ate_school_lunch  ate_school_breakfast  ate_school_breakfast_allocation  \n",
       "0                 2                     2                                0  \n",
       "1                 2                     2                                0  "
      ]
     },
     "metadata": {},
     "output_type": "display_data"
    }
   ],
   "source": [
    "ehchild_columns = [\n",
    "    'case_id', 'person_number', 'ate_school_lunch_allocation',\n",
    "    'ate_school_lunch', 'ate_school_breakfast', 'ate_school_breakfast_allocation' \n",
    "]\n",
    "ehchild = working_data[input_file_list[1]].copy()\n",
    "ehchild.columns = ehchild_columns\n",
    "display(ehchild.head(2))"
   ]
  },
  {
   "cell_type": "code",
   "execution_count": 132,
   "metadata": {},
   "outputs": [],
   "source": [
    "# Check for valid allocation codes\n",
    "ehchild['ate_school_lunch_allocation'] = ehchild['ate_school_lunch_allocation'].apply(allocation_check)"
   ]
  },
  {
   "cell_type": "code",
   "execution_count": 133,
   "metadata": {},
   "outputs": [],
   "source": [
    "# Check for valid allocation codes\n",
    "ehchild['ate_school_breakfast_allocation'] = ehchild['ate_school_breakfast_allocation'].apply(allocation_check)"
   ]
  },
  {
   "cell_type": "code",
   "execution_count": 134,
   "metadata": {},
   "outputs": [],
   "source": [
    "# Set invalid data to zero where appropriate\n",
    "ehchild['ate_school_lunch'] = ehchild.ate_school_lunch * ehchild.ate_school_lunch_allocation\n",
    "ehchild['ate_school_breakfast'] = ehchild.ate_school_breakfast * ehchild.ate_school_breakfast_allocation"
   ]
  },
  {
   "cell_type": "code",
   "execution_count": 135,
   "metadata": {},
   "outputs": [],
   "source": [
    "# Drop allocation columns\n",
    "ehchild = ehchild.drop(columns=['ate_school_lunch_allocation', 'ate_school_breakfast_allocation'])"
   ]
  },
  {
   "cell_type": "code",
   "execution_count": 136,
   "metadata": {},
   "outputs": [],
   "source": [
    "# Convert 2's in eating to zero, leave 1s as mean provided\n",
    "ehchild['ate_school_breakfast'] = ehchild.ate_school_breakfast % 2\n",
    "ehchild['ate_school_lunch'] = ehchild.ate_school_lunch % 2"
   ]
  },
  {
   "cell_type": "code",
   "execution_count": 137,
   "metadata": {},
   "outputs": [],
   "source": [
    "# Set all person_numbers to 1 for simple summation to number children\n",
    "ehchild['person_number'] = 1"
   ]
  },
  {
   "cell_type": "code",
   "execution_count": 138,
   "metadata": {},
   "outputs": [
    {
     "data": {
      "text/html": [
       "<div>\n",
       "<style scoped>\n",
       "    .dataframe tbody tr th:only-of-type {\n",
       "        vertical-align: middle;\n",
       "    }\n",
       "\n",
       "    .dataframe tbody tr th {\n",
       "        vertical-align: top;\n",
       "    }\n",
       "\n",
       "    .dataframe thead th {\n",
       "        text-align: right;\n",
       "    }\n",
       "</style>\n",
       "<table border=\"1\" class=\"dataframe\">\n",
       "  <thead>\n",
       "    <tr style=\"text-align: right;\">\n",
       "      <th></th>\n",
       "      <th>assisted_meals</th>\n",
       "    </tr>\n",
       "    <tr>\n",
       "      <th>case_id</th>\n",
       "      <th></th>\n",
       "    </tr>\n",
       "  </thead>\n",
       "  <tbody>\n",
       "    <tr>\n",
       "      <th>20080101080102</th>\n",
       "      <td>2</td>\n",
       "    </tr>\n",
       "    <tr>\n",
       "      <th>20080101080116</th>\n",
       "      <td>1</td>\n",
       "    </tr>\n",
       "    <tr>\n",
       "      <th>20080101080119</th>\n",
       "      <td>8</td>\n",
       "    </tr>\n",
       "  </tbody>\n",
       "</table>\n",
       "</div>"
      ],
      "text/plain": [
       "                assisted_meals\n",
       "case_id                       \n",
       "20080101080102               2\n",
       "20080101080116               1\n",
       "20080101080119               8"
      ]
     },
     "execution_count": 138,
     "metadata": {},
     "output_type": "execute_result"
    }
   ],
   "source": [
    "# Group by case_id and sum meals and children in household.  Rename columns\n",
    "ehchild_condensed = ehchild.groupby('case_id').sum()\n",
    "ehchild_condensed['assisted_meals'] = ehchild_condensed.ate_school_breakfast + ehchild_condensed.ate_school_lunch\n",
    "ehchild_condensed = ehchild_condensed.drop(columns=['ate_school_lunch', 'ate_school_breakfast'])\n",
    "ehchild_condensed.columns = ['num_children', 'assisted_meals']\n",
    "ehchild_condensed = ehchild_condensed.drop(columns='num_children') #duplicate data.  See ehresp.\n",
    "ehchild_condensed.head(3)"
   ]
  },
  {
   "cell_type": "code",
   "execution_count": 139,
   "metadata": {},
   "outputs": [
    {
     "data": {
      "text/html": [
       "<div>\n",
       "<style scoped>\n",
       "    .dataframe tbody tr th:only-of-type {\n",
       "        vertical-align: middle;\n",
       "    }\n",
       "\n",
       "    .dataframe tbody tr th {\n",
       "        vertical-align: top;\n",
       "    }\n",
       "\n",
       "    .dataframe thead th {\n",
       "        text-align: right;\n",
       "    }\n",
       "</style>\n",
       "<table border=\"1\" class=\"dataframe\">\n",
       "  <thead>\n",
       "    <tr style=\"text-align: right;\">\n",
       "      <th></th>\n",
       "      <th>activity_list</th>\n",
       "      <th>assisted_meals</th>\n",
       "    </tr>\n",
       "    <tr>\n",
       "      <th>case_id</th>\n",
       "      <th></th>\n",
       "      <th></th>\n",
       "    </tr>\n",
       "  </thead>\n",
       "  <tbody>\n",
       "    <tr>\n",
       "      <th>20080101080102</th>\n",
       "      <td>4,22,26</td>\n",
       "      <td>2.0</td>\n",
       "    </tr>\n",
       "    <tr>\n",
       "      <th>20080101080116</th>\n",
       "      <td>6,7,8,11</td>\n",
       "      <td>1.0</td>\n",
       "    </tr>\n",
       "    <tr>\n",
       "      <th>20080101080145</th>\n",
       "      <td>8,22</td>\n",
       "      <td>NaN</td>\n",
       "    </tr>\n",
       "  </tbody>\n",
       "</table>\n",
       "</div>"
      ],
      "text/plain": [
       "               activity_list  assisted_meals\n",
       "case_id                                     \n",
       "20080101080102       4,22,26             2.0\n",
       "20080101080116      6,7,8,11             1.0\n",
       "20080101080145          8,22             NaN"
      ]
     },
     "execution_count": 139,
     "metadata": {},
     "output_type": "execute_result"
    }
   ],
   "source": [
    "# Combine ehchild_condensed and ehact_condensed --> NOT WORKING CORRECTLY.  GROUPBY EHACT\n",
    "df_join_1 = ehact_condensed.join(ehchild_condensed)\n",
    "df_join_1 = df_join_1.drop(columns=['eating_duration_24', 'drinking_duration_24']) # repeated in response with allocation.  process retained for future evaluation\n",
    "df_join_1.head(3)"
   ]
  },
  {
   "cell_type": "markdown",
   "metadata": {},
   "source": [
    "## Interpret/Transform: Response Data\n",
    "\n",
    "This is the primary data file for each year, containing targets BMI and overall health\n",
    "\n",
    "**Identify data to keep. Drop per column name match criteria (see below)**\n",
    "\n",
    "--2006 Thru 2008--\n",
    "* TUCASEID: case_id\n",
    "* (DROP) TULINENO\n",
    "* EUFSP: snap_benefits (1: yes; 2: no recode to --> 0: no; 1: yes)\n",
    "* EUGENHTH: general_health (1: excellent; 2: very good; 3: good; 4: fair; 5: poor -> Recode, Invert)\n",
    "* EUHGT: height_in\n",
    "* EUINCOME2: income_130_pov (recode ordinal relationship, 0 <= 130%, 1 > 130%)\n",
    "* ETWGT: topcode_weight (0: no code, val; 1: topcode, val=max 330lb; 2: bottomcode, val=min 98lb) -- See engineered features\n",
    "* ETHGT: topcode_height (0: no code, val; 1: topcode, val=max 77in; 2: bottomcode, val=min 56in)\n",
    "* (DROP) EUINCLVL: context - year of income for poverty threshold calculation in EUINCOME2.  Difference within yearly datasets not considered here.\n",
    "* EUFINLWGT: statistical weight - may need to be normalized per dataset for population level stats over time\n",
    "* (DROP) ERSPEMCH: Change in partner/spouse employment from previous CPS study (Not considered in Version 1 as CPS data not included in model)\n",
    "* ERC19NUM: num_children\n",
    "* EXINCOME1: EEINCOME1 allocation flag -> modified via allocation_check() to clean EEINCOME1\n",
    "* (DROP) ERINCOME: relationship between income and poverty threshold (derived feature not considered in Version 1)\n",
    "* EEINCOME1: income_185_pov (recode ordinal relationship, 0 <= 185%, 1 > 185%)\n",
    "* EUPRPMEL: meal_preparer (1: yes; 2: no; 3: split with others) **Consider categorical encoding**\n",
    "* EUGROSHP: grocery_shopper (1: yes; 2: no; 3: split equally) **Consider categorical encoding**\n",
    "* ERTSEAT: secondary_eating_duration \n",
    "* ERTSDRK: secondary_drinking_duration\n",
    "* ERTPREAT: primary_eating_duration\n",
    "* EUDRINK: secondary_drinking_day_prior\n",
    "* EUWGT: weight_lb\n",
    "* EUEAT: seondary_eating_day_prior (1: yes; 2: no recode to --> 0: no; 1: yes)\n",
    "* (DROP) ERHHCH: change in household from CPS survey (not considered in v1)\n",
    "* ERBMI: bmi\n",
    "* (DROP) EXSCLBRK: allocation flag for EESCLBRK (v1: represented via assisted meals)\n",
    "* (DROP) EESCLBRK:children ate prepared breakfast by outside institution (v1: represented via assisted meals)\n",
    "* (DROP) EXSCLLCH: allocation flag for EESCLLCH (v1: represented via assited meals)\n",
    "* (DROP) EESCLLCH: children ate prepared lunch by outside instituion (v1: represented via assisted meals)\n",
    "* (DROP) ERPLWC: proportion_children_assisted_lunch\n",
    "* (DROP) ERPBWC: proportion_children_assisted_breakfast\n",
    "* EREATAD: secondary_eating_all_day (1: yes; 2: no recode to --> 0: no; 1: yes)\n",
    "* ERDRKAD: secondary_drinking_all_day (1: yes; 2: no recode to --> 0: no; 1: yes)\n",
    "\n",
    "\n",
    "### Engineered Features\n",
    "**One row per case_id**\n",
    "* weight_modified: topcode/bottom code re-calculated (v2: 1std from min to significantly distance from values near max/min)\n",
    "* height_modified: topcode/bottom code re-calculated (v2: 1std from min to significantly distance from values near max/min)"
   ]
  },
  {
   "cell_type": "code",
   "execution_count": 140,
   "metadata": {},
   "outputs": [
    {
     "data": {
      "text/html": [
       "<div>\n",
       "<style scoped>\n",
       "    .dataframe tbody tr th:only-of-type {\n",
       "        vertical-align: middle;\n",
       "    }\n",
       "\n",
       "    .dataframe tbody tr th {\n",
       "        vertical-align: top;\n",
       "    }\n",
       "\n",
       "    .dataframe thead th {\n",
       "        text-align: right;\n",
       "    }\n",
       "</style>\n",
       "<table border=\"1\" class=\"dataframe\">\n",
       "  <thead>\n",
       "    <tr style=\"text-align: right;\">\n",
       "      <th></th>\n",
       "      <th>TUCASEID</th>\n",
       "      <th>TULINENO</th>\n",
       "      <th>EUFSP</th>\n",
       "      <th>EUGENHTH</th>\n",
       "      <th>EUHGT</th>\n",
       "      <th>EUINCOME2</th>\n",
       "      <th>ETWGT</th>\n",
       "      <th>ETHGT</th>\n",
       "      <th>EUINCLVL</th>\n",
       "      <th>EUFINLWGT</th>\n",
       "      <th>...</th>\n",
       "      <th>ERHHCH</th>\n",
       "      <th>ERBMI</th>\n",
       "      <th>EXSCLBRK</th>\n",
       "      <th>EESCLBRK</th>\n",
       "      <th>EXSCLLCH</th>\n",
       "      <th>EESCLLCH</th>\n",
       "      <th>ERPLWC</th>\n",
       "      <th>ERPBWC</th>\n",
       "      <th>EREATAD</th>\n",
       "      <th>ERDRKAD</th>\n",
       "    </tr>\n",
       "  </thead>\n",
       "  <tbody>\n",
       "    <tr>\n",
       "      <th>0</th>\n",
       "      <td>20080101080013</td>\n",
       "      <td>1</td>\n",
       "      <td>2</td>\n",
       "      <td>3</td>\n",
       "      <td>67</td>\n",
       "      <td>-1</td>\n",
       "      <td>0</td>\n",
       "      <td>0</td>\n",
       "      <td>3</td>\n",
       "      <td>1.739920e+07</td>\n",
       "      <td>...</td>\n",
       "      <td>2</td>\n",
       "      <td>28.2</td>\n",
       "      <td>-1</td>\n",
       "      <td>-1</td>\n",
       "      <td>-1</td>\n",
       "      <td>-1</td>\n",
       "      <td>-1.0</td>\n",
       "      <td>-1.0</td>\n",
       "      <td>2</td>\n",
       "      <td>2</td>\n",
       "    </tr>\n",
       "    <tr>\n",
       "      <th>1</th>\n",
       "      <td>20080101080015</td>\n",
       "      <td>1</td>\n",
       "      <td>2</td>\n",
       "      <td>4</td>\n",
       "      <td>68</td>\n",
       "      <td>-2</td>\n",
       "      <td>0</td>\n",
       "      <td>0</td>\n",
       "      <td>3</td>\n",
       "      <td>5.435524e+06</td>\n",
       "      <td>...</td>\n",
       "      <td>3</td>\n",
       "      <td>30.4</td>\n",
       "      <td>-1</td>\n",
       "      <td>-1</td>\n",
       "      <td>-1</td>\n",
       "      <td>-1</td>\n",
       "      <td>-1.0</td>\n",
       "      <td>-1.0</td>\n",
       "      <td>2</td>\n",
       "      <td>2</td>\n",
       "    </tr>\n",
       "  </tbody>\n",
       "</table>\n",
       "<p>2 rows × 33 columns</p>\n",
       "</div>"
      ],
      "text/plain": [
       "         TUCASEID  TULINENO  EUFSP  EUGENHTH  EUHGT  EUINCOME2  ETWGT  ETHGT  \\\n",
       "0  20080101080013         1      2         3     67         -1      0      0   \n",
       "1  20080101080015         1      2         4     68         -2      0      0   \n",
       "\n",
       "   EUINCLVL     EUFINLWGT  ...  ERHHCH  ERBMI  EXSCLBRK  EESCLBRK  EXSCLLCH  \\\n",
       "0         3  1.739920e+07  ...       2   28.2        -1        -1        -1   \n",
       "1         3  5.435524e+06  ...       3   30.4        -1        -1        -1   \n",
       "\n",
       "   EESCLLCH  ERPLWC  ERPBWC  EREATAD  ERDRKAD  \n",
       "0        -1    -1.0    -1.0        2        2  \n",
       "1        -1    -1.0    -1.0        2        2  \n",
       "\n",
       "[2 rows x 33 columns]"
      ]
     },
     "execution_count": 140,
     "metadata": {},
     "output_type": "execute_result"
    }
   ],
   "source": [
    "ehresp = working_data[input_file_list[2]].copy()\n",
    "ehresp.head(2)"
   ]
  },
  {
   "cell_type": "code",
   "execution_count": 141,
   "metadata": {},
   "outputs": [
    {
     "data": {
      "text/plain": [
       "Index(['TUCASEID', 'TULINENO', 'EUFSP', 'EUGENHTH', 'EUHGT', 'EUINCOME2',\n",
       "       'ETWGT', 'ETHGT', 'EUINCLVL', 'EUFINLWGT', 'ERSPEMCH', 'ERC19NUM',\n",
       "       'EXINCOME1', 'ERINCOME', 'EEINCOME1', 'EUPRPMEL', 'EUGROSHP', 'ERTSEAT',\n",
       "       'ERTSDRK', 'ERTPREAT', 'EUDRINK', 'EUWGT', 'EUEAT', 'ERHHCH', 'ERBMI',\n",
       "       'EXSCLBRK', 'EESCLBRK', 'EXSCLLCH', 'EESCLLCH', 'ERPLWC', 'ERPBWC',\n",
       "       'EREATAD', 'ERDRKAD'],\n",
       "      dtype='object')"
      ]
     },
     "metadata": {},
     "output_type": "display_data"
    }
   ],
   "source": [
    "display(ehresp.columns)"
   ]
  },
  {
   "cell_type": "code",
   "execution_count": 142,
   "metadata": {},
   "outputs": [],
   "source": [
    "resp_columns_keep = [\n",
    "        'TUCASEID', 'EUFSP', 'EUGENHTH', 'EUHGT', 'EUINCOME2', 'ETWGT', 'ETHGT', 'EUFINLWGT', 'ERC19NUM',\n",
    "        'EXINCOME1', 'EEINCOME1', 'EUPRPMEL', 'EUGROSHP', 'ERTSEAT', 'ERTSDRK', 'ERTPREAT', 'EUDRINK', \n",
    "        'EUWGT', 'EUEAT', 'ERBMI', 'EREATAD', 'ERDRKAD'\n",
    "]\n",
    "\n",
    "name_map = {\n",
    "    'TUCASEID': 'case_id', \n",
    "    'EUFSP': 'snap_benefits',\n",
    "    'EUGENHTH': 'general_health',\n",
    "    'EUHGT': 'height_in',\n",
    "    'EUINCOME2': 'income_130_pov',\n",
    "    'ETWGT': 'topcode_weight',\n",
    "    'ETHGT': 'topcode_height',\n",
    "    'EUFINLWGT': 'statistical_weight',\n",
    "    'ERC19NUM': 'num_children', \n",
    "    'EXINCOME1': 'allocation_flag_income_185',\n",
    "    'EEINCOME1': 'income_185_pov', \n",
    "    'EUPRPMEL': 'meal_preparer', \n",
    "    'EUGROSHP': 'grocery_shopper',\n",
    "    'ERTSEAT': 'secondary_eating_duration', \n",
    "    'ERTSDRK': 'secondary_drinking_duration', \n",
    "    'ERTPREAT': 'primary_eating_duration', \n",
    "    'EUDRINK': 'secondary_drinking_day_prior',\n",
    "    'EUWGT': 'weight_lb', \n",
    "    'EUEAT': 'secondary_eating_day_prior', \n",
    "    'ERBMI': 'bmi', \n",
    "    'EREATAD': 'secondary_eating_all_day', \n",
    "    'ERDRKAD': 'secondary_drinking_all_day',\n",
    "}\n",
    "\n",
    "ehresp = ehresp[resp_columns_keep].rename(columns=name_map)"
   ]
  },
  {
   "cell_type": "code",
   "execution_count": 143,
   "metadata": {},
   "outputs": [
    {
     "data": {
      "text/plain": [
       "Index(['case_id', 'snap_benefits', 'general_health', 'height_in',\n",
       "       'income_130_pov', 'topcode_weight', 'topcode_height',\n",
       "       'statistical_weight', 'num_children', 'allocation_flag_income_185',\n",
       "       'income_185_pov', 'meal_preparer', 'grocery_shopper',\n",
       "       'secondary_eating_duration', 'secondary_drinking_duration',\n",
       "       'primary_eating_duration', 'secondary_drinking_day_prior', 'weight_lb',\n",
       "       'secondary_eating_day_prior', 'bmi', 'secondary_eating_all_day',\n",
       "       'secondary_drinking_all_day'],\n",
       "      dtype='object')"
      ]
     },
     "metadata": {},
     "output_type": "display_data"
    },
    {
     "data": {
      "text/plain": [
       "(12708, 22)"
      ]
     },
     "metadata": {},
     "output_type": "display_data"
    },
    {
     "data": {
      "text/plain": [
       "12708"
      ]
     },
     "metadata": {},
     "output_type": "display_data"
    },
    {
     "data": {
      "text/html": [
       "<div>\n",
       "<style scoped>\n",
       "    .dataframe tbody tr th:only-of-type {\n",
       "        vertical-align: middle;\n",
       "    }\n",
       "\n",
       "    .dataframe tbody tr th {\n",
       "        vertical-align: top;\n",
       "    }\n",
       "\n",
       "    .dataframe thead th {\n",
       "        text-align: right;\n",
       "    }\n",
       "</style>\n",
       "<table border=\"1\" class=\"dataframe\">\n",
       "  <thead>\n",
       "    <tr style=\"text-align: right;\">\n",
       "      <th></th>\n",
       "      <th>case_id</th>\n",
       "      <th>snap_benefits</th>\n",
       "      <th>general_health</th>\n",
       "      <th>height_in</th>\n",
       "      <th>income_130_pov</th>\n",
       "      <th>topcode_weight</th>\n",
       "      <th>topcode_height</th>\n",
       "      <th>statistical_weight</th>\n",
       "      <th>num_children</th>\n",
       "      <th>allocation_flag_income_185</th>\n",
       "      <th>...</th>\n",
       "      <th>grocery_shopper</th>\n",
       "      <th>secondary_eating_duration</th>\n",
       "      <th>secondary_drinking_duration</th>\n",
       "      <th>primary_eating_duration</th>\n",
       "      <th>secondary_drinking_day_prior</th>\n",
       "      <th>weight_lb</th>\n",
       "      <th>secondary_eating_day_prior</th>\n",
       "      <th>bmi</th>\n",
       "      <th>secondary_eating_all_day</th>\n",
       "      <th>secondary_drinking_all_day</th>\n",
       "    </tr>\n",
       "  </thead>\n",
       "  <tbody>\n",
       "    <tr>\n",
       "      <th>0</th>\n",
       "      <td>20080101080013</td>\n",
       "      <td>2</td>\n",
       "      <td>3</td>\n",
       "      <td>67</td>\n",
       "      <td>-1</td>\n",
       "      <td>0</td>\n",
       "      <td>0</td>\n",
       "      <td>1.739920e+07</td>\n",
       "      <td>0</td>\n",
       "      <td>0</td>\n",
       "      <td>...</td>\n",
       "      <td>1</td>\n",
       "      <td>0</td>\n",
       "      <td>0</td>\n",
       "      <td>20</td>\n",
       "      <td>2</td>\n",
       "      <td>180</td>\n",
       "      <td>2</td>\n",
       "      <td>28.2</td>\n",
       "      <td>2</td>\n",
       "      <td>2</td>\n",
       "    </tr>\n",
       "    <tr>\n",
       "      <th>1</th>\n",
       "      <td>20080101080015</td>\n",
       "      <td>2</td>\n",
       "      <td>4</td>\n",
       "      <td>68</td>\n",
       "      <td>-2</td>\n",
       "      <td>0</td>\n",
       "      <td>0</td>\n",
       "      <td>5.435524e+06</td>\n",
       "      <td>0</td>\n",
       "      <td>2</td>\n",
       "      <td>...</td>\n",
       "      <td>2</td>\n",
       "      <td>0</td>\n",
       "      <td>0</td>\n",
       "      <td>5</td>\n",
       "      <td>2</td>\n",
       "      <td>200</td>\n",
       "      <td>2</td>\n",
       "      <td>30.4</td>\n",
       "      <td>2</td>\n",
       "      <td>2</td>\n",
       "    </tr>\n",
       "  </tbody>\n",
       "</table>\n",
       "<p>2 rows × 22 columns</p>\n",
       "</div>"
      ],
      "text/plain": [
       "          case_id  snap_benefits  general_health  height_in  income_130_pov  \\\n",
       "0  20080101080013              2               3         67              -1   \n",
       "1  20080101080015              2               4         68              -2   \n",
       "\n",
       "   topcode_weight  topcode_height  statistical_weight  num_children  \\\n",
       "0               0               0        1.739920e+07             0   \n",
       "1               0               0        5.435524e+06             0   \n",
       "\n",
       "   allocation_flag_income_185  ...  grocery_shopper  \\\n",
       "0                           0  ...                1   \n",
       "1                           2  ...                2   \n",
       "\n",
       "   secondary_eating_duration  secondary_drinking_duration  \\\n",
       "0                          0                            0   \n",
       "1                          0                            0   \n",
       "\n",
       "   primary_eating_duration  secondary_drinking_day_prior  weight_lb  \\\n",
       "0                       20                             2        180   \n",
       "1                        5                             2        200   \n",
       "\n",
       "   secondary_eating_day_prior   bmi  secondary_eating_all_day  \\\n",
       "0                           2  28.2                         2   \n",
       "1                           2  30.4                         2   \n",
       "\n",
       "   secondary_drinking_all_day  \n",
       "0                           2  \n",
       "1                           2  \n",
       "\n",
       "[2 rows x 22 columns]"
      ]
     },
     "metadata": {},
     "output_type": "display_data"
    }
   ],
   "source": [
    "# review changes\n",
    "display(ehresp.columns, ehresp.shape, ehresp.case_id.nunique(), ehresp.head(2))"
   ]
  },
  {
   "cell_type": "code",
   "execution_count": 144,
   "metadata": {},
   "outputs": [
    {
     "data": {
      "text/plain": [
       "Int64Index([20080101080013, 20080101080015, 20080101080088, 20080101080102,\n",
       "            20080101080116, 20080101080119, 20080101080134, 20080101080145,\n",
       "            20080101080164, 20080101080504,\n",
       "            ...\n",
       "            20081212082401, 20081212082428, 20081212082436, 20081212082455,\n",
       "            20081212082457, 20081212082468, 20081212082480, 20081212082481,\n",
       "            20081212082491, 20081212082492],\n",
       "           dtype='int64', name='case_id', length=12708)"
      ]
     },
     "execution_count": 144,
     "metadata": {},
     "output_type": "execute_result"
    }
   ],
   "source": [
    "# set index to case_id - assert that case_id's must be unique via shape[0] = case_id.nunique()\n",
    "assert ehresp.shape[0] == ehresp.case_id.nunique()\n",
    "ehresp.index = ehresp.case_id\n",
    "ehresp = ehresp.drop(columns='case_id')\n",
    "ehresp.index.set_names('case_id')"
   ]
  },
  {
   "cell_type": "code",
   "execution_count": 145,
   "metadata": {},
   "outputs": [
    {
     "data": {
      "text/plain": [
       "array([ 0.,  1., nan])"
      ]
     },
     "metadata": {},
     "output_type": "display_data"
    }
   ],
   "source": [
    "# Check SNAP benefits for valid data\n",
    "# EUFSP: snap_benefits (1: yes; 2: no recode to --> 0: no; 1: yes)\n",
    "ehresp.snap_benefits = abs(ehresp.snap_benefits - 2)\n",
    "\n",
    "# Pass through value check\n",
    "ehresp.snap_benefits = ehresp.snap_benefits.apply(value_check, args = (0,1,True))\n",
    "display(ehresp.snap_benefits.unique())"
   ]
  },
  {
   "cell_type": "code",
   "execution_count": 146,
   "metadata": {},
   "outputs": [],
   "source": [
    "# Recode general_health\n",
    "# general_health (current = 1: excellent; 2: very good; 3: good; 4: fair; 5: poor || inverted = 1. poor...5. excellent)\n",
    "ehresp.general_health = abs(ehresp.general_health-5)+1"
   ]
  },
  {
   "cell_type": "code",
   "execution_count": 147,
   "metadata": {},
   "outputs": [],
   "source": [
    "# Topcode/Bottomcode adjustments\n",
    "# Not completing in v1.  Columns dropped\n",
    "ehresp = ehresp.drop(columns=['topcode_weight', 'topcode_height',])"
   ]
  },
  {
   "cell_type": "code",
   "execution_count": 148,
   "metadata": {},
   "outputs": [],
   "source": [
    "#EUPRPMEL: meal_preparer (1: yes; 2: no; 3: split with others) Consider categorical encoding\n",
    "#EUGROSHP: grocery_shopper (1: yes; 2: no; 3: split equally) Consider categorical encoding\n",
    "\n",
    "# First, clean meta values from series\n",
    "ehresp.meal_preparer = ehresp.meal_preparer.apply(value_check, args=(1,3,False))\n",
    "ehresp.grocery_shopper = ehresp.grocery_shopper.apply(value_check, args=(1,3,False))\n",
    "\n",
    "# There is an ordinal meaning in these categories. The responder has assistance in 2, 3 but not in 1.\n",
    "# 2, 'no', implies 100% assistance in meal and grocer activities. 3 implies ~50% or greater assistance.\n",
    "# Here, I revolve 2 and 3 to better associate implicit assistance\n",
    "\n",
    "def flip_num(x):\n",
    "    lookup = {\n",
    "        1: 1,\n",
    "        2: 3,\n",
    "        3: 2,\n",
    "        0: np.nan,\n",
    "    }\n",
    "    return lookup[x]\n",
    "\n",
    "ehresp.meal_preparer = ehresp.meal_preparer.apply(flip_num)\n",
    "ehresp.grocery_shopper = ehresp.grocery_shopper.apply(flip_num)"
   ]
  },
  {
   "cell_type": "code",
   "execution_count": 149,
   "metadata": {},
   "outputs": [
    {
     "data": {
      "text/plain": [
       "array([ 0.,  1., nan])"
      ]
     },
     "metadata": {},
     "output_type": "display_data"
    },
    {
     "data": {
      "text/plain": [
       "array([ 0.,  1., nan])"
      ]
     },
     "metadata": {},
     "output_type": "display_data"
    }
   ],
   "source": [
    "# EUDRINK: secondary_drinking_day_prior\n",
    "# EUEAT: seondary_eating_day_prior (1: yes; 2: no recode to --> 0: no; 1: yes)\n",
    "\n",
    "# First, clean meta values from series\n",
    "ehresp.secondary_drinking_day_prior = ehresp.secondary_drinking_day_prior.apply(value_check, args=(1,2,False))\n",
    "ehresp.secondary_eating_day_prior = ehresp.secondary_eating_day_prior.apply(value_check, args=(1,2,False))\n",
    "\n",
    "# Recode\n",
    "ehresp.secondary_drinking_day_prior = abs(ehresp.secondary_drinking_day_prior - 2)\n",
    "ehresp.secondary_eating_day_prior = abs(ehresp.secondary_eating_day_prior - 2)\n",
    "\n",
    "# Set meta values to NaN\n",
    "ehresp.secondary_drinking_day_prior = ehresp.secondary_drinking_day_prior.apply(value_check, args=(0,1,True))\n",
    "ehresp.secondary_eating_day_prior = ehresp.secondary_eating_day_prior.apply(value_check, args=(0,1,True))\n",
    "\n",
    "display(ehresp.secondary_drinking_day_prior.unique(), ehresp.secondary_eating_day_prior.unique())"
   ]
  },
  {
   "cell_type": "code",
   "execution_count": 150,
   "metadata": {},
   "outputs": [],
   "source": [
    "# EREATAD: secondary_eating_all_day (1: yes; 2: no recode to --> 0: no; 1: yes)\n",
    "# ERDRKAD: secondary_drinking_all_day (1: yes; 2: no recode to --> 0: no; 1: yes)\n",
    "\n",
    "# Cycle values to 0,1\n",
    "ehresp.secondary_eating_all_day = abs(ehresp.secondary_eating_all_day - 2)\n",
    "ehresp.secondary_drinking_all_day = abs(ehresp.secondary_drinking_all_day - 2)\n",
    "\n",
    "# Set meta values to NaN\n",
    "ehresp.secondary_eating_all_day = ehresp.secondary_eating_all_day.apply(value_check, args=(0,1,True))\n",
    "ehresp.secondary_drinking_all_day = ehresp.secondary_drinking_all_day.apply(value_check, args=(0,1,True))"
   ]
  },
  {
   "cell_type": "code",
   "execution_count": 151,
   "metadata": {},
   "outputs": [
    {
     "data": {
      "text/plain": [
       "array([0, 1], dtype=int64)"
      ]
     },
     "metadata": {},
     "output_type": "display_data"
    },
    {
     "data": {
      "text/plain": [
       "array([0, 1], dtype=int64)"
      ]
     },
     "metadata": {},
     "output_type": "display_data"
    }
   ],
   "source": [
    "display(ehresp.secondary_eating_all_day.unique(), ehresp.secondary_drinking_all_day.unique())"
   ]
  },
  {
   "cell_type": "code",
   "execution_count": 152,
   "metadata": {},
   "outputs": [
    {
     "data": {
      "text/plain": [
       "12708"
      ]
     },
     "metadata": {},
     "output_type": "display_data"
    },
    {
     "data": {
      "text/plain": [
       "0"
      ]
     },
     "metadata": {},
     "output_type": "display_data"
    },
    {
     "data": {
      "text/plain": [
       "0"
      ]
     },
     "metadata": {},
     "output_type": "display_data"
    }
   ],
   "source": [
    "display(ehresp.shape[0], ehresp.secondary_eating_all_day.isna().sum(), ehresp.secondary_drinking_all_day.isna().sum())"
   ]
  },
  {
   "cell_type": "code",
   "execution_count": 153,
   "metadata": {},
   "outputs": [],
   "source": [
    "# Check for valid allocation codes: for income_185_pov\n",
    "ehresp.allocation_flag_income_185 = ehresp.allocation_flag_income_185.apply(allocation_check)\n",
    "\n",
    "# Multiply through to zero out any invalid data\n",
    "ehresp.income_185_pov = ehresp.income_185_pov * ehresp.allocation_flag_income_185\n",
    "ehresp = ehresp.drop(columns='allocation_flag_income_185')\n",
    "\n",
    "# Pass validated data through value check to set out of range values to NaN\n",
    "ehresp.income_185_pov = ehresp.income_185_pov.apply(value_check, args=(1,2,True))"
   ]
  },
  {
   "cell_type": "code",
   "execution_count": 154,
   "metadata": {},
   "outputs": [],
   "source": [
    "# Pass validated data through value check to set out of range values to NaN: income_130_pov\n",
    "ehresp.income_130_pov = ehresp.income_130_pov.apply(value_check, args=(1,2,True))"
   ]
  },
  {
   "cell_type": "markdown",
   "metadata": {},
   "source": [
    "# Export cleaned, engineered, set"
   ]
  },
  {
   "cell_type": "code",
   "execution_count": 155,
   "metadata": {},
   "outputs": [
    {
     "data": {
      "text/plain": [
       "(12708, 20)"
      ]
     },
     "metadata": {},
     "output_type": "display_data"
    },
    {
     "data": {
      "text/html": [
       "<div>\n",
       "<style scoped>\n",
       "    .dataframe tbody tr th:only-of-type {\n",
       "        vertical-align: middle;\n",
       "    }\n",
       "\n",
       "    .dataframe tbody tr th {\n",
       "        vertical-align: top;\n",
       "    }\n",
       "\n",
       "    .dataframe thead th {\n",
       "        text-align: right;\n",
       "    }\n",
       "</style>\n",
       "<table border=\"1\" class=\"dataframe\">\n",
       "  <thead>\n",
       "    <tr style=\"text-align: right;\">\n",
       "      <th></th>\n",
       "      <th>snap_benefits</th>\n",
       "      <th>general_health</th>\n",
       "      <th>height_in</th>\n",
       "      <th>income_130_pov</th>\n",
       "      <th>statistical_weight</th>\n",
       "      <th>num_children</th>\n",
       "      <th>income_185_pov</th>\n",
       "      <th>meal_preparer</th>\n",
       "      <th>grocery_shopper</th>\n",
       "      <th>secondary_eating_duration</th>\n",
       "      <th>secondary_drinking_duration</th>\n",
       "      <th>primary_eating_duration</th>\n",
       "      <th>secondary_drinking_day_prior</th>\n",
       "      <th>weight_lb</th>\n",
       "      <th>secondary_eating_day_prior</th>\n",
       "      <th>bmi</th>\n",
       "      <th>secondary_eating_all_day</th>\n",
       "      <th>secondary_drinking_all_day</th>\n",
       "      <th>activity_list</th>\n",
       "      <th>assisted_meals</th>\n",
       "    </tr>\n",
       "    <tr>\n",
       "      <th>case_id</th>\n",
       "      <th></th>\n",
       "      <th></th>\n",
       "      <th></th>\n",
       "      <th></th>\n",
       "      <th></th>\n",
       "      <th></th>\n",
       "      <th></th>\n",
       "      <th></th>\n",
       "      <th></th>\n",
       "      <th></th>\n",
       "      <th></th>\n",
       "      <th></th>\n",
       "      <th></th>\n",
       "      <th></th>\n",
       "      <th></th>\n",
       "      <th></th>\n",
       "      <th></th>\n",
       "      <th></th>\n",
       "      <th></th>\n",
       "      <th></th>\n",
       "    </tr>\n",
       "  </thead>\n",
       "  <tbody>\n",
       "    <tr>\n",
       "      <th>20080101080013</th>\n",
       "      <td>0.0</td>\n",
       "      <td>3</td>\n",
       "      <td>67</td>\n",
       "      <td>NaN</td>\n",
       "      <td>1.739920e+07</td>\n",
       "      <td>0</td>\n",
       "      <td>1.0</td>\n",
       "      <td>1.0</td>\n",
       "      <td>1.0</td>\n",
       "      <td>0</td>\n",
       "      <td>0</td>\n",
       "      <td>20</td>\n",
       "      <td>0.0</td>\n",
       "      <td>180</td>\n",
       "      <td>0.0</td>\n",
       "      <td>28.2</td>\n",
       "      <td>0</td>\n",
       "      <td>0</td>\n",
       "      <td>NaN</td>\n",
       "      <td>NaN</td>\n",
       "    </tr>\n",
       "    <tr>\n",
       "      <th>20080101080015</th>\n",
       "      <td>0.0</td>\n",
       "      <td>2</td>\n",
       "      <td>68</td>\n",
       "      <td>NaN</td>\n",
       "      <td>5.435524e+06</td>\n",
       "      <td>0</td>\n",
       "      <td>NaN</td>\n",
       "      <td>3.0</td>\n",
       "      <td>3.0</td>\n",
       "      <td>0</td>\n",
       "      <td>0</td>\n",
       "      <td>5</td>\n",
       "      <td>0.0</td>\n",
       "      <td>200</td>\n",
       "      <td>0.0</td>\n",
       "      <td>30.4</td>\n",
       "      <td>0</td>\n",
       "      <td>0</td>\n",
       "      <td>NaN</td>\n",
       "      <td>NaN</td>\n",
       "    </tr>\n",
       "    <tr>\n",
       "      <th>20080101080088</th>\n",
       "      <td>0.0</td>\n",
       "      <td>2</td>\n",
       "      <td>67</td>\n",
       "      <td>2.0</td>\n",
       "      <td>2.925273e+06</td>\n",
       "      <td>0</td>\n",
       "      <td>2.0</td>\n",
       "      <td>1.0</td>\n",
       "      <td>1.0</td>\n",
       "      <td>0</td>\n",
       "      <td>0</td>\n",
       "      <td>90</td>\n",
       "      <td>0.0</td>\n",
       "      <td>100</td>\n",
       "      <td>0.0</td>\n",
       "      <td>15.7</td>\n",
       "      <td>0</td>\n",
       "      <td>0</td>\n",
       "      <td>NaN</td>\n",
       "      <td>NaN</td>\n",
       "    </tr>\n",
       "  </tbody>\n",
       "</table>\n",
       "</div>"
      ],
      "text/plain": [
       "                snap_benefits  general_health  height_in  income_130_pov  \\\n",
       "case_id                                                                    \n",
       "20080101080013            0.0               3         67             NaN   \n",
       "20080101080015            0.0               2         68             NaN   \n",
       "20080101080088            0.0               2         67             2.0   \n",
       "\n",
       "                statistical_weight  num_children  income_185_pov  \\\n",
       "case_id                                                            \n",
       "20080101080013        1.739920e+07             0             1.0   \n",
       "20080101080015        5.435524e+06             0             NaN   \n",
       "20080101080088        2.925273e+06             0             2.0   \n",
       "\n",
       "                meal_preparer  grocery_shopper  secondary_eating_duration  \\\n",
       "case_id                                                                     \n",
       "20080101080013            1.0              1.0                          0   \n",
       "20080101080015            3.0              3.0                          0   \n",
       "20080101080088            1.0              1.0                          0   \n",
       "\n",
       "                secondary_drinking_duration  primary_eating_duration  \\\n",
       "case_id                                                                \n",
       "20080101080013                            0                       20   \n",
       "20080101080015                            0                        5   \n",
       "20080101080088                            0                       90   \n",
       "\n",
       "                secondary_drinking_day_prior  weight_lb  \\\n",
       "case_id                                                   \n",
       "20080101080013                           0.0        180   \n",
       "20080101080015                           0.0        200   \n",
       "20080101080088                           0.0        100   \n",
       "\n",
       "                secondary_eating_day_prior   bmi  secondary_eating_all_day  \\\n",
       "case_id                                                                      \n",
       "20080101080013                         0.0  28.2                         0   \n",
       "20080101080015                         0.0  30.4                         0   \n",
       "20080101080088                         0.0  15.7                         0   \n",
       "\n",
       "                secondary_drinking_all_day activity_list  assisted_meals  \n",
       "case_id                                                                   \n",
       "20080101080013                           0           NaN             NaN  \n",
       "20080101080015                           0           NaN             NaN  \n",
       "20080101080088                           0           NaN             NaN  "
      ]
     },
     "metadata": {},
     "output_type": "display_data"
    }
   ],
   "source": [
    "# Combine all data\n",
    "df_join_2 = ehresp.join(df_join_1)\n",
    "display(df_join_2.shape, df_join_2.head(3))"
   ]
  },
  {
   "cell_type": "code",
   "execution_count": 156,
   "metadata": {},
   "outputs": [],
   "source": [
    "# Append year\n",
    "df_join_2['year'] = year"
   ]
  },
  {
   "cell_type": "code",
   "execution_count": 157,
   "metadata": {},
   "outputs": [],
   "source": [
    "df_join_2.to_csv(path_or_buf=output_file_name)"
   ]
  },
  {
   "cell_type": "code",
   "execution_count": null,
   "metadata": {},
   "outputs": [],
   "source": []
  }
 ],
 "metadata": {
  "kernelspec": {
   "display_name": "Python 3",
   "language": "python",
   "name": "python3"
  },
  "language_info": {
   "codemirror_mode": {
    "name": "ipython",
    "version": 3
   },
   "file_extension": ".py",
   "mimetype": "text/x-python",
   "name": "python",
   "nbconvert_exporter": "python",
   "pygments_lexer": "ipython3",
   "version": "3.7.3"
  }
 },
 "nbformat": 4,
 "nbformat_minor": 4
}
