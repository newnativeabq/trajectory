{
 "cells": [
  {
   "cell_type": "code",
   "execution_count": 2,
   "metadata": {},
   "outputs": [],
   "source": [
    "# import libraries\n",
    "import pandas as pd\n",
    "import os\n",
    "from IPython.display import display\n"
   ]
  },
  {
   "cell_type": "code",
   "execution_count": 3,
   "metadata": {},
   "outputs": [],
   "source": [
    "# Global parameters for cleaning & stitching\n",
    "years_a = [2006, 2007, 2008]\n",
    "years_b = [2014, 2015, 2016]"
   ]
  },
  {
   "cell_type": "code",
   "execution_count": 4,
   "metadata": {},
   "outputs": [
    {
     "data": {
      "text/plain": [
       "{'2006_in': ['ehact_2006.dat', 'ehchild_2006.dat', 'ehresp_2006.dat'],\n",
       " '2006_out': '2006_clean.csv',\n",
       " '2007_in': ['ehact_2007.dat', 'ehchild_2007.dat', 'ehresp_2007.dat'],\n",
       " '2007_out': '2007_clean.csv',\n",
       " '2008_in': ['ehact_2008.dat', 'ehchild_2008.dat', 'ehresp_2008.dat'],\n",
       " '2008_out': '2008_clean.csv',\n",
       " '2014_in': ['ehact_2014.dat', 'ehresp_2014.dat'],\n",
       " '2014_out': '2014_clean.csv',\n",
       " '2015_in': ['ehact_2015.dat', 'ehresp_2015.dat'],\n",
       " '2015_out': '2015_clean.csv',\n",
       " '2016_in': ['ehact_2016.dat', 'ehresp_2016.dat'],\n",
       " '2016_out': '2016_clean.csv'}"
      ]
     },
     "metadata": {},
     "output_type": "display_data"
    }
   ],
   "source": [
    "#Setup intake parameters (file_names, ...)\n",
    "file_prefix_list_a = ['ehact', 'ehchild', 'ehresp']\n",
    "file_prefix_list_b = ['ehact', 'ehresp']\n",
    "\n",
    "# populate list of files to read\n",
    "# Note: 2014-2016 may not have ehchild data.  TODO - check ATUS available data.\n",
    "params = {}\n",
    "for year in years_a:\n",
    "    year = str(year)\n",
    "    params[year+'_in'] = [x + '_' + year + '.dat' for x in file_prefix_list_a]\n",
    "    params[year+'_out'] = year + '_clean.csv'\n",
    "    \n",
    "for year in years_b:\n",
    "    year = str(year)\n",
    "    params[year+'_in'] = [x + '_' + year + '.dat' for x in file_prefix_list_b]\n",
    "    params[year+'_out'] = year + '_clean.csv'\n",
    "\n",
    "display(params)"
   ]
  },
  {
   "cell_type": "code",
   "execution_count": 5,
   "metadata": {},
   "outputs": [
    {
     "name": "stdout",
     "output_type": "stream",
     "text": [
      "Files and directories in ' C:\\Users\\vince\\Desktop\\lambdaschool_temp\\4.portfolioprojects\\eat_health ' :\n",
      ".ipynb_checkpoints\n",
      "2006_clean.csv\n",
      "2007_clean.csv\n",
      "2008_clean.csv\n",
      "archive\n",
      "atususersguide.pdf\n",
      "ehact_2006.dat\n",
      "ehact_2007.dat\n",
      "ehact_2008.dat\n",
      "ehact_2014.dat\n",
      "ehact_2015.dat\n",
      "ehact_2016.dat\n",
      "ehchild_2006.dat\n",
      "ehchild_2007.dat\n",
      "ehchild_2008.dat\n",
      "ehmintcodebk1416.pdf\n",
      "ehmintcodebk_06-08.pdf\n",
      "ehresp_2006.dat\n",
      "ehresp_2007.dat\n",
      "ehresp_2008.dat\n",
      "ehresp_2014.dat\n",
      "ehresp_2015.dat\n",
      "ehresp_2016.dat\n",
      "read_clean.ipynb\n",
      "stitch.ipynb\n",
      "trajectory\n"
     ]
    }
   ],
   "source": [
    "# Check present working directory for filenames\n",
    "path = os.getcwd() \n",
    "dir_list = os.listdir(path) \n",
    "  \n",
    "print(\"Files and directories in '\", path, \"' :\")  \n",
    "for item in dir_list:\n",
    "    print(item)"
   ]
  },
  {
   "cell_type": "code",
   "execution_count": 6,
   "metadata": {},
   "outputs": [
    {
     "data": {
      "text/plain": [
       "'ehact_2014.dat'"
      ]
     },
     "metadata": {},
     "output_type": "display_data"
    },
    {
     "data": {
      "text/html": [
       "<div>\n",
       "<style scoped>\n",
       "    .dataframe tbody tr th:only-of-type {\n",
       "        vertical-align: middle;\n",
       "    }\n",
       "\n",
       "    .dataframe tbody tr th {\n",
       "        vertical-align: top;\n",
       "    }\n",
       "\n",
       "    .dataframe thead th {\n",
       "        text-align: right;\n",
       "    }\n",
       "</style>\n",
       "<table border=\"1\" class=\"dataframe\">\n",
       "  <thead>\n",
       "    <tr style=\"text-align: right;\">\n",
       "      <th></th>\n",
       "      <th>TUCASEID</th>\n",
       "      <th>TUACTIVITY_N</th>\n",
       "      <th>EUEATSUM</th>\n",
       "      <th>EUEDUR</th>\n",
       "      <th>EUEDUR24</th>\n",
       "    </tr>\n",
       "  </thead>\n",
       "  <tbody>\n",
       "    <tr>\n",
       "      <td>0</td>\n",
       "      <td>20140101140007</td>\n",
       "      <td>1</td>\n",
       "      <td>-1</td>\n",
       "      <td>-1</td>\n",
       "      <td>-1</td>\n",
       "    </tr>\n",
       "    <tr>\n",
       "      <td>1</td>\n",
       "      <td>20140101140007</td>\n",
       "      <td>2</td>\n",
       "      <td>-1</td>\n",
       "      <td>-1</td>\n",
       "      <td>-1</td>\n",
       "    </tr>\n",
       "    <tr>\n",
       "      <td>2</td>\n",
       "      <td>20140101140007</td>\n",
       "      <td>3</td>\n",
       "      <td>-1</td>\n",
       "      <td>-1</td>\n",
       "      <td>-1</td>\n",
       "    </tr>\n",
       "  </tbody>\n",
       "</table>\n",
       "</div>"
      ],
      "text/plain": [
       "         TUCASEID  TUACTIVITY_N  EUEATSUM  EUEDUR  EUEDUR24\n",
       "0  20140101140007             1        -1      -1        -1\n",
       "1  20140101140007             2        -1      -1        -1\n",
       "2  20140101140007             3        -1      -1        -1"
      ]
     },
     "metadata": {},
     "output_type": "display_data"
    },
    {
     "data": {
      "text/plain": [
       "'ehresp_2014.dat'"
      ]
     },
     "metadata": {},
     "output_type": "display_data"
    },
    {
     "data": {
      "text/html": [
       "<div>\n",
       "<style scoped>\n",
       "    .dataframe tbody tr th:only-of-type {\n",
       "        vertical-align: middle;\n",
       "    }\n",
       "\n",
       "    .dataframe tbody tr th {\n",
       "        vertical-align: top;\n",
       "    }\n",
       "\n",
       "    .dataframe thead th {\n",
       "        text-align: right;\n",
       "    }\n",
       "</style>\n",
       "<table border=\"1\" class=\"dataframe\">\n",
       "  <thead>\n",
       "    <tr style=\"text-align: right;\">\n",
       "      <th></th>\n",
       "      <th>TUCASEID</th>\n",
       "      <th>TULINENO</th>\n",
       "      <th>EEINCOME1</th>\n",
       "      <th>ERBMI</th>\n",
       "      <th>ERHHCH</th>\n",
       "      <th>ERINCOME</th>\n",
       "      <th>ERSPEMCH</th>\n",
       "      <th>ERTPREAT</th>\n",
       "      <th>ERTSEAT</th>\n",
       "      <th>ETHGT</th>\n",
       "      <th>...</th>\n",
       "      <th>EUMEAT</th>\n",
       "      <th>EUMILK</th>\n",
       "      <th>EUPRPMEL</th>\n",
       "      <th>EUSODA</th>\n",
       "      <th>EUSTORES</th>\n",
       "      <th>EUSTREASON</th>\n",
       "      <th>EUTHERM</th>\n",
       "      <th>EUWGT</th>\n",
       "      <th>EUWIC</th>\n",
       "      <th>EXINCOME1</th>\n",
       "    </tr>\n",
       "  </thead>\n",
       "  <tbody>\n",
       "    <tr>\n",
       "      <td>0</td>\n",
       "      <td>20140101140007</td>\n",
       "      <td>1</td>\n",
       "      <td>-2</td>\n",
       "      <td>33.2</td>\n",
       "      <td>1</td>\n",
       "      <td>-1</td>\n",
       "      <td>-1</td>\n",
       "      <td>30</td>\n",
       "      <td>2</td>\n",
       "      <td>0</td>\n",
       "      <td>...</td>\n",
       "      <td>1</td>\n",
       "      <td>2</td>\n",
       "      <td>1</td>\n",
       "      <td>-1</td>\n",
       "      <td>2</td>\n",
       "      <td>1</td>\n",
       "      <td>2</td>\n",
       "      <td>170</td>\n",
       "      <td>1</td>\n",
       "      <td>2</td>\n",
       "    </tr>\n",
       "    <tr>\n",
       "      <td>1</td>\n",
       "      <td>20140101140011</td>\n",
       "      <td>1</td>\n",
       "      <td>1</td>\n",
       "      <td>22.7</td>\n",
       "      <td>3</td>\n",
       "      <td>1</td>\n",
       "      <td>-1</td>\n",
       "      <td>45</td>\n",
       "      <td>14</td>\n",
       "      <td>0</td>\n",
       "      <td>...</td>\n",
       "      <td>1</td>\n",
       "      <td>2</td>\n",
       "      <td>1</td>\n",
       "      <td>-1</td>\n",
       "      <td>1</td>\n",
       "      <td>2</td>\n",
       "      <td>2</td>\n",
       "      <td>128</td>\n",
       "      <td>2</td>\n",
       "      <td>0</td>\n",
       "    </tr>\n",
       "    <tr>\n",
       "      <td>2</td>\n",
       "      <td>20140101140028</td>\n",
       "      <td>1</td>\n",
       "      <td>2</td>\n",
       "      <td>49.4</td>\n",
       "      <td>3</td>\n",
       "      <td>5</td>\n",
       "      <td>-1</td>\n",
       "      <td>60</td>\n",
       "      <td>0</td>\n",
       "      <td>0</td>\n",
       "      <td>...</td>\n",
       "      <td>-1</td>\n",
       "      <td>-1</td>\n",
       "      <td>2</td>\n",
       "      <td>2</td>\n",
       "      <td>-1</td>\n",
       "      <td>-1</td>\n",
       "      <td>-1</td>\n",
       "      <td>270</td>\n",
       "      <td>2</td>\n",
       "      <td>12</td>\n",
       "    </tr>\n",
       "  </tbody>\n",
       "</table>\n",
       "<p>3 rows × 37 columns</p>\n",
       "</div>"
      ],
      "text/plain": [
       "         TUCASEID  TULINENO  EEINCOME1  ERBMI  ERHHCH  ERINCOME  ERSPEMCH  \\\n",
       "0  20140101140007         1         -2   33.2       1        -1        -1   \n",
       "1  20140101140011         1          1   22.7       3         1        -1   \n",
       "2  20140101140028         1          2   49.4       3         5        -1   \n",
       "\n",
       "   ERTPREAT  ERTSEAT  ETHGT  ...  EUMEAT  EUMILK  EUPRPMEL  EUSODA  EUSTORES  \\\n",
       "0        30        2      0  ...       1       2         1      -1         2   \n",
       "1        45       14      0  ...       1       2         1      -1         1   \n",
       "2        60        0      0  ...      -1      -1         2       2        -1   \n",
       "\n",
       "   EUSTREASON  EUTHERM  EUWGT  EUWIC  EXINCOME1  \n",
       "0           1        2    170      1          2  \n",
       "1           2        2    128      2          0  \n",
       "2          -1       -1    270      2         12  \n",
       "\n",
       "[3 rows x 37 columns]"
      ]
     },
     "metadata": {},
     "output_type": "display_data"
    }
   ],
   "source": [
    "# Intake data\n",
    "\n",
    "# Filter Control\n",
    "year = 2014\n",
    "\n",
    "input_file_list = params[str(year)+'_in']\n",
    "\n",
    "working_data = {}\n",
    "for input_file in input_file_list:\n",
    "    working_data[input_file] = pd.read_csv(input_file)\n",
    "\n",
    "for key, item in working_data.items():\n",
    "    display(key, item.head(3))"
   ]
  },
  {
   "cell_type": "code",
   "execution_count": 7,
   "metadata": {},
   "outputs": [
    {
     "data": {
      "text/plain": [
       "'2014_clean.csv'"
      ]
     },
     "execution_count": 7,
     "metadata": {},
     "output_type": "execute_result"
    }
   ],
   "source": [
    "# Output Prep\n",
    "output_file_name = params[str(year)+'_out']\n",
    "output_file_name"
   ]
  },
  {
   "cell_type": "markdown",
   "metadata": {},
   "source": [
    "## Interpret/Transform: Eating & Health Activity File (EHACT)\n",
    "**Identify data to keep.  Drop per column name match criteria (see below)**\n",
    "\n",
    "--2006 Thru 2008--\n",
    "* TUCASEID: case_id\n",
    "* TUACTIVITY_N: activity_number\n",
    "* EUEATSUM: eating_during_activity\n",
    "* EUDRKSUM: drinking_during_activity (non-water implied for analysis.  not included in new var name)\n",
    "* EUEDUR: eating_duration\n",
    "* EUDDUR: drinking_duration\n",
    "* EUEDUR24: eating_duration_24h\n",
    "* EUDDUR24: drinking_druation_24h\n",
    "\n",
    "**Note, EHACT does not include demographic information needed for application**\n",
    "\n",
    "For ease of client understanding and analysis (as well as applicationd development), EUEDUR24/EUDDUR24 will be used in lieu of EUEDUR and EUDDUR."
   ]
  },
  {
   "cell_type": "code",
   "execution_count": 8,
   "metadata": {},
   "outputs": [
    {
     "data": {
      "text/plain": [
       "Index(['TUCASEID', 'TUACTIVITY_N', 'EUEATSUM', 'EUEDUR', 'EUEDUR24'], dtype='object')"
      ]
     },
     "execution_count": 8,
     "metadata": {},
     "output_type": "execute_result"
    }
   ],
   "source": [
    "working_data[input_file_list[0]].columns"
   ]
  },
  {
   "cell_type": "code",
   "execution_count": 9,
   "metadata": {},
   "outputs": [],
   "source": [
    "# Remove non-truncated drinking, eating time variables.  \n",
    "if year in years_b:\n",
    "    ehact = working_data[input_file_list[0]].drop(columns=['EUEDUR']).copy()\n",
    "else:\n",
    "    ehact = working_data[input_file_list[0]].drop(columns=['EUEDUR', 'EUDDUR']).copy()"
   ]
  },
  {
   "cell_type": "code",
   "execution_count": 10,
   "metadata": {},
   "outputs": [
    {
     "data": {
      "text/html": [
       "<div>\n",
       "<style scoped>\n",
       "    .dataframe tbody tr th:only-of-type {\n",
       "        vertical-align: middle;\n",
       "    }\n",
       "\n",
       "    .dataframe tbody tr th {\n",
       "        vertical-align: top;\n",
       "    }\n",
       "\n",
       "    .dataframe thead th {\n",
       "        text-align: right;\n",
       "    }\n",
       "</style>\n",
       "<table border=\"1\" class=\"dataframe\">\n",
       "  <thead>\n",
       "    <tr style=\"text-align: right;\">\n",
       "      <th></th>\n",
       "      <th>case_id</th>\n",
       "      <th>activity_number</th>\n",
       "      <th>eating_during_activity</th>\n",
       "      <th>eating_duration_24</th>\n",
       "    </tr>\n",
       "  </thead>\n",
       "  <tbody>\n",
       "    <tr>\n",
       "      <td>0</td>\n",
       "      <td>20140101140007</td>\n",
       "      <td>1</td>\n",
       "      <td>-1</td>\n",
       "      <td>-1</td>\n",
       "    </tr>\n",
       "    <tr>\n",
       "      <td>1</td>\n",
       "      <td>20140101140007</td>\n",
       "      <td>2</td>\n",
       "      <td>-1</td>\n",
       "      <td>-1</td>\n",
       "    </tr>\n",
       "  </tbody>\n",
       "</table>\n",
       "</div>"
      ],
      "text/plain": [
       "          case_id  activity_number  eating_during_activity  eating_duration_24\n",
       "0  20140101140007                1                      -1                  -1\n",
       "1  20140101140007                2                      -1                  -1"
      ]
     },
     "metadata": {},
     "output_type": "display_data"
    }
   ],
   "source": [
    "# Rename columns to readable format\n",
    "if year in years_b:\n",
    "    ehact_columns = [\n",
    "        'case_id', 'activity_number', 'eating_during_activity', 'eating_duration_24'\n",
    "    ]\n",
    "\n",
    "else:\n",
    "    ehact_columns = [\n",
    "        'case_id', 'activity_number', 'eating_during_activity', \n",
    "        'drinking_during_activity', 'eating_duration_24', 'drinking_duration_24'\n",
    "    ]\n",
    "ehact.columns = ehact_columns\n",
    "display(ehact.head(2))"
   ]
  },
  {
   "cell_type": "markdown",
   "metadata": {},
   "source": [
    "### Deal with missing values or unusable data for our use case\n",
    "\n",
    "**Acceptable values:\n",
    "\n",
    "* eating_during_activity or drinking_during_activity are (0,1)\n",
    "* eating_duration_24, drinking_duration_24 (>1 & <1440)"
   ]
  },
  {
   "cell_type": "code",
   "execution_count": 11,
   "metadata": {},
   "outputs": [],
   "source": [
    "import numpy as np\n",
    "\n",
    "def allocation_check(x):\n",
    "    '''\n",
    "    Check allocation column for acceptable value and apply np.nan/0 to missing data.\n",
    "    ATUS allocation values:\n",
    "        0 Value – no change\n",
    "        10 Value to value\n",
    "        11 Blank to value\n",
    "        12 Don’t know to value\n",
    "        13 Refused to value\n",
    "        21 Blank to longitudinal value\n",
    "        22 Don’t know to longitudinal value\n",
    "        23 Refused to longitudinal value\n",
    "        30 Value to allocated longitudinal value (unused)\n",
    "        31 Blank to allocated longitudinal value (unused)\n",
    "        32 Don’t know to allocated longitudinal value (unused)\n",
    "        33 Refused to allocated longitudinal value (unused)\n",
    "        40 Value to allocated value\n",
    "        41 Blank to allocated value\n",
    "        42 Don’t know to allocated value\n",
    "        43 Refused to allocated value\n",
    "        71 Refused to assigned from respondent's earnings\n",
    "        72 Don't know to assigned from earnings of respondent's spouse or unmarried partner\n",
    "        73 Don't know to assigned from earnings of respondent's other household members (not spouse or unmarried partner)\n",
    "        74 Don't know to assigned from earnings of respondent and respondent's spouse or unmarried partner\n",
    "        75 Don't know to assigned from earnings of respondent and respondent's other household members (not spouse or unmarried partner)\n",
    "        76 Don't know to assigned from earnings of respondent's spouse or unmarried partner and respondent's other household members\n",
    "        77 Don't know to assigned from earnings of respondent, respondent's spouse or unmarried partner, and respondent's other household members\n",
    "        81 Refused to assigned from respondent's earnings\n",
    "        82 Refused to assigned from earnings of respondent's spouse or unmarried partner\n",
    "        83 Refused to assigned from earnings of respondent's other household members (not spouse or unmarried partner)\n",
    "        84 Refused to assigned from earnings of respondent and respondent's spouse or unmarried partner\n",
    "        85 Refused to assigned from earnings of respondent and respondent's other household members (not spouse or unmarried partner)\n",
    "        86 Refused to assigned from earnings of respondent's spouse or unmarried partner and respondent's other household members\n",
    "        87 Refused to assigned from earnings of respondent, respondent's spouse or unmarried partner, and respondent's other household members\n",
    "    \n",
    "    '''\n",
    "    value_present_allocations = [0, 10, 11, 12, 13, 21, 22, 23, 30, 31, 32, 33,\n",
    "                                 40, 41, 42, 43, 71, 72, 73, 74, 75, 76, 77,\n",
    "                                81, 82, 83, 84, 85, 86, 87]\n",
    "    if x in value_present_allocations:\n",
    "        return 1\n",
    "    else:\n",
    "        return 0\n",
    "    "
   ]
  },
  {
   "cell_type": "code",
   "execution_count": 12,
   "metadata": {},
   "outputs": [],
   "source": [
    "import numpy as np\n",
    "\n",
    "def value_check(x, minima, maxima, nan_opt):\n",
    "    if x >= minima and x <= maxima:\n",
    "        return x\n",
    "    else:\n",
    "        if nan_opt:\n",
    "            return np.nan\n",
    "        else:\n",
    "            return 0"
   ]
  },
  {
   "cell_type": "code",
   "execution_count": 13,
   "metadata": {},
   "outputs": [
    {
     "data": {
      "text/plain": [
       "-1     112205\n",
       " 10      1968\n",
       " 5       1810\n",
       " 15      1287\n",
       " 30       773\n",
       "Name: eating_duration_24, dtype: int64"
      ]
     },
     "execution_count": 13,
     "metadata": {},
     "output_type": "execute_result"
    }
   ],
   "source": [
    "ehact.eating_duration_24.value_counts().head()"
   ]
  },
  {
   "cell_type": "code",
   "execution_count": 14,
   "metadata": {},
   "outputs": [
    {
     "name": "stdout",
     "output_type": "stream",
     "text": [
      "drinking_during_activity variable not found\n"
     ]
    },
    {
     "data": {
      "text/plain": [
       "0    112205\n",
       "1      8514\n",
       "Name: eating_during_activity, dtype: int64"
      ]
     },
     "execution_count": 14,
     "metadata": {},
     "output_type": "execute_result"
    }
   ],
   "source": [
    "# Convert -1 to 0 for multiplication to eating_duration_24\n",
    "try:\n",
    "    ehact['eating_during_activity'] = ehact.eating_during_activity.apply(value_check, args=(0,2,False))\n",
    "except AttributeError:\n",
    "    print('eating_during_activity variable not found')\n",
    "    \n",
    "try:\n",
    "    ehact['drinking_during_activity'] = ehact.drinking_during_activity.apply(value_check, args=(0,2,False))\n",
    "except AttributeError:\n",
    "    print('drinking_during_activity variable not found')\n",
    "    \n",
    "ehact.eating_during_activity.value_counts()"
   ]
  },
  {
   "cell_type": "code",
   "execution_count": 15,
   "metadata": {},
   "outputs": [
    {
     "name": "stdout",
     "output_type": "stream",
     "text": [
      "drinking_during_activity variable not found\n"
     ]
    }
   ],
   "source": [
    "# Multiply binary existance (eating_during_activity) by duration to standardize missing values as 0.\n",
    "# Then keep only positive numbers.\n",
    "# Drop binary existance columns\n",
    "try:\n",
    "    ehact['eating_duration_24'] = ehact['eating_duration_24'] * ehact['eating_during_activity']\n",
    "    ehact = ehact.drop(columns=['eating_during_activity'])\n",
    "    ehact['eating_duration_24'] = ehact['eating_duration_24'].apply(value_check, args=(1,1440, True))\n",
    "except (AttributeError, KeyError):\n",
    "    print('eating_during_activity variable not found')\n",
    "\n",
    "try:\n",
    "    ehact['drinking_duration_24'] = ehact['drinking_duration_24'] * ehact['drinking_during_activity']\n",
    "    ehact = ehact.drop(columns=['drinking_during_activity'])\n",
    "    ehact['drinking_duration_24'] = ehact['drinking_duration_24'].apply(value_check, args=(1,1440, True))\n",
    "except (AttributeError, KeyError):\n",
    "    print('drinking_during_activity variable not found')\n"
   ]
  },
  {
   "cell_type": "code",
   "execution_count": 16,
   "metadata": {},
   "outputs": [
    {
     "data": {
      "text/plain": [
       "6112"
      ]
     },
     "metadata": {},
     "output_type": "display_data"
    },
    {
     "data": {
      "text/plain": [
       "(120719, 3)"
      ]
     },
     "metadata": {},
     "output_type": "display_data"
    }
   ],
   "source": [
    "display(ehact.case_id.nunique(), ehact.shape)"
   ]
  },
  {
   "cell_type": "code",
   "execution_count": 17,
   "metadata": {},
   "outputs": [],
   "source": [
    "# Groupby case_id to create features secondary_eating_24, secondary_drinking_24\n",
    "# Turn activity_numbers into list/case_id so summation retains all activities.\n",
    "# Store in new value activity_list"
   ]
  },
  {
   "cell_type": "code",
   "execution_count": 18,
   "metadata": {},
   "outputs": [
    {
     "data": {
      "text/html": [
       "<div>\n",
       "<style scoped>\n",
       "    .dataframe tbody tr th:only-of-type {\n",
       "        vertical-align: middle;\n",
       "    }\n",
       "\n",
       "    .dataframe tbody tr th {\n",
       "        vertical-align: top;\n",
       "    }\n",
       "\n",
       "    .dataframe thead th {\n",
       "        text-align: right;\n",
       "    }\n",
       "</style>\n",
       "<table border=\"1\" class=\"dataframe\">\n",
       "  <thead>\n",
       "    <tr style=\"text-align: right;\">\n",
       "      <th></th>\n",
       "      <th>case_id</th>\n",
       "      <th>activity_number</th>\n",
       "      <th>eating_duration_24</th>\n",
       "    </tr>\n",
       "  </thead>\n",
       "  <tbody>\n",
       "    <tr>\n",
       "      <td>6</td>\n",
       "      <td>20140101140007</td>\n",
       "      <td>7</td>\n",
       "      <td>2.0</td>\n",
       "    </tr>\n",
       "    <tr>\n",
       "      <td>15</td>\n",
       "      <td>20140101140011</td>\n",
       "      <td>6</td>\n",
       "      <td>3.0</td>\n",
       "    </tr>\n",
       "    <tr>\n",
       "      <td>16</td>\n",
       "      <td>20140101140011</td>\n",
       "      <td>7</td>\n",
       "      <td>3.0</td>\n",
       "    </tr>\n",
       "    <tr>\n",
       "      <td>20</td>\n",
       "      <td>20140101140011</td>\n",
       "      <td>11</td>\n",
       "      <td>8.0</td>\n",
       "    </tr>\n",
       "    <tr>\n",
       "      <td>35</td>\n",
       "      <td>20140101140559</td>\n",
       "      <td>8</td>\n",
       "      <td>5.0</td>\n",
       "    </tr>\n",
       "  </tbody>\n",
       "</table>\n",
       "</div>"
      ],
      "text/plain": [
       "           case_id  activity_number  eating_duration_24\n",
       "6   20140101140007                7                 2.0\n",
       "15  20140101140011                6                 3.0\n",
       "16  20140101140011                7                 3.0\n",
       "20  20140101140011               11                 8.0\n",
       "35  20140101140559                8                 5.0"
      ]
     },
     "execution_count": 18,
     "metadata": {},
     "output_type": "execute_result"
    }
   ],
   "source": [
    "# Return rows with information\n",
    "drop_condition = ehact.drop(columns=['case_id', 'activity_number']).notna().values\n",
    "ehact_condensed = ehact[drop_condition]\n",
    "ehact_condensed.head()"
   ]
  },
  {
   "cell_type": "code",
   "execution_count": 19,
   "metadata": {},
   "outputs": [
    {
     "data": {
      "text/plain": [
       "8429"
      ]
     },
     "execution_count": 19,
     "metadata": {},
     "output_type": "execute_result"
    }
   ],
   "source": [
    "ehact_condensed.index.nunique()"
   ]
  },
  {
   "cell_type": "code",
   "execution_count": 20,
   "metadata": {},
   "outputs": [],
   "source": [
    "# Get a list of all ids to query\n",
    "active_ids = ehact_condensed.case_id.unique().tolist()\n",
    "\n",
    "# Query each id and return list of activities stored in dictionary\n",
    "activity_dict = {}\n",
    "for active_id in active_ids:\n",
    "    activity_dict[active_id] = ','.join(ehact_condensed.loc[ehact_condensed.case_id==active_id].activity_number.astype(str).tolist())"
   ]
  },
  {
   "cell_type": "code",
   "execution_count": 21,
   "metadata": {},
   "outputs": [
    {
     "data": {
      "text/html": [
       "<div>\n",
       "<style scoped>\n",
       "    .dataframe tbody tr th:only-of-type {\n",
       "        vertical-align: middle;\n",
       "    }\n",
       "\n",
       "    .dataframe tbody tr th {\n",
       "        vertical-align: top;\n",
       "    }\n",
       "\n",
       "    .dataframe thead th {\n",
       "        text-align: right;\n",
       "    }\n",
       "</style>\n",
       "<table border=\"1\" class=\"dataframe\">\n",
       "  <thead>\n",
       "    <tr style=\"text-align: right;\">\n",
       "      <th></th>\n",
       "      <th>eating_duration_24</th>\n",
       "    </tr>\n",
       "    <tr>\n",
       "      <th>case_id</th>\n",
       "      <th></th>\n",
       "    </tr>\n",
       "  </thead>\n",
       "  <tbody>\n",
       "    <tr>\n",
       "      <td>20140101140007</td>\n",
       "      <td>2.0</td>\n",
       "    </tr>\n",
       "    <tr>\n",
       "      <td>20140101140011</td>\n",
       "      <td>14.0</td>\n",
       "    </tr>\n",
       "    <tr>\n",
       "      <td>20140101140559</td>\n",
       "      <td>10.0</td>\n",
       "    </tr>\n",
       "    <tr>\n",
       "      <td>20140101140610</td>\n",
       "      <td>5.0</td>\n",
       "    </tr>\n",
       "    <tr>\n",
       "      <td>20140101140614</td>\n",
       "      <td>5.0</td>\n",
       "    </tr>\n",
       "  </tbody>\n",
       "</table>\n",
       "</div>"
      ],
      "text/plain": [
       "                eating_duration_24\n",
       "case_id                           \n",
       "20140101140007                 2.0\n",
       "20140101140011                14.0\n",
       "20140101140559                10.0\n",
       "20140101140610                 5.0\n",
       "20140101140614                 5.0"
      ]
     },
     "execution_count": 21,
     "metadata": {},
     "output_type": "execute_result"
    }
   ],
   "source": [
    "# Summation by case_id.  groupby automatically re|sets index to case_id\n",
    "ehact_condensed = ehact_condensed.drop(columns='activity_number').groupby('case_id').sum()\n",
    "ehact_condensed.head()"
   ]
  },
  {
   "cell_type": "code",
   "execution_count": 22,
   "metadata": {},
   "outputs": [
    {
     "data": {
      "text/html": [
       "<div>\n",
       "<style scoped>\n",
       "    .dataframe tbody tr th:only-of-type {\n",
       "        vertical-align: middle;\n",
       "    }\n",
       "\n",
       "    .dataframe tbody tr th {\n",
       "        vertical-align: top;\n",
       "    }\n",
       "\n",
       "    .dataframe thead th {\n",
       "        text-align: right;\n",
       "    }\n",
       "</style>\n",
       "<table border=\"1\" class=\"dataframe\">\n",
       "  <thead>\n",
       "    <tr style=\"text-align: right;\">\n",
       "      <th></th>\n",
       "      <th>activity_list</th>\n",
       "    </tr>\n",
       "    <tr>\n",
       "      <th>case_id</th>\n",
       "      <th></th>\n",
       "    </tr>\n",
       "  </thead>\n",
       "  <tbody>\n",
       "    <tr>\n",
       "      <td>20140101140007</td>\n",
       "      <td>7</td>\n",
       "    </tr>\n",
       "    <tr>\n",
       "      <td>20140101140011</td>\n",
       "      <td>6,7,11</td>\n",
       "    </tr>\n",
       "    <tr>\n",
       "      <td>20140101140559</td>\n",
       "      <td>8,10</td>\n",
       "    </tr>\n",
       "    <tr>\n",
       "      <td>20140101140610</td>\n",
       "      <td>9</td>\n",
       "    </tr>\n",
       "    <tr>\n",
       "      <td>20140101140614</td>\n",
       "      <td>12</td>\n",
       "    </tr>\n",
       "  </tbody>\n",
       "</table>\n",
       "</div>"
      ],
      "text/plain": [
       "               activity_list\n",
       "case_id                     \n",
       "20140101140007             7\n",
       "20140101140011        6,7,11\n",
       "20140101140559          8,10\n",
       "20140101140610             9\n",
       "20140101140614            12"
      ]
     },
     "execution_count": 22,
     "metadata": {},
     "output_type": "execute_result"
    }
   ],
   "source": [
    "# Add back activity list.  All this work is the equivalent of unstacking...well ok\n",
    "list_activities = pd.DataFrame.from_dict(activity_dict, orient='index')\n",
    "list_activities.columns = ['activity_list']\n",
    "list_activities.index = list_activities.index.set_names('case_id')\n",
    "list_activities.head()"
   ]
  },
  {
   "cell_type": "code",
   "execution_count": 23,
   "metadata": {},
   "outputs": [
    {
     "data": {
      "text/html": [
       "<div>\n",
       "<style scoped>\n",
       "    .dataframe tbody tr th:only-of-type {\n",
       "        vertical-align: middle;\n",
       "    }\n",
       "\n",
       "    .dataframe tbody tr th {\n",
       "        vertical-align: top;\n",
       "    }\n",
       "\n",
       "    .dataframe thead th {\n",
       "        text-align: right;\n",
       "    }\n",
       "</style>\n",
       "<table border=\"1\" class=\"dataframe\">\n",
       "  <thead>\n",
       "    <tr style=\"text-align: right;\">\n",
       "      <th></th>\n",
       "      <th>eating_duration_24</th>\n",
       "      <th>activity_list</th>\n",
       "    </tr>\n",
       "    <tr>\n",
       "      <th>case_id</th>\n",
       "      <th></th>\n",
       "      <th></th>\n",
       "    </tr>\n",
       "  </thead>\n",
       "  <tbody>\n",
       "    <tr>\n",
       "      <td>20140101140007</td>\n",
       "      <td>2.0</td>\n",
       "      <td>7</td>\n",
       "    </tr>\n",
       "    <tr>\n",
       "      <td>20140101140011</td>\n",
       "      <td>14.0</td>\n",
       "      <td>6,7,11</td>\n",
       "    </tr>\n",
       "    <tr>\n",
       "      <td>20140101140559</td>\n",
       "      <td>10.0</td>\n",
       "      <td>8,10</td>\n",
       "    </tr>\n",
       "    <tr>\n",
       "      <td>20140101140610</td>\n",
       "      <td>5.0</td>\n",
       "      <td>9</td>\n",
       "    </tr>\n",
       "    <tr>\n",
       "      <td>20140101140614</td>\n",
       "      <td>5.0</td>\n",
       "      <td>12</td>\n",
       "    </tr>\n",
       "  </tbody>\n",
       "</table>\n",
       "</div>"
      ],
      "text/plain": [
       "                eating_duration_24 activity_list\n",
       "case_id                                         \n",
       "20140101140007                 2.0             7\n",
       "20140101140011                14.0        6,7,11\n",
       "20140101140559                10.0          8,10\n",
       "20140101140610                 5.0             9\n",
       "20140101140614                 5.0            12"
      ]
     },
     "execution_count": 23,
     "metadata": {},
     "output_type": "execute_result"
    }
   ],
   "source": [
    "# Merge condensed activity list and reformatted activities\n",
    "ehact_condensed = ehact_condensed.join(list_activities)\n",
    "ehact_condensed.head()"
   ]
  },
  {
   "cell_type": "markdown",
   "metadata": {},
   "source": [
    "## Interpret/Transform: Eating & Health Child Responses\n",
    "\n",
    "Analysis of the children directly is not intended.  The goal here is to profile the household and append to the eventual final table for modeling.\n",
    "\n",
    "**Identify data to keep. Drop per column name match criteria (see below)**\n",
    "\n",
    "--2006 Thru 2008--\n",
    "* TUCASEID: case_id\n",
    "* TULINENO: person_number\n",
    "* EXLCH: ate_school_lunch_allocation\n",
    "* EELCH: ate_school_lunch\n",
    "* EEBRK: ate_school_breakfast\n",
    "* EXBRK: ate_school_breakfast_allocation\n",
    "\n",
    "### Engineered Features\n",
    "**One row per case_id**\n",
    "\n",
    "* total_children\n",
    "* num_assisted_meals_children"
   ]
  },
  {
   "cell_type": "code",
   "execution_count": 24,
   "metadata": {},
   "outputs": [
    {
     "ename": "AssertionError",
     "evalue": "",
     "output_type": "error",
     "traceback": [
      "\u001b[1;31m---------------------------------------------------------------------------\u001b[0m",
      "\u001b[1;31mAssertionError\u001b[0m                            Traceback (most recent call last)",
      "\u001b[1;32m<ipython-input-24-d49147315b69>\u001b[0m in \u001b[0;36m<module>\u001b[1;34m\u001b[0m\n\u001b[1;32m----> 1\u001b[1;33m \u001b[1;32massert\u001b[0m \u001b[0mlen\u001b[0m\u001b[1;33m(\u001b[0m\u001b[0mworking_data\u001b[0m\u001b[1;33m)\u001b[0m \u001b[1;33m>\u001b[0m \u001b[1;36m2\u001b[0m\u001b[1;33m\u001b[0m\u001b[1;33m\u001b[0m\u001b[0m\n\u001b[0m\u001b[0;32m      2\u001b[0m \u001b[0mworking_data\u001b[0m\u001b[1;33m[\u001b[0m\u001b[0minput_file_list\u001b[0m\u001b[1;33m[\u001b[0m\u001b[1;36m1\u001b[0m\u001b[1;33m]\u001b[0m\u001b[1;33m]\u001b[0m\u001b[1;33m.\u001b[0m\u001b[0mcolumns\u001b[0m\u001b[1;33m\u001b[0m\u001b[1;33m\u001b[0m\u001b[0m\n",
      "\u001b[1;31mAssertionError\u001b[0m: "
     ]
    }
   ],
   "source": [
    "assert len(working_data) > 2\n",
    "working_data[input_file_list[1]].columns"
   ]
  },
  {
   "cell_type": "code",
   "execution_count": 25,
   "metadata": {},
   "outputs": [
    {
     "ename": "AssertionError",
     "evalue": "",
     "output_type": "error",
     "traceback": [
      "\u001b[1;31m---------------------------------------------------------------------------\u001b[0m",
      "\u001b[1;31mAssertionError\u001b[0m                            Traceback (most recent call last)",
      "\u001b[1;32m<ipython-input-25-45d63d1a276a>\u001b[0m in \u001b[0;36m<module>\u001b[1;34m\u001b[0m\n\u001b[0;32m      1\u001b[0m \u001b[1;31m# Set column names to human readable format\u001b[0m\u001b[1;33m\u001b[0m\u001b[1;33m\u001b[0m\u001b[1;33m\u001b[0m\u001b[0m\n\u001b[1;32m----> 2\u001b[1;33m \u001b[1;32massert\u001b[0m \u001b[0mlen\u001b[0m\u001b[1;33m(\u001b[0m\u001b[0mworking_data\u001b[0m\u001b[1;33m)\u001b[0m \u001b[1;33m>\u001b[0m \u001b[1;36m2\u001b[0m\u001b[1;33m\u001b[0m\u001b[1;33m\u001b[0m\u001b[0m\n\u001b[0m\u001b[0;32m      3\u001b[0m \u001b[1;33m\u001b[0m\u001b[0m\n\u001b[0;32m      4\u001b[0m ehchild_columns = [\n\u001b[0;32m      5\u001b[0m     \u001b[1;34m'case_id'\u001b[0m\u001b[1;33m,\u001b[0m \u001b[1;34m'person_number'\u001b[0m\u001b[1;33m,\u001b[0m \u001b[1;34m'ate_school_lunch_allocation'\u001b[0m\u001b[1;33m,\u001b[0m\u001b[1;33m\u001b[0m\u001b[1;33m\u001b[0m\u001b[0m\n",
      "\u001b[1;31mAssertionError\u001b[0m: "
     ]
    }
   ],
   "source": [
    "# Set column names to human readable format\n",
    "assert len(working_data) > 2\n",
    "\n",
    "ehchild_columns = [\n",
    "    'case_id', 'person_number', 'ate_school_lunch_allocation',\n",
    "    'ate_school_lunch', 'ate_school_breakfast', 'ate_school_breakfast_allocation' \n",
    "]\n",
    "ehchild = working_data[input_file_list[1]].copy()\n",
    "ehchild.columns = ehchild_columns\n",
    "display(ehchild.head(2))"
   ]
  },
  {
   "cell_type": "code",
   "execution_count": 26,
   "metadata": {},
   "outputs": [
    {
     "ename": "AssertionError",
     "evalue": "",
     "output_type": "error",
     "traceback": [
      "\u001b[1;31m---------------------------------------------------------------------------\u001b[0m",
      "\u001b[1;31mAssertionError\u001b[0m                            Traceback (most recent call last)",
      "\u001b[1;32m<ipython-input-26-d8d4397930a5>\u001b[0m in \u001b[0;36m<module>\u001b[1;34m\u001b[0m\n\u001b[0;32m      1\u001b[0m \u001b[1;31m# Check for valid allocation codes\u001b[0m\u001b[1;33m\u001b[0m\u001b[1;33m\u001b[0m\u001b[1;33m\u001b[0m\u001b[0m\n\u001b[1;32m----> 2\u001b[1;33m \u001b[1;32massert\u001b[0m \u001b[0mlen\u001b[0m\u001b[1;33m(\u001b[0m\u001b[0mworking_data\u001b[0m\u001b[1;33m)\u001b[0m \u001b[1;33m>\u001b[0m \u001b[1;36m2\u001b[0m\u001b[1;33m\u001b[0m\u001b[1;33m\u001b[0m\u001b[0m\n\u001b[0m\u001b[0;32m      3\u001b[0m \u001b[1;33m\u001b[0m\u001b[0m\n\u001b[0;32m      4\u001b[0m \u001b[0mehchild\u001b[0m\u001b[1;33m[\u001b[0m\u001b[1;34m'ate_school_lunch_allocation'\u001b[0m\u001b[1;33m]\u001b[0m \u001b[1;33m=\u001b[0m \u001b[0mehchild\u001b[0m\u001b[1;33m[\u001b[0m\u001b[1;34m'ate_school_lunch_allocation'\u001b[0m\u001b[1;33m]\u001b[0m\u001b[1;33m.\u001b[0m\u001b[0mapply\u001b[0m\u001b[1;33m(\u001b[0m\u001b[0mallocation_check\u001b[0m\u001b[1;33m)\u001b[0m\u001b[1;33m\u001b[0m\u001b[1;33m\u001b[0m\u001b[0m\n",
      "\u001b[1;31mAssertionError\u001b[0m: "
     ]
    }
   ],
   "source": [
    "# Check for valid allocation codes\n",
    "assert len(working_data) > 2\n",
    "\n",
    "ehchild['ate_school_lunch_allocation'] = ehchild['ate_school_lunch_allocation'].apply(allocation_check)"
   ]
  },
  {
   "cell_type": "code",
   "execution_count": 27,
   "metadata": {},
   "outputs": [
    {
     "ename": "AssertionError",
     "evalue": "",
     "output_type": "error",
     "traceback": [
      "\u001b[1;31m---------------------------------------------------------------------------\u001b[0m",
      "\u001b[1;31mAssertionError\u001b[0m                            Traceback (most recent call last)",
      "\u001b[1;32m<ipython-input-27-196ebdf2d655>\u001b[0m in \u001b[0;36m<module>\u001b[1;34m\u001b[0m\n\u001b[0;32m      1\u001b[0m \u001b[1;31m# Check for valid allocation codes\u001b[0m\u001b[1;33m\u001b[0m\u001b[1;33m\u001b[0m\u001b[1;33m\u001b[0m\u001b[0m\n\u001b[1;32m----> 2\u001b[1;33m \u001b[1;32massert\u001b[0m \u001b[0mlen\u001b[0m\u001b[1;33m(\u001b[0m\u001b[0mworking_data\u001b[0m\u001b[1;33m)\u001b[0m \u001b[1;33m>\u001b[0m \u001b[1;36m2\u001b[0m\u001b[1;33m\u001b[0m\u001b[1;33m\u001b[0m\u001b[0m\n\u001b[0m\u001b[0;32m      3\u001b[0m \u001b[1;33m\u001b[0m\u001b[0m\n\u001b[0;32m      4\u001b[0m \u001b[0mehchild\u001b[0m\u001b[1;33m[\u001b[0m\u001b[1;34m'ate_school_breakfast_allocation'\u001b[0m\u001b[1;33m]\u001b[0m \u001b[1;33m=\u001b[0m \u001b[0mehchild\u001b[0m\u001b[1;33m[\u001b[0m\u001b[1;34m'ate_school_breakfast_allocation'\u001b[0m\u001b[1;33m]\u001b[0m\u001b[1;33m.\u001b[0m\u001b[0mapply\u001b[0m\u001b[1;33m(\u001b[0m\u001b[0mallocation_check\u001b[0m\u001b[1;33m)\u001b[0m\u001b[1;33m\u001b[0m\u001b[1;33m\u001b[0m\u001b[0m\n",
      "\u001b[1;31mAssertionError\u001b[0m: "
     ]
    }
   ],
   "source": [
    "# Check for valid allocation codes\n",
    "assert len(working_data) > 2\n",
    "\n",
    "ehchild['ate_school_breakfast_allocation'] = ehchild['ate_school_breakfast_allocation'].apply(allocation_check)"
   ]
  },
  {
   "cell_type": "code",
   "execution_count": 28,
   "metadata": {},
   "outputs": [
    {
     "ename": "AssertionError",
     "evalue": "",
     "output_type": "error",
     "traceback": [
      "\u001b[1;31m---------------------------------------------------------------------------\u001b[0m",
      "\u001b[1;31mAssertionError\u001b[0m                            Traceback (most recent call last)",
      "\u001b[1;32m<ipython-input-28-b96bcd6e3eb6>\u001b[0m in \u001b[0;36m<module>\u001b[1;34m\u001b[0m\n\u001b[0;32m      1\u001b[0m \u001b[1;31m# Set invalid data to zero where appropriate\u001b[0m\u001b[1;33m\u001b[0m\u001b[1;33m\u001b[0m\u001b[1;33m\u001b[0m\u001b[0m\n\u001b[1;32m----> 2\u001b[1;33m \u001b[1;32massert\u001b[0m \u001b[0mlen\u001b[0m\u001b[1;33m(\u001b[0m\u001b[0mworking_data\u001b[0m\u001b[1;33m)\u001b[0m \u001b[1;33m>\u001b[0m \u001b[1;36m2\u001b[0m\u001b[1;33m\u001b[0m\u001b[1;33m\u001b[0m\u001b[0m\n\u001b[0m\u001b[0;32m      3\u001b[0m \u001b[1;33m\u001b[0m\u001b[0m\n\u001b[0;32m      4\u001b[0m \u001b[0mehchild\u001b[0m\u001b[1;33m[\u001b[0m\u001b[1;34m'ate_school_lunch'\u001b[0m\u001b[1;33m]\u001b[0m \u001b[1;33m=\u001b[0m \u001b[0mehchild\u001b[0m\u001b[1;33m.\u001b[0m\u001b[0mate_school_lunch\u001b[0m \u001b[1;33m*\u001b[0m \u001b[0mehchild\u001b[0m\u001b[1;33m.\u001b[0m\u001b[0mate_school_lunch_allocation\u001b[0m\u001b[1;33m\u001b[0m\u001b[1;33m\u001b[0m\u001b[0m\n\u001b[0;32m      5\u001b[0m \u001b[0mehchild\u001b[0m\u001b[1;33m[\u001b[0m\u001b[1;34m'ate_school_breakfast'\u001b[0m\u001b[1;33m]\u001b[0m \u001b[1;33m=\u001b[0m \u001b[0mehchild\u001b[0m\u001b[1;33m.\u001b[0m\u001b[0mate_school_breakfast\u001b[0m \u001b[1;33m*\u001b[0m \u001b[0mehchild\u001b[0m\u001b[1;33m.\u001b[0m\u001b[0mate_school_breakfast_allocation\u001b[0m\u001b[1;33m\u001b[0m\u001b[1;33m\u001b[0m\u001b[0m\n",
      "\u001b[1;31mAssertionError\u001b[0m: "
     ]
    }
   ],
   "source": [
    "# Set invalid data to zero where appropriate\n",
    "assert len(working_data) > 2\n",
    "\n",
    "ehchild['ate_school_lunch'] = ehchild.ate_school_lunch * ehchild.ate_school_lunch_allocation\n",
    "ehchild['ate_school_breakfast'] = ehchild.ate_school_breakfast * ehchild.ate_school_breakfast_allocation"
   ]
  },
  {
   "cell_type": "code",
   "execution_count": 29,
   "metadata": {},
   "outputs": [
    {
     "ename": "AssertionError",
     "evalue": "",
     "output_type": "error",
     "traceback": [
      "\u001b[1;31m---------------------------------------------------------------------------\u001b[0m",
      "\u001b[1;31mAssertionError\u001b[0m                            Traceback (most recent call last)",
      "\u001b[1;32m<ipython-input-29-45f971c2a3e0>\u001b[0m in \u001b[0;36m<module>\u001b[1;34m\u001b[0m\n\u001b[0;32m      1\u001b[0m \u001b[1;31m# Drop allocation columns\u001b[0m\u001b[1;33m\u001b[0m\u001b[1;33m\u001b[0m\u001b[1;33m\u001b[0m\u001b[0m\n\u001b[1;32m----> 2\u001b[1;33m \u001b[1;32massert\u001b[0m \u001b[0mlen\u001b[0m\u001b[1;33m(\u001b[0m\u001b[0mworking_data\u001b[0m\u001b[1;33m)\u001b[0m \u001b[1;33m>\u001b[0m \u001b[1;36m2\u001b[0m\u001b[1;33m\u001b[0m\u001b[1;33m\u001b[0m\u001b[0m\n\u001b[0m\u001b[0;32m      3\u001b[0m \u001b[1;33m\u001b[0m\u001b[0m\n\u001b[0;32m      4\u001b[0m \u001b[0mehchild\u001b[0m \u001b[1;33m=\u001b[0m \u001b[0mehchild\u001b[0m\u001b[1;33m.\u001b[0m\u001b[0mdrop\u001b[0m\u001b[1;33m(\u001b[0m\u001b[0mcolumns\u001b[0m\u001b[1;33m=\u001b[0m\u001b[1;33m[\u001b[0m\u001b[1;34m'ate_school_lunch_allocation'\u001b[0m\u001b[1;33m,\u001b[0m \u001b[1;34m'ate_school_breakfast_allocation'\u001b[0m\u001b[1;33m]\u001b[0m\u001b[1;33m)\u001b[0m\u001b[1;33m\u001b[0m\u001b[1;33m\u001b[0m\u001b[0m\n",
      "\u001b[1;31mAssertionError\u001b[0m: "
     ]
    }
   ],
   "source": [
    "# Drop allocation columns\n",
    "assert len(working_data) > 2\n",
    "\n",
    "ehchild = ehchild.drop(columns=['ate_school_lunch_allocation', 'ate_school_breakfast_allocation'])"
   ]
  },
  {
   "cell_type": "code",
   "execution_count": 30,
   "metadata": {},
   "outputs": [
    {
     "ename": "AssertionError",
     "evalue": "",
     "output_type": "error",
     "traceback": [
      "\u001b[1;31m---------------------------------------------------------------------------\u001b[0m",
      "\u001b[1;31mAssertionError\u001b[0m                            Traceback (most recent call last)",
      "\u001b[1;32m<ipython-input-30-133e2d496ca0>\u001b[0m in \u001b[0;36m<module>\u001b[1;34m\u001b[0m\n\u001b[0;32m      1\u001b[0m \u001b[1;31m# Convert 2's in eating to zero, leave 1s as mean provided\u001b[0m\u001b[1;33m\u001b[0m\u001b[1;33m\u001b[0m\u001b[1;33m\u001b[0m\u001b[0m\n\u001b[1;32m----> 2\u001b[1;33m \u001b[1;32massert\u001b[0m \u001b[0mlen\u001b[0m\u001b[1;33m(\u001b[0m\u001b[0mworking_data\u001b[0m\u001b[1;33m)\u001b[0m \u001b[1;33m>\u001b[0m \u001b[1;36m2\u001b[0m\u001b[1;33m\u001b[0m\u001b[1;33m\u001b[0m\u001b[0m\n\u001b[0m\u001b[0;32m      3\u001b[0m \u001b[1;33m\u001b[0m\u001b[0m\n\u001b[0;32m      4\u001b[0m \u001b[0mehchild\u001b[0m\u001b[1;33m[\u001b[0m\u001b[1;34m'ate_school_breakfast'\u001b[0m\u001b[1;33m]\u001b[0m \u001b[1;33m=\u001b[0m \u001b[0mehchild\u001b[0m\u001b[1;33m.\u001b[0m\u001b[0mate_school_breakfast\u001b[0m \u001b[1;33m%\u001b[0m \u001b[1;36m2\u001b[0m\u001b[1;33m\u001b[0m\u001b[1;33m\u001b[0m\u001b[0m\n\u001b[0;32m      5\u001b[0m \u001b[0mehchild\u001b[0m\u001b[1;33m[\u001b[0m\u001b[1;34m'ate_school_lunch'\u001b[0m\u001b[1;33m]\u001b[0m \u001b[1;33m=\u001b[0m \u001b[0mehchild\u001b[0m\u001b[1;33m.\u001b[0m\u001b[0mate_school_lunch\u001b[0m \u001b[1;33m%\u001b[0m \u001b[1;36m2\u001b[0m\u001b[1;33m\u001b[0m\u001b[1;33m\u001b[0m\u001b[0m\n",
      "\u001b[1;31mAssertionError\u001b[0m: "
     ]
    }
   ],
   "source": [
    "# Convert 2's in eating to zero, leave 1s as mean provided\n",
    "assert len(working_data) > 2\n",
    "\n",
    "ehchild['ate_school_breakfast'] = ehchild.ate_school_breakfast % 2\n",
    "ehchild['ate_school_lunch'] = ehchild.ate_school_lunch % 2"
   ]
  },
  {
   "cell_type": "code",
   "execution_count": 31,
   "metadata": {},
   "outputs": [
    {
     "ename": "AssertionError",
     "evalue": "",
     "output_type": "error",
     "traceback": [
      "\u001b[1;31m---------------------------------------------------------------------------\u001b[0m",
      "\u001b[1;31mAssertionError\u001b[0m                            Traceback (most recent call last)",
      "\u001b[1;32m<ipython-input-31-3db0f6d22588>\u001b[0m in \u001b[0;36m<module>\u001b[1;34m\u001b[0m\n\u001b[0;32m      1\u001b[0m \u001b[1;31m# Set all person_numbers to 1 for simple summation to number children\u001b[0m\u001b[1;33m\u001b[0m\u001b[1;33m\u001b[0m\u001b[1;33m\u001b[0m\u001b[0m\n\u001b[1;32m----> 2\u001b[1;33m \u001b[1;32massert\u001b[0m \u001b[0mlen\u001b[0m\u001b[1;33m(\u001b[0m\u001b[0mworking_data\u001b[0m\u001b[1;33m)\u001b[0m \u001b[1;33m>\u001b[0m \u001b[1;36m2\u001b[0m\u001b[1;33m\u001b[0m\u001b[1;33m\u001b[0m\u001b[0m\n\u001b[0m\u001b[0;32m      3\u001b[0m \u001b[1;33m\u001b[0m\u001b[0m\n\u001b[0;32m      4\u001b[0m \u001b[0mehchild\u001b[0m\u001b[1;33m[\u001b[0m\u001b[1;34m'person_number'\u001b[0m\u001b[1;33m]\u001b[0m \u001b[1;33m=\u001b[0m \u001b[1;36m1\u001b[0m\u001b[1;33m\u001b[0m\u001b[1;33m\u001b[0m\u001b[0m\n",
      "\u001b[1;31mAssertionError\u001b[0m: "
     ]
    }
   ],
   "source": [
    "# Set all person_numbers to 1 for simple summation to number children\n",
    "assert len(working_data) > 2\n",
    "\n",
    "ehchild['person_number'] = 1"
   ]
  },
  {
   "cell_type": "code",
   "execution_count": 32,
   "metadata": {},
   "outputs": [
    {
     "ename": "AssertionError",
     "evalue": "",
     "output_type": "error",
     "traceback": [
      "\u001b[1;31m---------------------------------------------------------------------------\u001b[0m",
      "\u001b[1;31mAssertionError\u001b[0m                            Traceback (most recent call last)",
      "\u001b[1;32m<ipython-input-32-e5ea051774e8>\u001b[0m in \u001b[0;36m<module>\u001b[1;34m\u001b[0m\n\u001b[0;32m      1\u001b[0m \u001b[1;31m# Group by case_id and sum meals and children in household.  Rename columns\u001b[0m\u001b[1;33m\u001b[0m\u001b[1;33m\u001b[0m\u001b[1;33m\u001b[0m\u001b[0m\n\u001b[1;32m----> 2\u001b[1;33m \u001b[1;32massert\u001b[0m \u001b[0mlen\u001b[0m\u001b[1;33m(\u001b[0m\u001b[0mworking_data\u001b[0m\u001b[1;33m)\u001b[0m \u001b[1;33m>\u001b[0m \u001b[1;36m2\u001b[0m\u001b[1;33m\u001b[0m\u001b[1;33m\u001b[0m\u001b[0m\n\u001b[0m\u001b[0;32m      3\u001b[0m \u001b[1;33m\u001b[0m\u001b[0m\n\u001b[0;32m      4\u001b[0m \u001b[0mehchild_condensed\u001b[0m \u001b[1;33m=\u001b[0m \u001b[0mehchild\u001b[0m\u001b[1;33m.\u001b[0m\u001b[0mgroupby\u001b[0m\u001b[1;33m(\u001b[0m\u001b[1;34m'case_id'\u001b[0m\u001b[1;33m)\u001b[0m\u001b[1;33m.\u001b[0m\u001b[0msum\u001b[0m\u001b[1;33m(\u001b[0m\u001b[1;33m)\u001b[0m\u001b[1;33m\u001b[0m\u001b[1;33m\u001b[0m\u001b[0m\n\u001b[0;32m      5\u001b[0m \u001b[0mehchild_condensed\u001b[0m\u001b[1;33m[\u001b[0m\u001b[1;34m'assisted_meals'\u001b[0m\u001b[1;33m]\u001b[0m \u001b[1;33m=\u001b[0m \u001b[0mehchild_condensed\u001b[0m\u001b[1;33m.\u001b[0m\u001b[0mate_school_breakfast\u001b[0m \u001b[1;33m+\u001b[0m \u001b[0mehchild_condensed\u001b[0m\u001b[1;33m.\u001b[0m\u001b[0mate_school_lunch\u001b[0m\u001b[1;33m\u001b[0m\u001b[1;33m\u001b[0m\u001b[0m\n",
      "\u001b[1;31mAssertionError\u001b[0m: "
     ]
    }
   ],
   "source": [
    "# Group by case_id and sum meals and children in household.  Rename columns\n",
    "assert len(working_data) > 2\n",
    "\n",
    "ehchild_condensed = ehchild.groupby('case_id').sum()\n",
    "ehchild_condensed['assisted_meals'] = ehchild_condensed.ate_school_breakfast + ehchild_condensed.ate_school_lunch\n",
    "ehchild_condensed = ehchild_condensed.drop(columns=['ate_school_lunch', 'ate_school_breakfast'])\n",
    "ehchild_condensed.columns = ['num_children', 'assisted_meals']\n",
    "ehchild_condensed = ehchild_condensed.drop(columns='num_children') #duplicate data.  See ehresp.\n",
    "ehchild_condensed.head(3)"
   ]
  },
  {
   "cell_type": "code",
   "execution_count": 234,
   "metadata": {},
   "outputs": [],
   "source": [
    "# Combine ehchild_condensed and ehact_condensed --> NOT WORKING CORRECTLY.  GROUPBY EHACT\n",
    "if year in years_a:\n",
    "    df_join_1 = ehact_condensed.join(ehchild_condensed)\n",
    "    df_join_1 = df_join_1.drop(columns=['eating_duration_24', 'drinking_duration_24']) # repeated in response with allocation.  process retained for future evaluation\n",
    "    display(df_join_1.head(3))\n",
    "\n",
    "if year in years_b:\n",
    "    df_join_1 = ehact_condensed"
   ]
  },
  {
   "cell_type": "markdown",
   "metadata": {},
   "source": [
    "## Interpret/Transform: Response Data\n",
    "\n",
    "This is the primary data file for each year, containing targets BMI and overall health\n",
    "\n",
    "**Identify data to keep. Drop per column name match criteria (see below)**\n",
    "\n",
    "--2006 Thru 2008--\n",
    "* TUCASEID: case_id\n",
    "* (DROP) TULINENO\n",
    "* EUFSP: snap_benefits (1: yes; 2: no recode to --> 0: no; 1: yes)\n",
    "* EUGENHTH: general_health (1: excellent; 2: very good; 3: good; 4: fair; 5: poor -> Recode, Invert)\n",
    "* EUHGT: height_in\n",
    "* EUINCOME2: income_130_pov (recode ordinal relationship, 0 <= 130%, 1 > 130%)\n",
    "* ETWGT: topcode_weight (0: no code, val; 1: topcode, val=max 330lb; 2: bottomcode, val=min 98lb) -- See engineered features\n",
    "* ETHGT: topcode_height (0: no code, val; 1: topcode, val=max 77in; 2: bottomcode, val=min 56in)\n",
    "* (DROP) EUINCLVL: context - year of income for poverty threshold calculation in EUINCOME2.  Difference within yearly datasets not considered here.\n",
    "* EUFINLWGT: statistical weight - may need to be normalized per dataset for population level stats over time\n",
    "* (DROP) ERSPEMCH: Change in partner/spouse employment from previous CPS study (Not considered in Version 1 as CPS data not included in model)\n",
    "* ERC19NUM: num_children\n",
    "* EXINCOME1: EEINCOME1 allocation flag -> modified via allocation_check() to clean EEINCOME1\n",
    "* (DROP) ERINCOME: relationship between income and poverty threshold (derived feature not considered in Version 1)\n",
    "* EEINCOME1: income_185_pov (recode ordinal relationship, 0 <= 185%, 1 > 185%)\n",
    "* EUPRPMEL: meal_preparer (1: yes; 2: no; 3: split with others) **Consider categorical encoding**\n",
    "* EUGROSHP: grocery_shopper (1: yes; 2: no; 3: split equally) **Consider categorical encoding**\n",
    "* ERTSEAT: secondary_eating_duration \n",
    "* ERTSDRK: secondary_drinking_duration\n",
    "* ERTPREAT: primary_eating_duration\n",
    "* EUDRINK: secondary_drinking_day_prior\n",
    "* EUWGT: weight_lb\n",
    "* EUEAT: seondary_eating_day_prior (1: yes; 2: no recode to --> 0: no; 1: yes)\n",
    "* (DROP) ERHHCH: change in household from CPS survey (not considered in v1)\n",
    "* ERBMI: bmi\n",
    "* (DROP) EXSCLBRK: allocation flag for EESCLBRK (v1: represented via assisted meals)\n",
    "* (DROP) EESCLBRK:children ate prepared breakfast by outside institution (v1: represented via assisted meals)\n",
    "* (DROP) EXSCLLCH: allocation flag for EESCLLCH (v1: represented via assited meals)\n",
    "* (DROP) EESCLLCH: children ate prepared lunch by outside instituion (v1: represented via assisted meals)\n",
    "* (DROP) ERPLWC: proportion_children_assisted_lunch\n",
    "* (DROP) ERPBWC: proportion_children_assisted_breakfast\n",
    "* EREATAD: secondary_eating_all_day (1: yes; 2: no recode to --> 0: no; 1: yes)\n",
    "* ERDRKAD: secondary_drinking_all_day (1: yes; 2: no recode to --> 0: no; 1: yes)\n",
    "\n",
    "\n",
    "2014-2016\n",
    "\n",
    "* (DROP) ERINCOME: Relationship between income and poverty threshold.  Combines EEINCOME1 and EEINCOME2, but ordination off.\n",
    "* EUMEAT: prepare_meat_last_week (1: yes; 2: no recode to --> 0: no; 1: yes)\n",
    "* EUMILK: prepare_milk_last_week (1: yes; 2: no recode to --> 0: no; 1: yes)\n",
    "* EUSODA: drink_soda (1: yes; 2: no recode to --> 0: no; 1: yes)\n",
    "* EUDIETSODA: drink_diet_soda (1: diet; 2: regular; 3: both recode to --> 0: regular; 1: diet, both) - (v1 combines any instances of diet beverage)\n",
    "* EUEXFREQ: exercise_frequency_last_week\n",
    "* (DROP) EUEXERCISE: exercise_last_week\n",
    "* EUFASTFDFRQ: fast_food_frequency_last_week\n",
    "* (DROP) EUFASTFD: fast_food_last_week\n",
    "* EUFFYDAY: fast_food_yesterday\n",
    "\n",
    "\n",
    "### Engineered Features\n",
    "**One row per case_id**\n",
    "* weight_modified: topcode/bottom code re-calculated (v2: 1std from min to significantly distance from values near max/min)\n",
    "* height_modified: topcode/bottom code re-calculated (v2: 1std from min to significantly distance from values near max/min)"
   ]
  },
  {
   "cell_type": "code",
   "execution_count": 213,
   "metadata": {},
   "outputs": [
    {
     "data": {
      "text/html": [
       "<div>\n",
       "<style scoped>\n",
       "    .dataframe tbody tr th:only-of-type {\n",
       "        vertical-align: middle;\n",
       "    }\n",
       "\n",
       "    .dataframe tbody tr th {\n",
       "        vertical-align: top;\n",
       "    }\n",
       "\n",
       "    .dataframe thead th {\n",
       "        text-align: right;\n",
       "    }\n",
       "</style>\n",
       "<table border=\"1\" class=\"dataframe\">\n",
       "  <thead>\n",
       "    <tr style=\"text-align: right;\">\n",
       "      <th></th>\n",
       "      <th>TUCASEID</th>\n",
       "      <th>TULINENO</th>\n",
       "      <th>EEINCOME1</th>\n",
       "      <th>ERBMI</th>\n",
       "      <th>ERHHCH</th>\n",
       "      <th>ERINCOME</th>\n",
       "      <th>ERSPEMCH</th>\n",
       "      <th>ERTPREAT</th>\n",
       "      <th>ERTSEAT</th>\n",
       "      <th>ETHGT</th>\n",
       "      <th>...</th>\n",
       "      <th>EUMEAT</th>\n",
       "      <th>EUMILK</th>\n",
       "      <th>EUPRPMEL</th>\n",
       "      <th>EUSODA</th>\n",
       "      <th>EUSTORES</th>\n",
       "      <th>EUSTREASON</th>\n",
       "      <th>EUTHERM</th>\n",
       "      <th>EUWGT</th>\n",
       "      <th>EUWIC</th>\n",
       "      <th>EXINCOME1</th>\n",
       "    </tr>\n",
       "  </thead>\n",
       "  <tbody>\n",
       "    <tr>\n",
       "      <td>0</td>\n",
       "      <td>20140101140007</td>\n",
       "      <td>1</td>\n",
       "      <td>-2</td>\n",
       "      <td>33.2</td>\n",
       "      <td>1</td>\n",
       "      <td>-1</td>\n",
       "      <td>-1</td>\n",
       "      <td>30</td>\n",
       "      <td>2</td>\n",
       "      <td>0</td>\n",
       "      <td>...</td>\n",
       "      <td>1</td>\n",
       "      <td>2</td>\n",
       "      <td>1</td>\n",
       "      <td>-1</td>\n",
       "      <td>2</td>\n",
       "      <td>1</td>\n",
       "      <td>2</td>\n",
       "      <td>170</td>\n",
       "      <td>1</td>\n",
       "      <td>2</td>\n",
       "    </tr>\n",
       "    <tr>\n",
       "      <td>1</td>\n",
       "      <td>20140101140011</td>\n",
       "      <td>1</td>\n",
       "      <td>1</td>\n",
       "      <td>22.7</td>\n",
       "      <td>3</td>\n",
       "      <td>1</td>\n",
       "      <td>-1</td>\n",
       "      <td>45</td>\n",
       "      <td>14</td>\n",
       "      <td>0</td>\n",
       "      <td>...</td>\n",
       "      <td>1</td>\n",
       "      <td>2</td>\n",
       "      <td>1</td>\n",
       "      <td>-1</td>\n",
       "      <td>1</td>\n",
       "      <td>2</td>\n",
       "      <td>2</td>\n",
       "      <td>128</td>\n",
       "      <td>2</td>\n",
       "      <td>0</td>\n",
       "    </tr>\n",
       "  </tbody>\n",
       "</table>\n",
       "<p>2 rows × 37 columns</p>\n",
       "</div>"
      ],
      "text/plain": [
       "         TUCASEID  TULINENO  EEINCOME1  ERBMI  ERHHCH  ERINCOME  ERSPEMCH  \\\n",
       "0  20140101140007         1         -2   33.2       1        -1        -1   \n",
       "1  20140101140011         1          1   22.7       3         1        -1   \n",
       "\n",
       "   ERTPREAT  ERTSEAT  ETHGT  ...  EUMEAT  EUMILK  EUPRPMEL  EUSODA  EUSTORES  \\\n",
       "0        30        2      0  ...       1       2         1      -1         2   \n",
       "1        45       14      0  ...       1       2         1      -1         1   \n",
       "\n",
       "   EUSTREASON  EUTHERM  EUWGT  EUWIC  EXINCOME1  \n",
       "0           1        2    170      1          2  \n",
       "1           2        2    128      2          0  \n",
       "\n",
       "[2 rows x 37 columns]"
      ]
     },
     "execution_count": 213,
     "metadata": {},
     "output_type": "execute_result"
    }
   ],
   "source": [
    "# Copy ehresp data\n",
    "ehresp_file_name = 'ehresp' + '_' + str(year) + '.dat'\n",
    "ehresp = working_data[ehresp_file_name].copy()\n",
    "ehresp.head(2)"
   ]
  },
  {
   "cell_type": "code",
   "execution_count": 214,
   "metadata": {},
   "outputs": [
    {
     "data": {
      "text/plain": [
       "Index(['TUCASEID', 'TULINENO', 'EEINCOME1', 'ERBMI', 'ERHHCH', 'ERINCOME',\n",
       "       'ERSPEMCH', 'ERTPREAT', 'ERTSEAT', 'ETHGT', 'ETWGT', 'EUDIETSODA',\n",
       "       'EUDRINK', 'EUEAT', 'EUEXERCISE', 'EUEXFREQ', 'EUFASTFD', 'EUFASTFDFRQ',\n",
       "       'EUFFYDAY', 'EUFDSIT', 'EUFINLWGT', 'EUSNAP', 'EUGENHTH', 'EUGROSHP',\n",
       "       'EUHGT', 'EUINCLVL', 'EUINCOME2', 'EUMEAT', 'EUMILK', 'EUPRPMEL',\n",
       "       'EUSODA', 'EUSTORES', 'EUSTREASON', 'EUTHERM', 'EUWGT', 'EUWIC',\n",
       "       'EXINCOME1'],\n",
       "      dtype='object')"
      ]
     },
     "metadata": {},
     "output_type": "display_data"
    }
   ],
   "source": [
    "display(ehresp.columns)"
   ]
  },
  {
   "cell_type": "code",
   "execution_count": 215,
   "metadata": {},
   "outputs": [],
   "source": [
    "resp_columns_keep_a = [\n",
    "        'TUCASEID', 'EUFSP', 'EUGENHTH', 'EUHGT', 'EUINCOME2', 'ETWGT', 'ETHGT', 'EUFINLWGT', 'ERC19NUM',\n",
    "        'EXINCOME1', 'EEINCOME1', 'EUPRPMEL', 'EUGROSHP', 'ERTSEAT', 'ERTSDRK', 'ERTPREAT', 'EUDRINK', \n",
    "        'EUWGT', 'EUEAT', 'ERBMI', 'EREATAD', 'ERDRKAD'\n",
    "]\n",
    "\n",
    "resp_columns_keep_b = [\n",
    "        'TUCASEID', 'EUSNAP', 'EUGENHTH', 'EUHGT', 'EUINCOME2', 'ETWGT', 'ETHGT', 'EUFINLWGT',\n",
    "        'EXINCOME1', 'EEINCOME1', 'EUPRPMEL', 'EUGROSHP', 'ERTSEAT', 'ERTPREAT', 'EUDRINK', \n",
    "        'EUWGT', 'EUEAT', 'ERBMI', 'EUMEAT', 'EUSODA', 'EUEXFREQ', 'EUFASTFDFRQ', 'EUMILK',\n",
    "        'EUFFYDAY', 'EUDIETSODA'\n",
    "]\n",
    "\n",
    "name_map = {\n",
    "    'TUCASEID': 'case_id', \n",
    "    'EUFSP': 'snap_benefits',\n",
    "    'EUGENHTH': 'general_health',\n",
    "    'EUHGT': 'height_in',\n",
    "    'EUINCOME2': 'income_130_pov',\n",
    "    'ETWGT': 'topcode_weight',\n",
    "    'ETHGT': 'topcode_height',\n",
    "    'EUFINLWGT': 'statistical_weight',\n",
    "    'ERC19NUM': 'num_children', \n",
    "    'EXINCOME1': 'allocation_flag_income_185',\n",
    "    'EEINCOME1': 'income_185_pov', \n",
    "    'EUPRPMEL': 'meal_preparer', \n",
    "    'EUGROSHP': 'grocery_shopper',\n",
    "    'ERTSEAT': 'secondary_eating_duration', \n",
    "    'ERTSDRK': 'secondary_drinking_duration', \n",
    "    'ERTPREAT': 'primary_eating_duration', \n",
    "    'EUDRINK': 'secondary_drinking_day_prior',\n",
    "    'EUWGT': 'weight_lb', \n",
    "    'EUEAT': 'secondary_eating_day_prior', \n",
    "    'ERBMI': 'bmi', \n",
    "    'EREATAD': 'secondary_eating_all_day', \n",
    "    'ERDRKAD': 'secondary_drinking_all_day',\n",
    "}\n",
    "\n",
    "name_map_addition_2014 = {\n",
    "    'EUMEAT': 'prepare_meat_last_week',\n",
    "    'EUMILK': 'prepare_milk_last_week',\n",
    "    'EUSODA': 'drink_soda',\n",
    "    'EUDIETSODA': 'drink_diet_soda',\n",
    "    'EUEXFREQ': 'exercise_frequency_last_week',\n",
    "    'EUFASTFDFRQ': 'fast_food_frequency_last_week',\n",
    "    'EUFFYDAY': 'fast_food_yesterday',\n",
    "    'EUSNAP': 'snap_benefits',\n",
    "}\n",
    "\n",
    "name_map_removals_2014 = [\n",
    "    'EUFSP', 'ERTSDRK', 'ERDRKAD', 'EREATAD',\n",
    "]"
   ]
  },
  {
   "cell_type": "code",
   "execution_count": 216,
   "metadata": {},
   "outputs": [],
   "source": [
    "# Build name map\n",
    "rename_map = name_map\n",
    "if year in years_b:\n",
    "    rename_map.update(name_map_addition_2014)\n",
    "    for varname in name_map_removals_2014:\n",
    "        del rename_map[varname]"
   ]
  },
  {
   "cell_type": "code",
   "execution_count": 217,
   "metadata": {},
   "outputs": [],
   "source": [
    "# Select variable list\n",
    "if year in years_b:\n",
    "    columns_to_keep = resp_columns_keep_b\n",
    "elif year in years_a:\n",
    "    columns_to_keep = resp_columns_keep_a\n",
    "\n",
    "assert len(columns_to_keep) > 2"
   ]
  },
  {
   "cell_type": "code",
   "execution_count": 218,
   "metadata": {},
   "outputs": [],
   "source": [
    "# rename columns\n",
    "ehresp = ehresp[columns_to_keep].rename(columns=rename_map)"
   ]
  },
  {
   "cell_type": "code",
   "execution_count": 219,
   "metadata": {},
   "outputs": [
    {
     "data": {
      "text/plain": [
       "Index(['case_id', 'snap_benefits', 'general_health', 'height_in',\n",
       "       'income_130_pov', 'topcode_weight', 'topcode_height',\n",
       "       'statistical_weight', 'allocation_flag_income_185', 'income_185_pov',\n",
       "       'meal_preparer', 'grocery_shopper', 'secondary_eating_duration',\n",
       "       'primary_eating_duration', 'secondary_drinking_day_prior', 'weight_lb',\n",
       "       'secondary_eating_day_prior', 'bmi', 'prepare_meat_last_week',\n",
       "       'drink_soda', 'exercise_frequency_last_week',\n",
       "       'fast_food_frequency_last_week', 'prepare_milk_last_week',\n",
       "       'fast_food_yesterday', 'drink_diet_soda'],\n",
       "      dtype='object')"
      ]
     },
     "metadata": {},
     "output_type": "display_data"
    },
    {
     "data": {
      "text/plain": [
       "(11212, 25)"
      ]
     },
     "metadata": {},
     "output_type": "display_data"
    },
    {
     "data": {
      "text/plain": [
       "11212"
      ]
     },
     "metadata": {},
     "output_type": "display_data"
    },
    {
     "data": {
      "text/html": [
       "<div>\n",
       "<style scoped>\n",
       "    .dataframe tbody tr th:only-of-type {\n",
       "        vertical-align: middle;\n",
       "    }\n",
       "\n",
       "    .dataframe tbody tr th {\n",
       "        vertical-align: top;\n",
       "    }\n",
       "\n",
       "    .dataframe thead th {\n",
       "        text-align: right;\n",
       "    }\n",
       "</style>\n",
       "<table border=\"1\" class=\"dataframe\">\n",
       "  <thead>\n",
       "    <tr style=\"text-align: right;\">\n",
       "      <th></th>\n",
       "      <th>case_id</th>\n",
       "      <th>snap_benefits</th>\n",
       "      <th>general_health</th>\n",
       "      <th>height_in</th>\n",
       "      <th>income_130_pov</th>\n",
       "      <th>topcode_weight</th>\n",
       "      <th>topcode_height</th>\n",
       "      <th>statistical_weight</th>\n",
       "      <th>allocation_flag_income_185</th>\n",
       "      <th>income_185_pov</th>\n",
       "      <th>...</th>\n",
       "      <th>weight_lb</th>\n",
       "      <th>secondary_eating_day_prior</th>\n",
       "      <th>bmi</th>\n",
       "      <th>prepare_meat_last_week</th>\n",
       "      <th>drink_soda</th>\n",
       "      <th>exercise_frequency_last_week</th>\n",
       "      <th>fast_food_frequency_last_week</th>\n",
       "      <th>prepare_milk_last_week</th>\n",
       "      <th>fast_food_yesterday</th>\n",
       "      <th>drink_diet_soda</th>\n",
       "    </tr>\n",
       "  </thead>\n",
       "  <tbody>\n",
       "    <tr>\n",
       "      <td>0</td>\n",
       "      <td>20140101140007</td>\n",
       "      <td>1</td>\n",
       "      <td>1</td>\n",
       "      <td>60</td>\n",
       "      <td>-2</td>\n",
       "      <td>0</td>\n",
       "      <td>0</td>\n",
       "      <td>5.202085e+06</td>\n",
       "      <td>2</td>\n",
       "      <td>-2</td>\n",
       "      <td>...</td>\n",
       "      <td>170</td>\n",
       "      <td>1</td>\n",
       "      <td>33.2</td>\n",
       "      <td>1</td>\n",
       "      <td>-1</td>\n",
       "      <td>-1</td>\n",
       "      <td>-1</td>\n",
       "      <td>2</td>\n",
       "      <td>-1</td>\n",
       "      <td>-1</td>\n",
       "    </tr>\n",
       "    <tr>\n",
       "      <td>1</td>\n",
       "      <td>20140101140011</td>\n",
       "      <td>2</td>\n",
       "      <td>2</td>\n",
       "      <td>63</td>\n",
       "      <td>-1</td>\n",
       "      <td>0</td>\n",
       "      <td>0</td>\n",
       "      <td>2.939679e+07</td>\n",
       "      <td>0</td>\n",
       "      <td>1</td>\n",
       "      <td>...</td>\n",
       "      <td>128</td>\n",
       "      <td>1</td>\n",
       "      <td>22.7</td>\n",
       "      <td>1</td>\n",
       "      <td>-1</td>\n",
       "      <td>-1</td>\n",
       "      <td>1</td>\n",
       "      <td>2</td>\n",
       "      <td>2</td>\n",
       "      <td>-1</td>\n",
       "    </tr>\n",
       "  </tbody>\n",
       "</table>\n",
       "<p>2 rows × 25 columns</p>\n",
       "</div>"
      ],
      "text/plain": [
       "          case_id  snap_benefits  general_health  height_in  income_130_pov  \\\n",
       "0  20140101140007              1               1         60              -2   \n",
       "1  20140101140011              2               2         63              -1   \n",
       "\n",
       "   topcode_weight  topcode_height  statistical_weight  \\\n",
       "0               0               0        5.202085e+06   \n",
       "1               0               0        2.939679e+07   \n",
       "\n",
       "   allocation_flag_income_185  income_185_pov  ...  weight_lb  \\\n",
       "0                           2              -2  ...        170   \n",
       "1                           0               1  ...        128   \n",
       "\n",
       "   secondary_eating_day_prior   bmi  prepare_meat_last_week  drink_soda  \\\n",
       "0                           1  33.2                       1          -1   \n",
       "1                           1  22.7                       1          -1   \n",
       "\n",
       "   exercise_frequency_last_week  fast_food_frequency_last_week  \\\n",
       "0                            -1                             -1   \n",
       "1                            -1                              1   \n",
       "\n",
       "   prepare_milk_last_week  fast_food_yesterday  drink_diet_soda  \n",
       "0                       2                   -1               -1  \n",
       "1                       2                    2               -1  \n",
       "\n",
       "[2 rows x 25 columns]"
      ]
     },
     "metadata": {},
     "output_type": "display_data"
    }
   ],
   "source": [
    "# review changes\n",
    "display(ehresp.columns, ehresp.shape, ehresp.case_id.nunique(), ehresp.head(2))"
   ]
  },
  {
   "cell_type": "code",
   "execution_count": 220,
   "metadata": {},
   "outputs": [
    {
     "data": {
      "text/plain": [
       "Int64Index([20140101140007, 20140101140011, 20140101140028, 20140101140063,\n",
       "            20140101140168, 20140101140559, 20140101140610, 20140101140614,\n",
       "            20140101140639, 20140101140665,\n",
       "            ...\n",
       "            20141212142422, 20141212142441, 20141212142461, 20141212142462,\n",
       "            20141212142470, 20141212142472, 20141212142476, 20141212142480,\n",
       "            20141212142484, 20141212142500],\n",
       "           dtype='int64', name='case_id', length=11212)"
      ]
     },
     "execution_count": 220,
     "metadata": {},
     "output_type": "execute_result"
    }
   ],
   "source": [
    "# set index to case_id - assert that case_id's must be unique via shape[0] = case_id.nunique()\n",
    "assert ehresp.shape[0] == ehresp.case_id.nunique()\n",
    "ehresp.index = ehresp.case_id\n",
    "ehresp = ehresp.drop(columns='case_id')\n",
    "ehresp.index.set_names('case_id')"
   ]
  },
  {
   "cell_type": "code",
   "execution_count": 221,
   "metadata": {},
   "outputs": [
    {
     "data": {
      "text/plain": [
       "array([ 1.,  0., nan])"
      ]
     },
     "metadata": {},
     "output_type": "display_data"
    }
   ],
   "source": [
    "# Check SNAP benefits for valid data\n",
    "# EUFSP: snap_benefits (1: yes; 2: no recode to --> 0: no; 1: yes)\n",
    "ehresp.snap_benefits = abs(ehresp.snap_benefits - 2)\n",
    "\n",
    "# Pass through value check\n",
    "ehresp.snap_benefits = ehresp.snap_benefits.apply(value_check, args = (0,1,True))\n",
    "display(ehresp.snap_benefits.unique())"
   ]
  },
  {
   "cell_type": "code",
   "execution_count": 222,
   "metadata": {},
   "outputs": [],
   "source": [
    "# Recode general_health\n",
    "# general_health (current = 1: excellent; 2: very good; 3: good; 4: fair; 5: poor || inverted = 1. poor...5. excellent)\n",
    "ehresp.general_health = abs(ehresp.general_health-5)+1"
   ]
  },
  {
   "cell_type": "code",
   "execution_count": 223,
   "metadata": {},
   "outputs": [],
   "source": [
    "# Topcode/Bottomcode adjustments\n",
    "# Not completing in v1.  Columns dropped\n",
    "ehresp = ehresp.drop(columns=['topcode_weight', 'topcode_height',])"
   ]
  },
  {
   "cell_type": "code",
   "execution_count": 224,
   "metadata": {},
   "outputs": [],
   "source": [
    "# Set missing BMI values to NaN\n",
    "ehresp.bmi = ehresp.bmi.apply(value_check, args=(1,200,True))"
   ]
  },
  {
   "cell_type": "code",
   "execution_count": 225,
   "metadata": {},
   "outputs": [],
   "source": [
    "# Set missing, out of range, weight values to NaN\n",
    "ehresp.weight_lb = ehresp.weight_lb.apply(value_check, args=(1,500,True))"
   ]
  },
  {
   "cell_type": "code",
   "execution_count": 226,
   "metadata": {},
   "outputs": [],
   "source": [
    "#EUPRPMEL: meal_preparer (1: yes; 2: no; 3: split with others) Consider categorical encoding\n",
    "#EUGROSHP: grocery_shopper (1: yes; 2: no; 3: split equally) Consider categorical encoding\n",
    "\n",
    "# First, clean meta values from series\n",
    "ehresp.meal_preparer = ehresp.meal_preparer.apply(value_check, args=(1,3,False))\n",
    "ehresp.grocery_shopper = ehresp.grocery_shopper.apply(value_check, args=(1,3,False))\n",
    "\n",
    "# There is an ordinal meaning in these categories. The responder has assistance in 2, 3 but not in 1.\n",
    "# 2, 'no', implies 100% assistance in meal and grocer activities. 3 implies ~50% or greater assistance.\n",
    "# Here, I revolve 2 and 3 to better associate implicit assistance\n",
    "\n",
    "def flip_num(x):\n",
    "    lookup = {\n",
    "        1: 1,\n",
    "        2: 3,\n",
    "        3: 2,\n",
    "        0: np.nan,\n",
    "    }\n",
    "    return lookup[x]\n",
    "\n",
    "ehresp.meal_preparer = ehresp.meal_preparer.apply(flip_num)\n",
    "ehresp.grocery_shopper = ehresp.grocery_shopper.apply(flip_num)"
   ]
  },
  {
   "cell_type": "code",
   "execution_count": 227,
   "metadata": {},
   "outputs": [
    {
     "data": {
      "text/plain": [
       "array([ 0.,  1., nan])"
      ]
     },
     "metadata": {},
     "output_type": "display_data"
    },
    {
     "data": {
      "text/plain": [
       "array([ 1.,  0., nan])"
      ]
     },
     "metadata": {},
     "output_type": "display_data"
    }
   ],
   "source": [
    "# EUDRINK: secondary_drinking_day_prior\n",
    "# EUEAT: seondary_eating_day_prior (1: yes; 2: no recode to --> 0: no; 1: yes)\n",
    "\n",
    "# First, clean meta values from series\n",
    "ehresp.secondary_drinking_day_prior = ehresp.secondary_drinking_day_prior.apply(value_check, args=(1,2,False))\n",
    "ehresp.secondary_eating_day_prior = ehresp.secondary_eating_day_prior.apply(value_check, args=(1,2,False))\n",
    "\n",
    "# Recode\n",
    "ehresp.secondary_drinking_day_prior = abs(ehresp.secondary_drinking_day_prior - 2)\n",
    "ehresp.secondary_eating_day_prior = abs(ehresp.secondary_eating_day_prior - 2)\n",
    "\n",
    "# Set meta values to NaN\n",
    "ehresp.secondary_drinking_day_prior = ehresp.secondary_drinking_day_prior.apply(value_check, args=(0,1,True))\n",
    "ehresp.secondary_eating_day_prior = ehresp.secondary_eating_day_prior.apply(value_check, args=(0,1,True))\n",
    "\n",
    "display(ehresp.secondary_drinking_day_prior.unique(), ehresp.secondary_eating_day_prior.unique())"
   ]
  },
  {
   "cell_type": "code",
   "execution_count": 228,
   "metadata": {},
   "outputs": [
    {
     "name": "stdout",
     "output_type": "stream",
     "text": [
      "Secondary Eating/Drinking All Day Not Present\n"
     ]
    }
   ],
   "source": [
    "# EREATAD: secondary_eating_all_day (1: yes; 2: no recode to --> 0: no; 1: yes)\n",
    "# ERDRKAD: secondary_drinking_all_day (1: yes; 2: no recode to --> 0: no; 1: yes)\n",
    "\n",
    "try:\n",
    "    # Cycle values to 0,1\n",
    "    ehresp.secondary_eating_all_day = abs(ehresp.secondary_eating_all_day - 2)\n",
    "    ehresp.secondary_drinking_all_day = abs(ehresp.secondary_drinking_all_day - 2)\n",
    "\n",
    "    # Set meta values to NaN\n",
    "    ehresp.secondary_eating_all_day = ehresp.secondary_eating_all_day.apply(value_check, args=(0,1,True))\n",
    "    ehresp.secondary_drinking_all_day = ehresp.secondary_drinking_all_day.apply(value_check, args=(0,1,True))\n",
    "    \n",
    "    display(ehresp.secondary_eating_all_day.unique(), ehresp.secondary_drinking_all_day.unique())\n",
    "    \n",
    "except AttributeError:\n",
    "    print('Secondary Eating/Drinking All Day Not Present')"
   ]
  },
  {
   "cell_type": "code",
   "execution_count": 229,
   "metadata": {},
   "outputs": [],
   "source": [
    "# Check for valid allocation codes: for income_185_pov\n",
    "ehresp.allocation_flag_income_185 = ehresp.allocation_flag_income_185.apply(allocation_check)\n",
    "\n",
    "# Multiply through to zero out any invalid data\n",
    "ehresp.income_185_pov = ehresp.income_185_pov * ehresp.allocation_flag_income_185\n",
    "ehresp = ehresp.drop(columns='allocation_flag_income_185')\n",
    "\n",
    "# Pass validated data through value check to set out of range values to NaN\n",
    "ehresp.income_185_pov = ehresp.income_185_pov.apply(value_check, args=(1,2,True))"
   ]
  },
  {
   "cell_type": "code",
   "execution_count": 230,
   "metadata": {},
   "outputs": [],
   "source": [
    "# Pass validated data through value check to set out of range values to NaN: income_130_pov\n",
    "ehresp.income_130_pov = ehresp.income_130_pov.apply(value_check, args=(1,2,True))"
   ]
  },
  {
   "cell_type": "code",
   "execution_count": 231,
   "metadata": {},
   "outputs": [],
   "source": [
    "# Define transformations for 2014-2016 datasets\n",
    "\n",
    "def recode_exercise_frequency_last_week(df):\n",
    "    df.exercise_frequency_last_week = df.exercise_frequency_last_week.apply(value_check, args=(1,97,False))\n",
    "    \n",
    "def recode_fast_food_frequency_last_week(df):\n",
    "    df.fast_food_frequency_last_week = df.fast_food_frequency_last_week.apply(value_check, args=(1,95,False))\n",
    "\n",
    "def recode_fast_food_yesterday(df):\n",
    "    df.fast_food_yesterday = abs(df.fast_food_yesterday - 2)\n",
    "    \n",
    "def recode_prepare_meat_last_week(df):\n",
    "    df.prepare_meat_last_week = abs(df.prepare_meat_last_week - 2)\n",
    "    df.prepare_meat_last_week = df.prepare_meat_last_week.apply(value_check, args=(0,1,True))\n",
    "\n",
    "def recode_prepare_milk_last_week(df):\n",
    "    df.prepare_milk_last_week = abs(df.prepare_milk_last_week - 2)\n",
    "    df.prepare_milk_last_week = df.prepare_milk_last_week.apply(value_check, args=(0,1,True))\n",
    "    \n",
    "def recode_drink_soda(df):\n",
    "    df.drink_soda = abs(df.drink_soda - 2)\n",
    "    df.drink_soda = df.drink_soda.apply(value_check, args=(0,1,True))\n",
    "\n",
    "def recode_drink_diet_soda(df):\n",
    "    lookup_table = {\n",
    "            1: 1,\n",
    "            2: 0,\n",
    "            3: 1,\n",
    "        }\n",
    "    \n",
    "    def is_expected_key(key):\n",
    "        if key in lookup_table.keys():\n",
    "            return True\n",
    "        return False\n",
    "    \n",
    "    def compress_diet_soda_values(x):\n",
    "        if is_expected_key(x):\n",
    "            return lookup_table[x]\n",
    "        else:\n",
    "            return np.nan\n",
    "    \n",
    "    df.drink_diet_soda = df.drink_diet_soda.apply(compress_diet_soda_values)\n",
    "    "
   ]
  },
  {
   "cell_type": "code",
   "execution_count": 232,
   "metadata": {},
   "outputs": [
    {
     "name": "stdout",
     "output_type": "stream",
     "text": [
      "Encoding Complete\n"
     ]
    }
   ],
   "source": [
    "# Apply 2014-2016 coding if appropriate\n",
    "if year in years_b:\n",
    "    recode_fast_food_yesterday(ehresp)\n",
    "    recode_exercise_frequency_last_week(ehresp)\n",
    "    recode_fast_food_frequency_last_week(ehresp)\n",
    "    recode_prepare_meat_last_week(ehresp)\n",
    "    recode_prepare_milk_last_week(ehresp)\n",
    "    recode_drink_soda(ehresp)\n",
    "    recode_drink_diet_soda(ehresp)\n",
    "    print('Encoding Complete')\n",
    "else:\n",
    "    print('No Encoding Applied to Dataset')\n",
    "    "
   ]
  },
  {
   "cell_type": "code",
   "execution_count": 233,
   "metadata": {},
   "outputs": [
    {
     "data": {
      "text/html": [
       "<div>\n",
       "<style scoped>\n",
       "    .dataframe tbody tr th:only-of-type {\n",
       "        vertical-align: middle;\n",
       "    }\n",
       "\n",
       "    .dataframe tbody tr th {\n",
       "        vertical-align: top;\n",
       "    }\n",
       "\n",
       "    .dataframe thead th {\n",
       "        text-align: right;\n",
       "    }\n",
       "</style>\n",
       "<table border=\"1\" class=\"dataframe\">\n",
       "  <thead>\n",
       "    <tr style=\"text-align: right;\">\n",
       "      <th></th>\n",
       "      <th>snap_benefits</th>\n",
       "      <th>general_health</th>\n",
       "      <th>height_in</th>\n",
       "      <th>income_130_pov</th>\n",
       "      <th>statistical_weight</th>\n",
       "      <th>income_185_pov</th>\n",
       "      <th>meal_preparer</th>\n",
       "      <th>grocery_shopper</th>\n",
       "      <th>secondary_eating_duration</th>\n",
       "      <th>primary_eating_duration</th>\n",
       "      <th>...</th>\n",
       "      <th>weight_lb</th>\n",
       "      <th>secondary_eating_day_prior</th>\n",
       "      <th>bmi</th>\n",
       "      <th>prepare_meat_last_week</th>\n",
       "      <th>drink_soda</th>\n",
       "      <th>exercise_frequency_last_week</th>\n",
       "      <th>fast_food_frequency_last_week</th>\n",
       "      <th>prepare_milk_last_week</th>\n",
       "      <th>fast_food_yesterday</th>\n",
       "      <th>drink_diet_soda</th>\n",
       "    </tr>\n",
       "    <tr>\n",
       "      <th>case_id</th>\n",
       "      <th></th>\n",
       "      <th></th>\n",
       "      <th></th>\n",
       "      <th></th>\n",
       "      <th></th>\n",
       "      <th></th>\n",
       "      <th></th>\n",
       "      <th></th>\n",
       "      <th></th>\n",
       "      <th></th>\n",
       "      <th></th>\n",
       "      <th></th>\n",
       "      <th></th>\n",
       "      <th></th>\n",
       "      <th></th>\n",
       "      <th></th>\n",
       "      <th></th>\n",
       "      <th></th>\n",
       "      <th></th>\n",
       "      <th></th>\n",
       "      <th></th>\n",
       "    </tr>\n",
       "  </thead>\n",
       "  <tbody>\n",
       "    <tr>\n",
       "      <td>20140101140007</td>\n",
       "      <td>1.0</td>\n",
       "      <td>5</td>\n",
       "      <td>60</td>\n",
       "      <td>NaN</td>\n",
       "      <td>5.202085e+06</td>\n",
       "      <td>NaN</td>\n",
       "      <td>1.0</td>\n",
       "      <td>1.0</td>\n",
       "      <td>2</td>\n",
       "      <td>30</td>\n",
       "      <td>...</td>\n",
       "      <td>170.0</td>\n",
       "      <td>1.0</td>\n",
       "      <td>33.2</td>\n",
       "      <td>1.0</td>\n",
       "      <td>NaN</td>\n",
       "      <td>0</td>\n",
       "      <td>0</td>\n",
       "      <td>0.0</td>\n",
       "      <td>3</td>\n",
       "      <td>NaN</td>\n",
       "    </tr>\n",
       "    <tr>\n",
       "      <td>20140101140011</td>\n",
       "      <td>0.0</td>\n",
       "      <td>4</td>\n",
       "      <td>63</td>\n",
       "      <td>NaN</td>\n",
       "      <td>2.939679e+07</td>\n",
       "      <td>1.0</td>\n",
       "      <td>1.0</td>\n",
       "      <td>2.0</td>\n",
       "      <td>14</td>\n",
       "      <td>45</td>\n",
       "      <td>...</td>\n",
       "      <td>128.0</td>\n",
       "      <td>1.0</td>\n",
       "      <td>22.7</td>\n",
       "      <td>1.0</td>\n",
       "      <td>NaN</td>\n",
       "      <td>0</td>\n",
       "      <td>1</td>\n",
       "      <td>0.0</td>\n",
       "      <td>0</td>\n",
       "      <td>NaN</td>\n",
       "    </tr>\n",
       "    <tr>\n",
       "      <td>20140101140028</td>\n",
       "      <td>0.0</td>\n",
       "      <td>1</td>\n",
       "      <td>62</td>\n",
       "      <td>2.0</td>\n",
       "      <td>2.600994e+07</td>\n",
       "      <td>2.0</td>\n",
       "      <td>3.0</td>\n",
       "      <td>3.0</td>\n",
       "      <td>0</td>\n",
       "      <td>60</td>\n",
       "      <td>...</td>\n",
       "      <td>270.0</td>\n",
       "      <td>0.0</td>\n",
       "      <td>49.4</td>\n",
       "      <td>NaN</td>\n",
       "      <td>0.0</td>\n",
       "      <td>0</td>\n",
       "      <td>0</td>\n",
       "      <td>NaN</td>\n",
       "      <td>3</td>\n",
       "      <td>NaN</td>\n",
       "    </tr>\n",
       "    <tr>\n",
       "      <td>20140101140063</td>\n",
       "      <td>0.0</td>\n",
       "      <td>4</td>\n",
       "      <td>64</td>\n",
       "      <td>NaN</td>\n",
       "      <td>2.728880e+06</td>\n",
       "      <td>NaN</td>\n",
       "      <td>1.0</td>\n",
       "      <td>1.0</td>\n",
       "      <td>0</td>\n",
       "      <td>0</td>\n",
       "      <td>...</td>\n",
       "      <td>NaN</td>\n",
       "      <td>0.0</td>\n",
       "      <td>NaN</td>\n",
       "      <td>0.0</td>\n",
       "      <td>1.0</td>\n",
       "      <td>0</td>\n",
       "      <td>0</td>\n",
       "      <td>0.0</td>\n",
       "      <td>3</td>\n",
       "      <td>0.0</td>\n",
       "    </tr>\n",
       "    <tr>\n",
       "      <td>20140101140168</td>\n",
       "      <td>1.0</td>\n",
       "      <td>2</td>\n",
       "      <td>69</td>\n",
       "      <td>2.0</td>\n",
       "      <td>1.752715e+07</td>\n",
       "      <td>2.0</td>\n",
       "      <td>1.0</td>\n",
       "      <td>1.0</td>\n",
       "      <td>0</td>\n",
       "      <td>65</td>\n",
       "      <td>...</td>\n",
       "      <td>210.0</td>\n",
       "      <td>0.0</td>\n",
       "      <td>31.0</td>\n",
       "      <td>1.0</td>\n",
       "      <td>0.0</td>\n",
       "      <td>5</td>\n",
       "      <td>0</td>\n",
       "      <td>0.0</td>\n",
       "      <td>3</td>\n",
       "      <td>NaN</td>\n",
       "    </tr>\n",
       "  </tbody>\n",
       "</table>\n",
       "<p>5 rows × 21 columns</p>\n",
       "</div>"
      ],
      "text/plain": [
       "                snap_benefits  general_health  height_in  income_130_pov  \\\n",
       "case_id                                                                    \n",
       "20140101140007            1.0               5         60             NaN   \n",
       "20140101140011            0.0               4         63             NaN   \n",
       "20140101140028            0.0               1         62             2.0   \n",
       "20140101140063            0.0               4         64             NaN   \n",
       "20140101140168            1.0               2         69             2.0   \n",
       "\n",
       "                statistical_weight  income_185_pov  meal_preparer  \\\n",
       "case_id                                                             \n",
       "20140101140007        5.202085e+06             NaN            1.0   \n",
       "20140101140011        2.939679e+07             1.0            1.0   \n",
       "20140101140028        2.600994e+07             2.0            3.0   \n",
       "20140101140063        2.728880e+06             NaN            1.0   \n",
       "20140101140168        1.752715e+07             2.0            1.0   \n",
       "\n",
       "                grocery_shopper  secondary_eating_duration  \\\n",
       "case_id                                                      \n",
       "20140101140007              1.0                          2   \n",
       "20140101140011              2.0                         14   \n",
       "20140101140028              3.0                          0   \n",
       "20140101140063              1.0                          0   \n",
       "20140101140168              1.0                          0   \n",
       "\n",
       "                primary_eating_duration  ...  weight_lb  \\\n",
       "case_id                                  ...              \n",
       "20140101140007                       30  ...      170.0   \n",
       "20140101140011                       45  ...      128.0   \n",
       "20140101140028                       60  ...      270.0   \n",
       "20140101140063                        0  ...        NaN   \n",
       "20140101140168                       65  ...      210.0   \n",
       "\n",
       "                secondary_eating_day_prior   bmi  prepare_meat_last_week  \\\n",
       "case_id                                                                    \n",
       "20140101140007                         1.0  33.2                     1.0   \n",
       "20140101140011                         1.0  22.7                     1.0   \n",
       "20140101140028                         0.0  49.4                     NaN   \n",
       "20140101140063                         0.0   NaN                     0.0   \n",
       "20140101140168                         0.0  31.0                     1.0   \n",
       "\n",
       "                drink_soda  exercise_frequency_last_week  \\\n",
       "case_id                                                    \n",
       "20140101140007         NaN                             0   \n",
       "20140101140011         NaN                             0   \n",
       "20140101140028         0.0                             0   \n",
       "20140101140063         1.0                             0   \n",
       "20140101140168         0.0                             5   \n",
       "\n",
       "                fast_food_frequency_last_week  prepare_milk_last_week  \\\n",
       "case_id                                                                 \n",
       "20140101140007                              0                     0.0   \n",
       "20140101140011                              1                     0.0   \n",
       "20140101140028                              0                     NaN   \n",
       "20140101140063                              0                     0.0   \n",
       "20140101140168                              0                     0.0   \n",
       "\n",
       "                fast_food_yesterday  drink_diet_soda  \n",
       "case_id                                               \n",
       "20140101140007                    3              NaN  \n",
       "20140101140011                    0              NaN  \n",
       "20140101140028                    3              NaN  \n",
       "20140101140063                    3              0.0  \n",
       "20140101140168                    3              NaN  \n",
       "\n",
       "[5 rows x 21 columns]"
      ]
     },
     "execution_count": 233,
     "metadata": {},
     "output_type": "execute_result"
    }
   ],
   "source": [
    "ehresp.head()"
   ]
  },
  {
   "cell_type": "markdown",
   "metadata": {},
   "source": [
    "# Export cleaned, engineered, set"
   ]
  },
  {
   "cell_type": "code",
   "execution_count": 235,
   "metadata": {},
   "outputs": [
    {
     "data": {
      "text/plain": [
       "(11212, 23)"
      ]
     },
     "metadata": {},
     "output_type": "display_data"
    },
    {
     "data": {
      "text/html": [
       "<div>\n",
       "<style scoped>\n",
       "    .dataframe tbody tr th:only-of-type {\n",
       "        vertical-align: middle;\n",
       "    }\n",
       "\n",
       "    .dataframe tbody tr th {\n",
       "        vertical-align: top;\n",
       "    }\n",
       "\n",
       "    .dataframe thead th {\n",
       "        text-align: right;\n",
       "    }\n",
       "</style>\n",
       "<table border=\"1\" class=\"dataframe\">\n",
       "  <thead>\n",
       "    <tr style=\"text-align: right;\">\n",
       "      <th></th>\n",
       "      <th>snap_benefits</th>\n",
       "      <th>general_health</th>\n",
       "      <th>height_in</th>\n",
       "      <th>income_130_pov</th>\n",
       "      <th>statistical_weight</th>\n",
       "      <th>income_185_pov</th>\n",
       "      <th>meal_preparer</th>\n",
       "      <th>grocery_shopper</th>\n",
       "      <th>secondary_eating_duration</th>\n",
       "      <th>primary_eating_duration</th>\n",
       "      <th>...</th>\n",
       "      <th>bmi</th>\n",
       "      <th>prepare_meat_last_week</th>\n",
       "      <th>drink_soda</th>\n",
       "      <th>exercise_frequency_last_week</th>\n",
       "      <th>fast_food_frequency_last_week</th>\n",
       "      <th>prepare_milk_last_week</th>\n",
       "      <th>fast_food_yesterday</th>\n",
       "      <th>drink_diet_soda</th>\n",
       "      <th>eating_duration_24</th>\n",
       "      <th>activity_list</th>\n",
       "    </tr>\n",
       "    <tr>\n",
       "      <th>case_id</th>\n",
       "      <th></th>\n",
       "      <th></th>\n",
       "      <th></th>\n",
       "      <th></th>\n",
       "      <th></th>\n",
       "      <th></th>\n",
       "      <th></th>\n",
       "      <th></th>\n",
       "      <th></th>\n",
       "      <th></th>\n",
       "      <th></th>\n",
       "      <th></th>\n",
       "      <th></th>\n",
       "      <th></th>\n",
       "      <th></th>\n",
       "      <th></th>\n",
       "      <th></th>\n",
       "      <th></th>\n",
       "      <th></th>\n",
       "      <th></th>\n",
       "      <th></th>\n",
       "    </tr>\n",
       "  </thead>\n",
       "  <tbody>\n",
       "    <tr>\n",
       "      <td>20140101140007</td>\n",
       "      <td>1.0</td>\n",
       "      <td>5</td>\n",
       "      <td>60</td>\n",
       "      <td>NaN</td>\n",
       "      <td>5.202085e+06</td>\n",
       "      <td>NaN</td>\n",
       "      <td>1.0</td>\n",
       "      <td>1.0</td>\n",
       "      <td>2</td>\n",
       "      <td>30</td>\n",
       "      <td>...</td>\n",
       "      <td>33.2</td>\n",
       "      <td>1.0</td>\n",
       "      <td>NaN</td>\n",
       "      <td>0</td>\n",
       "      <td>0</td>\n",
       "      <td>0.0</td>\n",
       "      <td>3</td>\n",
       "      <td>NaN</td>\n",
       "      <td>2.0</td>\n",
       "      <td>7</td>\n",
       "    </tr>\n",
       "    <tr>\n",
       "      <td>20140101140011</td>\n",
       "      <td>0.0</td>\n",
       "      <td>4</td>\n",
       "      <td>63</td>\n",
       "      <td>NaN</td>\n",
       "      <td>2.939679e+07</td>\n",
       "      <td>1.0</td>\n",
       "      <td>1.0</td>\n",
       "      <td>2.0</td>\n",
       "      <td>14</td>\n",
       "      <td>45</td>\n",
       "      <td>...</td>\n",
       "      <td>22.7</td>\n",
       "      <td>1.0</td>\n",
       "      <td>NaN</td>\n",
       "      <td>0</td>\n",
       "      <td>1</td>\n",
       "      <td>0.0</td>\n",
       "      <td>0</td>\n",
       "      <td>NaN</td>\n",
       "      <td>14.0</td>\n",
       "      <td>6,7,11</td>\n",
       "    </tr>\n",
       "    <tr>\n",
       "      <td>20140101140028</td>\n",
       "      <td>0.0</td>\n",
       "      <td>1</td>\n",
       "      <td>62</td>\n",
       "      <td>2.0</td>\n",
       "      <td>2.600994e+07</td>\n",
       "      <td>2.0</td>\n",
       "      <td>3.0</td>\n",
       "      <td>3.0</td>\n",
       "      <td>0</td>\n",
       "      <td>60</td>\n",
       "      <td>...</td>\n",
       "      <td>49.4</td>\n",
       "      <td>NaN</td>\n",
       "      <td>0.0</td>\n",
       "      <td>0</td>\n",
       "      <td>0</td>\n",
       "      <td>NaN</td>\n",
       "      <td>3</td>\n",
       "      <td>NaN</td>\n",
       "      <td>NaN</td>\n",
       "      <td>NaN</td>\n",
       "    </tr>\n",
       "  </tbody>\n",
       "</table>\n",
       "<p>3 rows × 23 columns</p>\n",
       "</div>"
      ],
      "text/plain": [
       "                snap_benefits  general_health  height_in  income_130_pov  \\\n",
       "case_id                                                                    \n",
       "20140101140007            1.0               5         60             NaN   \n",
       "20140101140011            0.0               4         63             NaN   \n",
       "20140101140028            0.0               1         62             2.0   \n",
       "\n",
       "                statistical_weight  income_185_pov  meal_preparer  \\\n",
       "case_id                                                             \n",
       "20140101140007        5.202085e+06             NaN            1.0   \n",
       "20140101140011        2.939679e+07             1.0            1.0   \n",
       "20140101140028        2.600994e+07             2.0            3.0   \n",
       "\n",
       "                grocery_shopper  secondary_eating_duration  \\\n",
       "case_id                                                      \n",
       "20140101140007              1.0                          2   \n",
       "20140101140011              2.0                         14   \n",
       "20140101140028              3.0                          0   \n",
       "\n",
       "                primary_eating_duration  ...   bmi  prepare_meat_last_week  \\\n",
       "case_id                                  ...                                 \n",
       "20140101140007                       30  ...  33.2                     1.0   \n",
       "20140101140011                       45  ...  22.7                     1.0   \n",
       "20140101140028                       60  ...  49.4                     NaN   \n",
       "\n",
       "                drink_soda  exercise_frequency_last_week  \\\n",
       "case_id                                                    \n",
       "20140101140007         NaN                             0   \n",
       "20140101140011         NaN                             0   \n",
       "20140101140028         0.0                             0   \n",
       "\n",
       "                fast_food_frequency_last_week  prepare_milk_last_week  \\\n",
       "case_id                                                                 \n",
       "20140101140007                              0                     0.0   \n",
       "20140101140011                              1                     0.0   \n",
       "20140101140028                              0                     NaN   \n",
       "\n",
       "                fast_food_yesterday  drink_diet_soda  eating_duration_24  \\\n",
       "case_id                                                                    \n",
       "20140101140007                    3              NaN                 2.0   \n",
       "20140101140011                    0              NaN                14.0   \n",
       "20140101140028                    3              NaN                 NaN   \n",
       "\n",
       "                activity_list  \n",
       "case_id                        \n",
       "20140101140007              7  \n",
       "20140101140011         6,7,11  \n",
       "20140101140028            NaN  \n",
       "\n",
       "[3 rows x 23 columns]"
      ]
     },
     "metadata": {},
     "output_type": "display_data"
    }
   ],
   "source": [
    "# Combine all data\n",
    "df_join_2 = ehresp.join(df_join_1)\n",
    "display(df_join_2.shape, df_join_2.head(3))"
   ]
  },
  {
   "cell_type": "code",
   "execution_count": 236,
   "metadata": {},
   "outputs": [],
   "source": [
    "# Append year\n",
    "df_join_2['year'] = year"
   ]
  },
  {
   "cell_type": "code",
   "execution_count": 237,
   "metadata": {},
   "outputs": [],
   "source": [
    "df_join_2.to_csv(path_or_buf=output_file_name)"
   ]
  },
  {
   "cell_type": "code",
   "execution_count": null,
   "metadata": {},
   "outputs": [],
   "source": []
  }
 ],
 "metadata": {
  "kernelspec": {
   "display_name": "Python 3",
   "language": "python",
   "name": "python3"
  },
  "language_info": {
   "codemirror_mode": {
    "name": "ipython",
    "version": 3
   },
   "file_extension": ".py",
   "mimetype": "text/x-python",
   "name": "python",
   "nbconvert_exporter": "python",
   "pygments_lexer": "ipython3",
   "version": "3.7.4"
  }
 },
 "nbformat": 4,
 "nbformat_minor": 4
}
